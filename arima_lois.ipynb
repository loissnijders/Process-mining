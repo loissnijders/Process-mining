{
  "nbformat": 4,
  "nbformat_minor": 0,
  "metadata": {
    "colab": {
      "name": "arima_lois.ipynb",
      "provenance": [],
      "collapsed_sections": [],
      "machine_shape": "hm",
      "include_colab_link": true
    },
    "kernelspec": {
      "name": "python3",
      "display_name": "Python 3"
    },
    "language_info": {
      "name": "python"
    }
  },
  "cells": [
    {
      "cell_type": "markdown",
      "metadata": {
        "id": "view-in-github",
        "colab_type": "text"
      },
      "source": [
        "<a href=\"https://colab.research.google.com/github/loissnijders/Process-mining/blob/main/arima_lois.ipynb\" target=\"_parent\"><img src=\"https://colab.research.google.com/assets/colab-badge.svg\" alt=\"Open In Colab\"/></a>"
      ]
    },
    {
      "cell_type": "code",
      "execution_count": 1,
      "metadata": {
        "id": "nF-fIksyHVwp"
      },
      "outputs": [],
      "source": [
        "from google.colab import drive"
      ]
    },
    {
      "cell_type": "code",
      "source": [
        "import io\n",
        "import pandas as pd\n",
        "import re\n",
        "from datetime import timedelta\n",
        "import numpy as np"
      ],
      "metadata": {
        "id": "AEQhnEysJvRI"
      },
      "execution_count": 2,
      "outputs": []
    },
    {
      "cell_type": "code",
      "source": [
        "!wget -O training.csv https://surfdrive.surf.nl/files/index.php/s/aNVxBfvZl273kKN/download   \n",
        "!wget -O test.csv https://surfdrive.surf.nl/files/index.php/s/0lJ3j0RlMeychGj/download   \n",
        "\n",
        "\n",
        "path_test = '/content/test.csv'\n",
        "path_train = '/content/training.csv'"
      ],
      "metadata": {
        "colab": {
          "base_uri": "https://localhost:8080/"
        },
        "id": "cssUYHZgAczY",
        "outputId": "998fa8c4-d897-440a-a401-08df207d693e"
      },
      "execution_count": 3,
      "outputs": [
        {
          "output_type": "stream",
          "name": "stdout",
          "text": [
            "--2022-03-16 13:44:24--  https://surfdrive.surf.nl/files/index.php/s/aNVxBfvZl273kKN/download\n",
            "Resolving surfdrive.surf.nl (surfdrive.surf.nl)... 145.100.27.67, 2001:610:108:203b:0:a11:da7a:5afe\n",
            "Connecting to surfdrive.surf.nl (surfdrive.surf.nl)|145.100.27.67|:443... connected.\n",
            "HTTP request sent, awaiting response... 200 OK\n",
            "Length: 26049572 (25M) [text/csv]\n",
            "Saving to: ‘training.csv’\n",
            "\n",
            "training.csv        100%[===================>]  24.84M  17.7MB/s    in 1.4s    \n",
            "\n",
            "2022-03-16 13:44:26 (17.7 MB/s) - ‘training.csv’ saved [26049572/26049572]\n",
            "\n",
            "--2022-03-16 13:44:26--  https://surfdrive.surf.nl/files/index.php/s/0lJ3j0RlMeychGj/download\n",
            "Resolving surfdrive.surf.nl (surfdrive.surf.nl)... 145.100.27.67, 2001:610:108:203b:0:a11:da7a:5afe\n",
            "Connecting to surfdrive.surf.nl (surfdrive.surf.nl)|145.100.27.67|:443... connected.\n",
            "HTTP request sent, awaiting response... 200 OK\n",
            "Length: 5819692 (5.5M) [text/csv]\n",
            "Saving to: ‘test.csv’\n",
            "\n",
            "test.csv            100%[===================>]   5.55M  6.68MB/s    in 0.8s    \n",
            "\n",
            "2022-03-16 13:44:28 (6.68 MB/s) - ‘test.csv’ saved [5819692/5819692]\n",
            "\n"
          ]
        }
      ]
    },
    {
      "cell_type": "code",
      "source": [
        "path_test = '/content/test.csv'\n",
        "path_train = '/content/training.csv'"
      ],
      "metadata": {
        "id": "uhM1ndeM-Gzs"
      },
      "execution_count": 4,
      "outputs": []
    },
    {
      "cell_type": "code",
      "source": [
        "# # This is for when you read the data in jupyther notebooks\n",
        "# path_test = '/content/BPI_Challenge_2012-test.csv'\n",
        "# path_train = '/content/BPI_Challenge_2012-training.csv'"
      ],
      "metadata": {
        "id": "_T4WuczQMGP9"
      },
      "execution_count": 5,
      "outputs": []
    },
    {
      "cell_type": "code",
      "source": [
        "df_train = pd.read_csv (path_train)\n",
        "df_test = pd.read_csv (path_test)"
      ],
      "metadata": {
        "id": "BFW9a2ftQaRp"
      },
      "execution_count": 6,
      "outputs": []
    },
    {
      "cell_type": "code",
      "source": [
        "# Keeping in test set only cases that started in test and not in train\n",
        "\n",
        "train_cases = list(set(list(df_train['case concept:name'])))\n",
        "test_cases = list(set(list(df_test['case concept:name'])))\n",
        "# test_delete = [item for item in test_cases if item in train_cases]\n",
        "test_keep = [item for item in test_cases if item not in train_cases]\n",
        "\n",
        "df_test = df_test[df_test['case concept:name'].isin(test_keep)]"
      ],
      "metadata": {
        "id": "qZTJfNeSUZHX"
      },
      "execution_count": 7,
      "outputs": []
    },
    {
      "cell_type": "code",
      "source": [
        "import matplotlib.pyplot as plt\n",
        "import datetime"
      ],
      "metadata": {
        "id": "__oV9bZ3BiCi"
      },
      "execution_count": 8,
      "outputs": []
    },
    {
      "cell_type": "code",
      "source": [
        "df_test['event time:timestamp']= pd.to_datetime(df_test['event time:timestamp'], dayfirst=True)\n",
        "df_train['event time:timestamp']= pd.to_datetime(df_train['event time:timestamp'], dayfirst=True)"
      ],
      "metadata": {
        "id": "Q24kQ1T-EmDY"
      },
      "execution_count": 9,
      "outputs": []
    },
    {
      "cell_type": "code",
      "source": [
        "df_train = df_train.sort_values(by=['case concept:name', 'event time:timestamp'])\n",
        "\n",
        "df_train = df_train.assign(nexttime=(df_train.groupby('case concept:name')['event time:timestamp'].shift(-1)))"
      ],
      "metadata": {
        "id": "nXhuObVU1gz9"
      },
      "execution_count": 10,
      "outputs": []
    },
    {
      "cell_type": "code",
      "source": [
        "df_test = df_test.sort_values(by=['case concept:name', 'event time:timestamp'])\n",
        "\n",
        "df_test = df_test.assign(nexttime=(df_test.groupby('case concept:name')['event time:timestamp'].shift(-1)))"
      ],
      "metadata": {
        "id": "aDcAegdb1mwW"
      },
      "execution_count": 11,
      "outputs": []
    },
    {
      "cell_type": "code",
      "source": [
        "df_train['tonext'] = (df_train.nexttime - df_train['event time:timestamp']).astype('timedelta64[s]')\n",
        "df_test['tonext'] = (df_test.nexttime - df_test['event time:timestamp']).astype('timedelta64[s]')"
      ],
      "metadata": {
        "id": "GuKU74UaDOe2"
      },
      "execution_count": 12,
      "outputs": []
    },
    {
      "cell_type": "code",
      "source": [
        "df_test = df_test.groupby('case concept:name',as_index = False).apply(lambda x: \n",
        "  x.reset_index(drop = True)).reset_index().drop('level_0',axis = 1).rename(columns={\"level_1\": \"actionorder\"})\n",
        "df_test.actionorder = df_test.actionorder + 1"
      ],
      "metadata": {
        "id": "juPruhbsLKLc"
      },
      "execution_count": 13,
      "outputs": []
    },
    {
      "cell_type": "code",
      "source": [
        "df_test"
      ],
      "metadata": {
        "colab": {
          "base_uri": "https://localhost:8080/",
          "height": 678
        },
        "id": "ponV5xBfIk2b",
        "outputId": "26ff09f1-4dd1-46d0-9b2d-12a3c01e9593"
      },
      "execution_count": 14,
      "outputs": [
        {
          "output_type": "execute_result",
          "data": {
            "text/plain": [
              "       actionorder        eventID   case concept:name  \\\n",
              "0                1  44964012621824             206324   \n",
              "1                2  44964012621825             206324   \n",
              "2                3  44964012621826             206324   \n",
              "3                1  44968307589120             206327   \n",
              "4                2  44968307589121             206327   \n",
              "...            ...             ...                ...   \n",
              "47818            2  56203942035457             214376   \n",
              "47819            3  56203942035458             214376   \n",
              "47820            4  56203942035459             214376   \n",
              "47821            5  56203942035460             214376   \n",
              "47822            6  56203942035461             214376   \n",
              "\n",
              "                       case REG_DATE  case AMOUNT_REQ  event concept:name  \\\n",
              "0      2012-02-03T17:17:11.047+01:00             2500         A_SUBMITTED   \n",
              "1      2012-02-03T17:17:11.047+01:00             2500   A_PARTLYSUBMITTED   \n",
              "2      2012-02-03T17:17:11.047+01:00             2500          A_DECLINED   \n",
              "3      2012-02-03T17:23:41.949+01:00             6000         A_SUBMITTED   \n",
              "4      2012-02-03T17:23:41.949+01:00             6000   A_PARTLYSUBMITTED   \n",
              "...                              ...              ...                 ...   \n",
              "47818  2012-02-29T23:51:16.799+01:00            15000   A_PARTLYSUBMITTED   \n",
              "47819  2012-02-29T23:51:16.799+01:00            15000  W_Afhandelen leads   \n",
              "47820  2012-02-29T23:51:16.799+01:00            15000  W_Afhandelen leads   \n",
              "47821  2012-02-29T23:51:16.799+01:00            15000          A_DECLINED   \n",
              "47822  2012-02-29T23:51:16.799+01:00            15000  W_Afhandelen leads   \n",
              "\n",
              "      event lifecycle:transition    event time:timestamp  \\\n",
              "0                       COMPLETE 2012-02-03 17:17:11.047   \n",
              "1                       COMPLETE 2012-02-03 17:17:11.323   \n",
              "2                       COMPLETE 2012-02-03 17:17:42.964   \n",
              "3                       COMPLETE 2012-02-03 17:23:41.949   \n",
              "4                       COMPLETE 2012-02-03 17:23:42.504   \n",
              "...                          ...                     ...   \n",
              "47818                   COMPLETE 2012-02-29 23:51:17.423   \n",
              "47819                   SCHEDULE 2012-02-29 23:52:01.287   \n",
              "47820                      START 2012-03-01 09:26:46.736   \n",
              "47821                   COMPLETE 2012-03-01 09:27:37.118   \n",
              "47822                   COMPLETE 2012-03-01 09:27:41.325   \n",
              "\n",
              "                     nexttime   tonext  \n",
              "0     2012-02-03 17:17:11.323      0.0  \n",
              "1     2012-02-03 17:17:42.964     31.0  \n",
              "2                         NaT      NaN  \n",
              "3     2012-02-03 17:23:42.504      0.0  \n",
              "4     2012-02-03 17:24:23.379     40.0  \n",
              "...                       ...      ...  \n",
              "47818 2012-02-29 23:52:01.287     43.0  \n",
              "47819 2012-03-01 09:26:46.736  34485.0  \n",
              "47820 2012-03-01 09:27:37.118     50.0  \n",
              "47821 2012-03-01 09:27:41.325      4.0  \n",
              "47822                     NaT      NaN  \n",
              "\n",
              "[47823 rows x 10 columns]"
            ],
            "text/html": [
              "\n",
              "  <div id=\"df-5d325706-303d-4cdf-9ff9-76fdff05ead1\">\n",
              "    <div class=\"colab-df-container\">\n",
              "      <div>\n",
              "<style scoped>\n",
              "    .dataframe tbody tr th:only-of-type {\n",
              "        vertical-align: middle;\n",
              "    }\n",
              "\n",
              "    .dataframe tbody tr th {\n",
              "        vertical-align: top;\n",
              "    }\n",
              "\n",
              "    .dataframe thead th {\n",
              "        text-align: right;\n",
              "    }\n",
              "</style>\n",
              "<table border=\"1\" class=\"dataframe\">\n",
              "  <thead>\n",
              "    <tr style=\"text-align: right;\">\n",
              "      <th></th>\n",
              "      <th>actionorder</th>\n",
              "      <th>eventID</th>\n",
              "      <th>case concept:name</th>\n",
              "      <th>case REG_DATE</th>\n",
              "      <th>case AMOUNT_REQ</th>\n",
              "      <th>event concept:name</th>\n",
              "      <th>event lifecycle:transition</th>\n",
              "      <th>event time:timestamp</th>\n",
              "      <th>nexttime</th>\n",
              "      <th>tonext</th>\n",
              "    </tr>\n",
              "  </thead>\n",
              "  <tbody>\n",
              "    <tr>\n",
              "      <th>0</th>\n",
              "      <td>1</td>\n",
              "      <td>44964012621824</td>\n",
              "      <td>206324</td>\n",
              "      <td>2012-02-03T17:17:11.047+01:00</td>\n",
              "      <td>2500</td>\n",
              "      <td>A_SUBMITTED</td>\n",
              "      <td>COMPLETE</td>\n",
              "      <td>2012-02-03 17:17:11.047</td>\n",
              "      <td>2012-02-03 17:17:11.323</td>\n",
              "      <td>0.0</td>\n",
              "    </tr>\n",
              "    <tr>\n",
              "      <th>1</th>\n",
              "      <td>2</td>\n",
              "      <td>44964012621825</td>\n",
              "      <td>206324</td>\n",
              "      <td>2012-02-03T17:17:11.047+01:00</td>\n",
              "      <td>2500</td>\n",
              "      <td>A_PARTLYSUBMITTED</td>\n",
              "      <td>COMPLETE</td>\n",
              "      <td>2012-02-03 17:17:11.323</td>\n",
              "      <td>2012-02-03 17:17:42.964</td>\n",
              "      <td>31.0</td>\n",
              "    </tr>\n",
              "    <tr>\n",
              "      <th>2</th>\n",
              "      <td>3</td>\n",
              "      <td>44964012621826</td>\n",
              "      <td>206324</td>\n",
              "      <td>2012-02-03T17:17:11.047+01:00</td>\n",
              "      <td>2500</td>\n",
              "      <td>A_DECLINED</td>\n",
              "      <td>COMPLETE</td>\n",
              "      <td>2012-02-03 17:17:42.964</td>\n",
              "      <td>NaT</td>\n",
              "      <td>NaN</td>\n",
              "    </tr>\n",
              "    <tr>\n",
              "      <th>3</th>\n",
              "      <td>1</td>\n",
              "      <td>44968307589120</td>\n",
              "      <td>206327</td>\n",
              "      <td>2012-02-03T17:23:41.949+01:00</td>\n",
              "      <td>6000</td>\n",
              "      <td>A_SUBMITTED</td>\n",
              "      <td>COMPLETE</td>\n",
              "      <td>2012-02-03 17:23:41.949</td>\n",
              "      <td>2012-02-03 17:23:42.504</td>\n",
              "      <td>0.0</td>\n",
              "    </tr>\n",
              "    <tr>\n",
              "      <th>4</th>\n",
              "      <td>2</td>\n",
              "      <td>44968307589121</td>\n",
              "      <td>206327</td>\n",
              "      <td>2012-02-03T17:23:41.949+01:00</td>\n",
              "      <td>6000</td>\n",
              "      <td>A_PARTLYSUBMITTED</td>\n",
              "      <td>COMPLETE</td>\n",
              "      <td>2012-02-03 17:23:42.504</td>\n",
              "      <td>2012-02-03 17:24:23.379</td>\n",
              "      <td>40.0</td>\n",
              "    </tr>\n",
              "    <tr>\n",
              "      <th>...</th>\n",
              "      <td>...</td>\n",
              "      <td>...</td>\n",
              "      <td>...</td>\n",
              "      <td>...</td>\n",
              "      <td>...</td>\n",
              "      <td>...</td>\n",
              "      <td>...</td>\n",
              "      <td>...</td>\n",
              "      <td>...</td>\n",
              "      <td>...</td>\n",
              "    </tr>\n",
              "    <tr>\n",
              "      <th>47818</th>\n",
              "      <td>2</td>\n",
              "      <td>56203942035457</td>\n",
              "      <td>214376</td>\n",
              "      <td>2012-02-29T23:51:16.799+01:00</td>\n",
              "      <td>15000</td>\n",
              "      <td>A_PARTLYSUBMITTED</td>\n",
              "      <td>COMPLETE</td>\n",
              "      <td>2012-02-29 23:51:17.423</td>\n",
              "      <td>2012-02-29 23:52:01.287</td>\n",
              "      <td>43.0</td>\n",
              "    </tr>\n",
              "    <tr>\n",
              "      <th>47819</th>\n",
              "      <td>3</td>\n",
              "      <td>56203942035458</td>\n",
              "      <td>214376</td>\n",
              "      <td>2012-02-29T23:51:16.799+01:00</td>\n",
              "      <td>15000</td>\n",
              "      <td>W_Afhandelen leads</td>\n",
              "      <td>SCHEDULE</td>\n",
              "      <td>2012-02-29 23:52:01.287</td>\n",
              "      <td>2012-03-01 09:26:46.736</td>\n",
              "      <td>34485.0</td>\n",
              "    </tr>\n",
              "    <tr>\n",
              "      <th>47820</th>\n",
              "      <td>4</td>\n",
              "      <td>56203942035459</td>\n",
              "      <td>214376</td>\n",
              "      <td>2012-02-29T23:51:16.799+01:00</td>\n",
              "      <td>15000</td>\n",
              "      <td>W_Afhandelen leads</td>\n",
              "      <td>START</td>\n",
              "      <td>2012-03-01 09:26:46.736</td>\n",
              "      <td>2012-03-01 09:27:37.118</td>\n",
              "      <td>50.0</td>\n",
              "    </tr>\n",
              "    <tr>\n",
              "      <th>47821</th>\n",
              "      <td>5</td>\n",
              "      <td>56203942035460</td>\n",
              "      <td>214376</td>\n",
              "      <td>2012-02-29T23:51:16.799+01:00</td>\n",
              "      <td>15000</td>\n",
              "      <td>A_DECLINED</td>\n",
              "      <td>COMPLETE</td>\n",
              "      <td>2012-03-01 09:27:37.118</td>\n",
              "      <td>2012-03-01 09:27:41.325</td>\n",
              "      <td>4.0</td>\n",
              "    </tr>\n",
              "    <tr>\n",
              "      <th>47822</th>\n",
              "      <td>6</td>\n",
              "      <td>56203942035461</td>\n",
              "      <td>214376</td>\n",
              "      <td>2012-02-29T23:51:16.799+01:00</td>\n",
              "      <td>15000</td>\n",
              "      <td>W_Afhandelen leads</td>\n",
              "      <td>COMPLETE</td>\n",
              "      <td>2012-03-01 09:27:41.325</td>\n",
              "      <td>NaT</td>\n",
              "      <td>NaN</td>\n",
              "    </tr>\n",
              "  </tbody>\n",
              "</table>\n",
              "<p>47823 rows × 10 columns</p>\n",
              "</div>\n",
              "      <button class=\"colab-df-convert\" onclick=\"convertToInteractive('df-5d325706-303d-4cdf-9ff9-76fdff05ead1')\"\n",
              "              title=\"Convert this dataframe to an interactive table.\"\n",
              "              style=\"display:none;\">\n",
              "        \n",
              "  <svg xmlns=\"http://www.w3.org/2000/svg\" height=\"24px\"viewBox=\"0 0 24 24\"\n",
              "       width=\"24px\">\n",
              "    <path d=\"M0 0h24v24H0V0z\" fill=\"none\"/>\n",
              "    <path d=\"M18.56 5.44l.94 2.06.94-2.06 2.06-.94-2.06-.94-.94-2.06-.94 2.06-2.06.94zm-11 1L8.5 8.5l.94-2.06 2.06-.94-2.06-.94L8.5 2.5l-.94 2.06-2.06.94zm10 10l.94 2.06.94-2.06 2.06-.94-2.06-.94-.94-2.06-.94 2.06-2.06.94z\"/><path d=\"M17.41 7.96l-1.37-1.37c-.4-.4-.92-.59-1.43-.59-.52 0-1.04.2-1.43.59L10.3 9.45l-7.72 7.72c-.78.78-.78 2.05 0 2.83L4 21.41c.39.39.9.59 1.41.59.51 0 1.02-.2 1.41-.59l7.78-7.78 2.81-2.81c.8-.78.8-2.07 0-2.86zM5.41 20L4 18.59l7.72-7.72 1.47 1.35L5.41 20z\"/>\n",
              "  </svg>\n",
              "      </button>\n",
              "      \n",
              "  <style>\n",
              "    .colab-df-container {\n",
              "      display:flex;\n",
              "      flex-wrap:wrap;\n",
              "      gap: 12px;\n",
              "    }\n",
              "\n",
              "    .colab-df-convert {\n",
              "      background-color: #E8F0FE;\n",
              "      border: none;\n",
              "      border-radius: 50%;\n",
              "      cursor: pointer;\n",
              "      display: none;\n",
              "      fill: #1967D2;\n",
              "      height: 32px;\n",
              "      padding: 0 0 0 0;\n",
              "      width: 32px;\n",
              "    }\n",
              "\n",
              "    .colab-df-convert:hover {\n",
              "      background-color: #E2EBFA;\n",
              "      box-shadow: 0px 1px 2px rgba(60, 64, 67, 0.3), 0px 1px 3px 1px rgba(60, 64, 67, 0.15);\n",
              "      fill: #174EA6;\n",
              "    }\n",
              "\n",
              "    [theme=dark] .colab-df-convert {\n",
              "      background-color: #3B4455;\n",
              "      fill: #D2E3FC;\n",
              "    }\n",
              "\n",
              "    [theme=dark] .colab-df-convert:hover {\n",
              "      background-color: #434B5C;\n",
              "      box-shadow: 0px 1px 3px 1px rgba(0, 0, 0, 0.15);\n",
              "      filter: drop-shadow(0px 1px 2px rgba(0, 0, 0, 0.3));\n",
              "      fill: #FFFFFF;\n",
              "    }\n",
              "  </style>\n",
              "\n",
              "      <script>\n",
              "        const buttonEl =\n",
              "          document.querySelector('#df-5d325706-303d-4cdf-9ff9-76fdff05ead1 button.colab-df-convert');\n",
              "        buttonEl.style.display =\n",
              "          google.colab.kernel.accessAllowed ? 'block' : 'none';\n",
              "\n",
              "        async function convertToInteractive(key) {\n",
              "          const element = document.querySelector('#df-5d325706-303d-4cdf-9ff9-76fdff05ead1');\n",
              "          const dataTable =\n",
              "            await google.colab.kernel.invokeFunction('convertToInteractive',\n",
              "                                                     [key], {});\n",
              "          if (!dataTable) return;\n",
              "\n",
              "          const docLinkHtml = 'Like what you see? Visit the ' +\n",
              "            '<a target=\"_blank\" href=https://colab.research.google.com/notebooks/data_table.ipynb>data table notebook</a>'\n",
              "            + ' to learn more about interactive tables.';\n",
              "          element.innerHTML = '';\n",
              "          dataTable['output_type'] = 'display_data';\n",
              "          await google.colab.output.renderOutput(dataTable, element);\n",
              "          const docLink = document.createElement('div');\n",
              "          docLink.innerHTML = docLinkHtml;\n",
              "          element.appendChild(docLink);\n",
              "        }\n",
              "      </script>\n",
              "    </div>\n",
              "  </div>\n",
              "  "
            ]
          },
          "metadata": {},
          "execution_count": 14
        }
      ]
    },
    {
      "cell_type": "code",
      "source": [
        "df_train = df_train.groupby('case concept:name',as_index = False).apply(lambda x: \n",
        "  x.reset_index(drop = True)).reset_index().drop('level_0',axis = 1).rename(columns={\"level_1\": \"actionorder\"})\n",
        "df_train.actionorder = df_train.actionorder + 1"
      ],
      "metadata": {
        "id": "BKSm-BfQLKN7"
      },
      "execution_count": 15,
      "outputs": []
    },
    {
      "cell_type": "code",
      "source": [
        "# targets = np.array(list(set(df_train['event concept:name'])))\n",
        "# labelEnc = preprocessing.LabelEncoder()\n",
        "# new_target = labelEnc.fit_transform(targets)\n",
        "# onehotEnc = preprocessing.OneHotEncoder()\n",
        "# onehotEnc.fit(new_target.reshape(-1, 1))\n",
        "# targets_trans = onehotEnc.transform(new_target.reshape(-1, 1))\n",
        "# print(\"The original data\")\n",
        "# print(targets)\n",
        "# print(\"The transform data using OneHotEncoder\")\n",
        "# print(targets_trans.toarray())"
      ],
      "metadata": {
        "id": "QsXX1Nkb6LGL"
      },
      "execution_count": 16,
      "outputs": []
    },
    {
      "cell_type": "code",
      "source": [
        "# zip_iterator = zip(targets.tolist(), targets_trans.toarray().tolist())\n",
        "# activity_dict = dict(zip_iterator)\n",
        "\n",
        "# df_train['onehot'] = df_train['event concept:name']"
      ],
      "metadata": {
        "id": "dZdIqv4KCw-y"
      },
      "execution_count": 17,
      "outputs": []
    },
    {
      "cell_type": "code",
      "source": [
        "# df_train['onehot'].replace(activity_dict, inplace=True)"
      ],
      "metadata": {
        "id": "L2SsEPddDeRC"
      },
      "execution_count": 18,
      "outputs": []
    },
    {
      "cell_type": "code",
      "source": [
        "import sklearn.preprocessing as preprocessing\n",
        "import numpy as np\n",
        "import pandas as pd"
      ],
      "metadata": {
        "id": "rhHcDKBuEPLC"
      },
      "execution_count": 19,
      "outputs": []
    },
    {
      "cell_type": "code",
      "source": [
        "xtrain = df_train['event concept:name']\n",
        "xtrain = xtrain.to_numpy()\n",
        "xtest = df_test['event concept:name']\n",
        "xtest = xtest.to_numpy()\n",
        "x = np.concatenate((xtrain, xtest))"
      ],
      "metadata": {
        "id": "PAXRnVVlwaw-"
      },
      "execution_count": 20,
      "outputs": []
    },
    {
      "cell_type": "code",
      "source": [
        "xtrain2 = df_train.actionorder.to_numpy().reshape(-1, 1)\n",
        "xtest2 = df_test.actionorder.to_numpy().reshape(-1, 1)"
      ],
      "metadata": {
        "id": "TruAtVHtMu-K"
      },
      "execution_count": 21,
      "outputs": []
    },
    {
      "cell_type": "code",
      "source": [
        "targets = x\n",
        "labelEnc = preprocessing.LabelEncoder()\n",
        "new_target = labelEnc.fit_transform(targets)\n",
        "onehotEnc = preprocessing.OneHotEncoder()\n",
        "onehotEnc.fit(new_target.reshape(-1, 1))\n",
        "targets_trans = onehotEnc.transform(new_target.reshape(-1, 1))\n",
        "print(\"The original data\")\n",
        "print(targets)\n",
        "print(\"The transform data using OneHotEncoder\")\n",
        "print(targets_trans.toarray())"
      ],
      "metadata": {
        "colab": {
          "base_uri": "https://localhost:8080/"
        },
        "id": "pJPEm5YUEKZE",
        "outputId": "5514578f-8e52-451e-cab8-06279f2b0202"
      },
      "execution_count": 22,
      "outputs": [
        {
          "output_type": "stream",
          "name": "stdout",
          "text": [
            "The original data\n",
            "['A_SUBMITTED' 'A_PARTLYSUBMITTED' 'A_PREACCEPTED' ...\n",
            " 'W_Afhandelen leads' 'A_DECLINED' 'W_Afhandelen leads']\n",
            "The transform data using OneHotEncoder\n",
            "[[0. 0. 0. ... 0. 0. 0.]\n",
            " [0. 0. 0. ... 0. 0. 0.]\n",
            " [0. 0. 0. ... 0. 0. 0.]\n",
            " ...\n",
            " [0. 0. 0. ... 0. 0. 0.]\n",
            " [0. 0. 0. ... 0. 0. 0.]\n",
            " [0. 0. 0. ... 0. 0. 0.]]\n"
          ]
        }
      ]
    },
    {
      "cell_type": "code",
      "source": [
        "#The one hot encoding is still correct at this point\n",
        "\n",
        "targets_trans.toarray()[4]"
      ],
      "metadata": {
        "colab": {
          "base_uri": "https://localhost:8080/"
        },
        "id": "ln4AwNHsHUBD",
        "outputId": "3c779dfd-24b0-46f6-f856-526c60ce9480"
      },
      "execution_count": 23,
      "outputs": [
        {
          "output_type": "execute_result",
          "data": {
            "text/plain": [
              "array([0., 0., 0., 0., 0., 0., 0., 0., 0., 0., 0., 0., 0., 0., 0., 0., 0.,\n",
              "       0., 0., 1., 0., 0., 0., 0.])"
            ]
          },
          "metadata": {},
          "execution_count": 23
        }
      ]
    },
    {
      "cell_type": "code",
      "source": [
        "x_train = targets_trans.toarray()[:214377]\n",
        "x_test = targets_trans.toarray()[214377:]"
      ],
      "metadata": {
        "id": "jEJBaPnZEKbP"
      },
      "execution_count": 24,
      "outputs": []
    },
    {
      "cell_type": "code",
      "source": [
        "x_train = np.concatenate((x_train, xtrain2), axis = 1)\n",
        "x_test = np.concatenate((x_test, xtest2), axis = 1)"
      ],
      "metadata": {
        "id": "4NqQmH-7Nr9J"
      },
      "execution_count": 25,
      "outputs": []
    },
    {
      "cell_type": "code",
      "source": [
        "x_train"
      ],
      "metadata": {
        "colab": {
          "base_uri": "https://localhost:8080/"
        },
        "id": "_E0zF4NxHyeg",
        "outputId": "74c239df-edf3-49bb-bad3-67c008004a5a"
      },
      "execution_count": 26,
      "outputs": [
        {
          "output_type": "execute_result",
          "data": {
            "text/plain": [
              "array([[0., 0., 0., ..., 0., 0., 1.],\n",
              "       [0., 0., 0., ..., 0., 0., 2.],\n",
              "       [0., 0., 0., ..., 0., 0., 3.],\n",
              "       ...,\n",
              "       [0., 0., 0., ..., 0., 0., 1.],\n",
              "       [0., 0., 0., ..., 0., 0., 2.],\n",
              "       [0., 0., 0., ..., 0., 0., 3.]])"
            ]
          },
          "metadata": {},
          "execution_count": 26
        }
      ]
    },
    {
      "cell_type": "code",
      "source": [
        "y_train = df_train.tonext.fillna(0).to_numpy()\n",
        "y_test = df_test.tonext.fillna(0).to_numpy()"
      ],
      "metadata": {
        "id": "WOpki6IDIvW1"
      },
      "execution_count": 27,
      "outputs": []
    },
    {
      "cell_type": "code",
      "source": [
        "y_train"
      ],
      "metadata": {
        "id": "0ZEARyLqIvZb",
        "colab": {
          "base_uri": "https://localhost:8080/"
        },
        "outputId": "da7f0c47-199d-4cae-ba49-d44e3d06ca6c"
      },
      "execution_count": 28,
      "outputs": [
        {
          "output_type": "execute_result",
          "data": {
            "text/plain": [
              "array([ 0., 53.,  0., ...,  0., 39.,  0.])"
            ]
          },
          "metadata": {},
          "execution_count": 28
        }
      ]
    },
    {
      "cell_type": "code",
      "source": [
        "x_train.shape, y_train.shape, x_test.shape, y_test.shape"
      ],
      "metadata": {
        "id": "QJvMv1iWIve7",
        "colab": {
          "base_uri": "https://localhost:8080/"
        },
        "outputId": "2bb7fbf6-ff4a-446e-9629-35a668fbdfe3"
      },
      "execution_count": 29,
      "outputs": [
        {
          "output_type": "execute_result",
          "data": {
            "text/plain": [
              "((214377, 25), (214377,), (47823, 25), (47823,))"
            ]
          },
          "metadata": {},
          "execution_count": 29
        }
      ]
    },
    {
      "cell_type": "code",
      "source": [
        "x_train, y_train"
      ],
      "metadata": {
        "id": "9Ndf49niI2hD",
        "colab": {
          "base_uri": "https://localhost:8080/"
        },
        "outputId": "eb733666-4ae1-4942-9832-b563c45e1cc4"
      },
      "execution_count": 30,
      "outputs": [
        {
          "output_type": "execute_result",
          "data": {
            "text/plain": [
              "(array([[0., 0., 0., ..., 0., 0., 1.],\n",
              "        [0., 0., 0., ..., 0., 0., 2.],\n",
              "        [0., 0., 0., ..., 0., 0., 3.],\n",
              "        ...,\n",
              "        [0., 0., 0., ..., 0., 0., 1.],\n",
              "        [0., 0., 0., ..., 0., 0., 2.],\n",
              "        [0., 0., 0., ..., 0., 0., 3.]]),\n",
              " array([ 0., 53.,  0., ...,  0., 39.,  0.]))"
            ]
          },
          "metadata": {},
          "execution_count": 30
        }
      ]
    },
    {
      "cell_type": "code",
      "source": [
        "# y_train = y_train.reshape((214377, 1))\n",
        "# y_test = y_test.reshape((47823, 1))"
      ],
      "metadata": {
        "id": "EVdsySqc81np"
      },
      "execution_count": 31,
      "outputs": []
    },
    {
      "cell_type": "markdown",
      "source": [
        "The time is now in seconds. Difficult to interpret so scale the seconds such that they are a value between 0 and 1. Where 1 is the longest time until a next activity. "
      ],
      "metadata": {
        "id": "ICiPzNquBmkS"
      }
    },
    {
      "cell_type": "code",
      "source": [
        "from sklearn.preprocessing import MinMaxScaler"
      ],
      "metadata": {
        "id": "956OeM_o81sG"
      },
      "execution_count": 32,
      "outputs": []
    },
    {
      "cell_type": "code",
      "source": [
        "\n",
        "scaler = MinMaxScaler(feature_range=(0, 1))\n",
        "scaler.fit(np.concatenate((y_train, y_test)).reshape(-1, 1))"
      ],
      "metadata": {
        "id": "N1DGbYntJ_I0",
        "colab": {
          "base_uri": "https://localhost:8080/"
        },
        "outputId": "9f1232cc-3317-4250-ab99-4babf3ea6084"
      },
      "execution_count": 33,
      "outputs": [
        {
          "output_type": "execute_result",
          "data": {
            "text/plain": [
              "MinMaxScaler()"
            ]
          },
          "metadata": {},
          "execution_count": 33
        }
      ]
    },
    {
      "cell_type": "code",
      "source": [
        "y_test.reshape(-1, 1)"
      ],
      "metadata": {
        "colab": {
          "base_uri": "https://localhost:8080/"
        },
        "id": "PmeBDiiERlXE",
        "outputId": "e2f51fca-8b56-4409-c3ac-993459df4f44"
      },
      "execution_count": 34,
      "outputs": [
        {
          "output_type": "execute_result",
          "data": {
            "text/plain": [
              "array([[ 0.],\n",
              "       [31.],\n",
              "       [ 0.],\n",
              "       ...,\n",
              "       [50.],\n",
              "       [ 4.],\n",
              "       [ 0.]])"
            ]
          },
          "metadata": {},
          "execution_count": 34
        }
      ]
    },
    {
      "cell_type": "code",
      "source": [
        "y_test = scaler.transform(y_test.reshape(-1, 1))\n",
        "y_train = scaler.transform(y_train.reshape(-1, 1))"
      ],
      "metadata": {
        "id": "kh2SaZ23J_SI"
      },
      "execution_count": 35,
      "outputs": []
    },
    {
      "cell_type": "code",
      "source": [
        "y_train"
      ],
      "metadata": {
        "colab": {
          "base_uri": "https://localhost:8080/"
        },
        "id": "KtJSJd0CCkek",
        "outputId": "dac99c7d-6a6d-4f45-f9f4-125d3560363a"
      },
      "execution_count": 36,
      "outputs": [
        {
          "output_type": "execute_result",
          "data": {
            "text/plain": [
              "array([[0.00000000e+00],\n",
              "       [5.96426125e-06],\n",
              "       [0.00000000e+00],\n",
              "       ...,\n",
              "       [0.00000000e+00],\n",
              "       [4.38879601e-06],\n",
              "       [0.00000000e+00]])"
            ]
          },
          "metadata": {},
          "execution_count": 36
        }
      ]
    },
    {
      "cell_type": "code",
      "source": [
        "x_train.shape, y_train.shape, x_test.shape, y_test.shape"
      ],
      "metadata": {
        "colab": {
          "base_uri": "https://localhost:8080/"
        },
        "id": "z6pnejjr81p5",
        "outputId": "ff1da352-c361-4763-eeec-02fedfa54197"
      },
      "execution_count": 37,
      "outputs": [
        {
          "output_type": "execute_result",
          "data": {
            "text/plain": [
              "((214377, 25), (214377, 1), (47823, 25), (47823, 1))"
            ]
          },
          "metadata": {},
          "execution_count": 37
        }
      ]
    },
    {
      "cell_type": "code",
      "source": [
        "y_test"
      ],
      "metadata": {
        "colab": {
          "base_uri": "https://localhost:8080/"
        },
        "id": "IetZ__L6Ol9f",
        "outputId": "f426ca7a-217b-43a0-8415-5e65b5091aca"
      },
      "execution_count": 38,
      "outputs": [
        {
          "output_type": "execute_result",
          "data": {
            "text/plain": [
              "array([[0.00000000e+00],\n",
              "       [3.48853016e-06],\n",
              "       [0.00000000e+00],\n",
              "       ...,\n",
              "       [5.62666155e-06],\n",
              "       [4.50132924e-07],\n",
              "       [0.00000000e+00]])"
            ]
          },
          "metadata": {},
          "execution_count": 38
        }
      ]
    },
    {
      "cell_type": "code",
      "source": [
        "scaler.inverse_transform(y_test)"
      ],
      "metadata": {
        "colab": {
          "base_uri": "https://localhost:8080/"
        },
        "id": "ZV-0-igcOmAD",
        "outputId": "c540c111-13e5-4b21-a9db-8a375280a5fb"
      },
      "execution_count": 39,
      "outputs": [
        {
          "output_type": "execute_result",
          "data": {
            "text/plain": [
              "array([[ 0.],\n",
              "       [31.],\n",
              "       [ 0.],\n",
              "       ...,\n",
              "       [50.],\n",
              "       [ 4.],\n",
              "       [ 0.]])"
            ]
          },
          "metadata": {},
          "execution_count": 39
        }
      ]
    },
    {
      "cell_type": "code",
      "source": [
        "df_train_try = df_train\n",
        "\n",
        "df_train_try = df_train_try.set_index('event time:timestamp')\n",
        "\n",
        "df_train_try = df_train_try[['tonext']]\n",
        "\n",
        "df_train_try = df_train_try.dropna()\n",
        "\n",
        "df_train_try.head()"
      ],
      "metadata": {
        "colab": {
          "base_uri": "https://localhost:8080/",
          "height": 238
        },
        "id": "p4VZF3iXDSHe",
        "outputId": "05579500-1fd3-437c-d8f7-7ab351172e13"
      },
      "execution_count": 51,
      "outputs": [
        {
          "output_type": "execute_result",
          "data": {
            "text/plain": [
              "                          tonext\n",
              "event time:timestamp            \n",
              "2011-10-01 00:38:44.546      0.0\n",
              "2011-10-01 00:38:44.880     53.0\n",
              "2011-10-01 00:39:37.906      0.0\n",
              "2011-10-01 00:39:38.875  39427.0\n",
              "2011-10-01 11:36:46.437    356.0"
            ],
            "text/html": [
              "\n",
              "  <div id=\"df-d3db4245-3cd9-4836-807b-9abaf700bdd5\">\n",
              "    <div class=\"colab-df-container\">\n",
              "      <div>\n",
              "<style scoped>\n",
              "    .dataframe tbody tr th:only-of-type {\n",
              "        vertical-align: middle;\n",
              "    }\n",
              "\n",
              "    .dataframe tbody tr th {\n",
              "        vertical-align: top;\n",
              "    }\n",
              "\n",
              "    .dataframe thead th {\n",
              "        text-align: right;\n",
              "    }\n",
              "</style>\n",
              "<table border=\"1\" class=\"dataframe\">\n",
              "  <thead>\n",
              "    <tr style=\"text-align: right;\">\n",
              "      <th></th>\n",
              "      <th>tonext</th>\n",
              "    </tr>\n",
              "    <tr>\n",
              "      <th>event time:timestamp</th>\n",
              "      <th></th>\n",
              "    </tr>\n",
              "  </thead>\n",
              "  <tbody>\n",
              "    <tr>\n",
              "      <th>2011-10-01 00:38:44.546</th>\n",
              "      <td>0.0</td>\n",
              "    </tr>\n",
              "    <tr>\n",
              "      <th>2011-10-01 00:38:44.880</th>\n",
              "      <td>53.0</td>\n",
              "    </tr>\n",
              "    <tr>\n",
              "      <th>2011-10-01 00:39:37.906</th>\n",
              "      <td>0.0</td>\n",
              "    </tr>\n",
              "    <tr>\n",
              "      <th>2011-10-01 00:39:38.875</th>\n",
              "      <td>39427.0</td>\n",
              "    </tr>\n",
              "    <tr>\n",
              "      <th>2011-10-01 11:36:46.437</th>\n",
              "      <td>356.0</td>\n",
              "    </tr>\n",
              "  </tbody>\n",
              "</table>\n",
              "</div>\n",
              "      <button class=\"colab-df-convert\" onclick=\"convertToInteractive('df-d3db4245-3cd9-4836-807b-9abaf700bdd5')\"\n",
              "              title=\"Convert this dataframe to an interactive table.\"\n",
              "              style=\"display:none;\">\n",
              "        \n",
              "  <svg xmlns=\"http://www.w3.org/2000/svg\" height=\"24px\"viewBox=\"0 0 24 24\"\n",
              "       width=\"24px\">\n",
              "    <path d=\"M0 0h24v24H0V0z\" fill=\"none\"/>\n",
              "    <path d=\"M18.56 5.44l.94 2.06.94-2.06 2.06-.94-2.06-.94-.94-2.06-.94 2.06-2.06.94zm-11 1L8.5 8.5l.94-2.06 2.06-.94-2.06-.94L8.5 2.5l-.94 2.06-2.06.94zm10 10l.94 2.06.94-2.06 2.06-.94-2.06-.94-.94-2.06-.94 2.06-2.06.94z\"/><path d=\"M17.41 7.96l-1.37-1.37c-.4-.4-.92-.59-1.43-.59-.52 0-1.04.2-1.43.59L10.3 9.45l-7.72 7.72c-.78.78-.78 2.05 0 2.83L4 21.41c.39.39.9.59 1.41.59.51 0 1.02-.2 1.41-.59l7.78-7.78 2.81-2.81c.8-.78.8-2.07 0-2.86zM5.41 20L4 18.59l7.72-7.72 1.47 1.35L5.41 20z\"/>\n",
              "  </svg>\n",
              "      </button>\n",
              "      \n",
              "  <style>\n",
              "    .colab-df-container {\n",
              "      display:flex;\n",
              "      flex-wrap:wrap;\n",
              "      gap: 12px;\n",
              "    }\n",
              "\n",
              "    .colab-df-convert {\n",
              "      background-color: #E8F0FE;\n",
              "      border: none;\n",
              "      border-radius: 50%;\n",
              "      cursor: pointer;\n",
              "      display: none;\n",
              "      fill: #1967D2;\n",
              "      height: 32px;\n",
              "      padding: 0 0 0 0;\n",
              "      width: 32px;\n",
              "    }\n",
              "\n",
              "    .colab-df-convert:hover {\n",
              "      background-color: #E2EBFA;\n",
              "      box-shadow: 0px 1px 2px rgba(60, 64, 67, 0.3), 0px 1px 3px 1px rgba(60, 64, 67, 0.15);\n",
              "      fill: #174EA6;\n",
              "    }\n",
              "\n",
              "    [theme=dark] .colab-df-convert {\n",
              "      background-color: #3B4455;\n",
              "      fill: #D2E3FC;\n",
              "    }\n",
              "\n",
              "    [theme=dark] .colab-df-convert:hover {\n",
              "      background-color: #434B5C;\n",
              "      box-shadow: 0px 1px 3px 1px rgba(0, 0, 0, 0.15);\n",
              "      filter: drop-shadow(0px 1px 2px rgba(0, 0, 0, 0.3));\n",
              "      fill: #FFFFFF;\n",
              "    }\n",
              "  </style>\n",
              "\n",
              "      <script>\n",
              "        const buttonEl =\n",
              "          document.querySelector('#df-d3db4245-3cd9-4836-807b-9abaf700bdd5 button.colab-df-convert');\n",
              "        buttonEl.style.display =\n",
              "          google.colab.kernel.accessAllowed ? 'block' : 'none';\n",
              "\n",
              "        async function convertToInteractive(key) {\n",
              "          const element = document.querySelector('#df-d3db4245-3cd9-4836-807b-9abaf700bdd5');\n",
              "          const dataTable =\n",
              "            await google.colab.kernel.invokeFunction('convertToInteractive',\n",
              "                                                     [key], {});\n",
              "          if (!dataTable) return;\n",
              "\n",
              "          const docLinkHtml = 'Like what you see? Visit the ' +\n",
              "            '<a target=\"_blank\" href=https://colab.research.google.com/notebooks/data_table.ipynb>data table notebook</a>'\n",
              "            + ' to learn more about interactive tables.';\n",
              "          element.innerHTML = '';\n",
              "          dataTable['output_type'] = 'display_data';\n",
              "          await google.colab.output.renderOutput(dataTable, element);\n",
              "          const docLink = document.createElement('div');\n",
              "          docLink.innerHTML = docLinkHtml;\n",
              "          element.appendChild(docLink);\n",
              "        }\n",
              "      </script>\n",
              "    </div>\n",
              "  </div>\n",
              "  "
            ]
          },
          "metadata": {},
          "execution_count": 51
        }
      ]
    },
    {
      "cell_type": "code",
      "source": [
        "from statsmodels.tsa.arima_model import ARIMA\n",
        "from statsmodels.graphics.tsaplots import plot_acf, plot_pacf\n",
        "\n",
        "\n",
        "from matplotlib import pyplot as plt\n",
        "from pmdarima.arima import auto_arima\n"
      ],
      "metadata": {
        "id": "9gRZlPtpJ_XU"
      },
      "execution_count": 52,
      "outputs": []
    },
    {
      "cell_type": "code",
      "source": [
        "auto_arima(df_train_try, start_p=0, max_p= 5, start_q=0, max_q=5, max_d=5)"
      ],
      "metadata": {
        "colab": {
          "base_uri": "https://localhost:8080/",
          "height": 346
        },
        "id": "VrVrE7WP91sm",
        "outputId": "ef690dc6-0b29-4508-b6a0-f6ec4c714434"
      },
      "execution_count": 53,
      "outputs": [
        {
          "output_type": "error",
          "ename": "KeyboardInterrupt",
          "evalue": "ignored",
          "traceback": [
            "\u001b[0;31m---------------------------------------------------------------------------\u001b[0m",
            "\u001b[0;31mKeyboardInterrupt\u001b[0m                         Traceback (most recent call last)",
            "\u001b[0;32m<ipython-input-53-3a4c5b779d2b>\u001b[0m in \u001b[0;36m<module>\u001b[0;34m()\u001b[0m\n\u001b[0;32m----> 1\u001b[0;31m \u001b[0mauto_arima\u001b[0m\u001b[0;34m(\u001b[0m\u001b[0mdf_train_try\u001b[0m\u001b[0;34m,\u001b[0m \u001b[0mstart_p\u001b[0m\u001b[0;34m=\u001b[0m\u001b[0;36m0\u001b[0m\u001b[0;34m,\u001b[0m \u001b[0mmax_p\u001b[0m\u001b[0;34m=\u001b[0m \u001b[0;36m5\u001b[0m\u001b[0;34m,\u001b[0m \u001b[0mstart_q\u001b[0m\u001b[0;34m=\u001b[0m\u001b[0;36m0\u001b[0m\u001b[0;34m,\u001b[0m \u001b[0mmax_q\u001b[0m\u001b[0;34m=\u001b[0m\u001b[0;36m5\u001b[0m\u001b[0;34m,\u001b[0m \u001b[0mmax_d\u001b[0m\u001b[0;34m=\u001b[0m\u001b[0;36m5\u001b[0m\u001b[0;34m)\u001b[0m\u001b[0;34m\u001b[0m\u001b[0;34m\u001b[0m\u001b[0m\n\u001b[0m",
            "\u001b[0;32m/usr/local/lib/python3.7/dist-packages/pmdarima/arima/auto.py\u001b[0m in \u001b[0;36mauto_arima\u001b[0;34m(y, X, start_p, d, start_q, max_p, max_d, max_q, start_P, D, start_Q, max_P, max_D, max_Q, max_order, m, seasonal, stationary, information_criterion, alpha, test, seasonal_test, stepwise, n_jobs, start_params, trend, method, maxiter, offset_test_args, seasonal_test_args, suppress_warnings, error_action, trace, random, random_state, n_fits, return_valid_fits, out_of_sample_size, scoring, scoring_args, with_intercept, sarimax_kwargs, **fit_args)\u001b[0m\n\u001b[1;32m    715\u001b[0m         )\n\u001b[1;32m    716\u001b[0m \u001b[0;34m\u001b[0m\u001b[0m\n\u001b[0;32m--> 717\u001b[0;31m     \u001b[0msorted_res\u001b[0m \u001b[0;34m=\u001b[0m \u001b[0msearch\u001b[0m\u001b[0;34m.\u001b[0m\u001b[0msolve\u001b[0m\u001b[0;34m(\u001b[0m\u001b[0;34m)\u001b[0m\u001b[0;34m\u001b[0m\u001b[0;34m\u001b[0m\u001b[0m\n\u001b[0m\u001b[1;32m    718\u001b[0m     \u001b[0;32mreturn\u001b[0m \u001b[0m_return_wrapper\u001b[0m\u001b[0;34m(\u001b[0m\u001b[0msorted_res\u001b[0m\u001b[0;34m,\u001b[0m \u001b[0mreturn_valid_fits\u001b[0m\u001b[0;34m,\u001b[0m \u001b[0mstart\u001b[0m\u001b[0;34m,\u001b[0m \u001b[0mtrace\u001b[0m\u001b[0;34m)\u001b[0m\u001b[0;34m\u001b[0m\u001b[0;34m\u001b[0m\u001b[0m\n\u001b[1;32m    719\u001b[0m \u001b[0;34m\u001b[0m\u001b[0m\n",
            "\u001b[0;32m/usr/local/lib/python3.7/dist-packages/pmdarima/arima/_auto_solvers.py\u001b[0m in \u001b[0;36msolve\u001b[0;34m(self)\u001b[0m\n\u001b[1;32m    395\u001b[0m             \u001b[0;32mif\u001b[0m \u001b[0mp\u001b[0m \u001b[0;34m<\u001b[0m \u001b[0mmax_p\u001b[0m \u001b[0;32mand\u001b[0m\u001b[0;31m \u001b[0m\u001b[0;31m\\\u001b[0m\u001b[0;34m\u001b[0m\u001b[0;34m\u001b[0m\u001b[0m\n\u001b[1;32m    396\u001b[0m                     \u001b[0mself\u001b[0m\u001b[0;34m.\u001b[0m\u001b[0mk\u001b[0m \u001b[0;34m<\u001b[0m \u001b[0mself\u001b[0m\u001b[0;34m.\u001b[0m\u001b[0mmax_k\u001b[0m \u001b[0;32mand\u001b[0m\u001b[0;31m \u001b[0m\u001b[0;31m\\\u001b[0m\u001b[0;34m\u001b[0m\u001b[0;34m\u001b[0m\u001b[0m\n\u001b[0;32m--> 397\u001b[0;31m                     \u001b[0mself\u001b[0m\u001b[0;34m.\u001b[0m\u001b[0m_do_fit\u001b[0m\u001b[0;34m(\u001b[0m\u001b[0;34m(\u001b[0m\u001b[0mp\u001b[0m \u001b[0;34m+\u001b[0m \u001b[0;36m1\u001b[0m\u001b[0;34m,\u001b[0m \u001b[0md\u001b[0m\u001b[0;34m,\u001b[0m \u001b[0mq\u001b[0m\u001b[0;34m)\u001b[0m\u001b[0;34m,\u001b[0m \u001b[0;34m(\u001b[0m\u001b[0mP\u001b[0m\u001b[0;34m,\u001b[0m \u001b[0mD\u001b[0m\u001b[0;34m,\u001b[0m \u001b[0mQ\u001b[0m\u001b[0;34m,\u001b[0m \u001b[0mm\u001b[0m\u001b[0;34m)\u001b[0m\u001b[0;34m)\u001b[0m\u001b[0;34m:\u001b[0m\u001b[0;34m\u001b[0m\u001b[0;34m\u001b[0m\u001b[0m\n\u001b[0m\u001b[1;32m    398\u001b[0m                 \u001b[0mp\u001b[0m \u001b[0;34m+=\u001b[0m \u001b[0;36m1\u001b[0m\u001b[0;34m\u001b[0m\u001b[0;34m\u001b[0m\u001b[0m\n\u001b[1;32m    399\u001b[0m                 \u001b[0;32mcontinue\u001b[0m\u001b[0;34m\u001b[0m\u001b[0;34m\u001b[0m\u001b[0m\n",
            "\u001b[0;32m/usr/local/lib/python3.7/dist-packages/pmdarima/arima/_auto_solvers.py\u001b[0m in \u001b[0;36m_do_fit\u001b[0;34m(self, order, seasonal_order, constant)\u001b[0m\n\u001b[1;32m    234\u001b[0m                 \u001b[0morder\u001b[0m\u001b[0;34m=\u001b[0m\u001b[0morder\u001b[0m\u001b[0;34m,\u001b[0m\u001b[0;34m\u001b[0m\u001b[0;34m\u001b[0m\u001b[0m\n\u001b[1;32m    235\u001b[0m                 \u001b[0mseasonal_order\u001b[0m\u001b[0;34m=\u001b[0m\u001b[0mseasonal_order\u001b[0m\u001b[0;34m,\u001b[0m\u001b[0;34m\u001b[0m\u001b[0;34m\u001b[0m\u001b[0m\n\u001b[0;32m--> 236\u001b[0;31m                 with_intercept=constant)\n\u001b[0m\u001b[1;32m    237\u001b[0m \u001b[0;34m\u001b[0m\u001b[0m\n\u001b[1;32m    238\u001b[0m             \u001b[0;31m# use the orders as a key to be hashed for\u001b[0m\u001b[0;34m\u001b[0m\u001b[0;34m\u001b[0m\u001b[0;34m\u001b[0m\u001b[0m\n",
            "\u001b[0;32m/usr/local/lib/python3.7/dist-packages/pmdarima/arima/_auto_solvers.py\u001b[0m in \u001b[0;36m_fit_candidate_model\u001b[0;34m(y, X, order, seasonal_order, start_params, trend, method, maxiter, fit_params, suppress_warnings, trace, error_action, out_of_sample_size, scoring, scoring_args, with_intercept, information_criterion, **kwargs)\u001b[0m\n\u001b[1;32m    504\u001b[0m \u001b[0;34m\u001b[0m\u001b[0m\n\u001b[1;32m    505\u001b[0m     \u001b[0;32mtry\u001b[0m\u001b[0;34m:\u001b[0m\u001b[0;34m\u001b[0m\u001b[0;34m\u001b[0m\u001b[0m\n\u001b[0;32m--> 506\u001b[0;31m         \u001b[0mfit\u001b[0m\u001b[0;34m.\u001b[0m\u001b[0mfit\u001b[0m\u001b[0;34m(\u001b[0m\u001b[0my\u001b[0m\u001b[0;34m,\u001b[0m \u001b[0mX\u001b[0m\u001b[0;34m=\u001b[0m\u001b[0mX\u001b[0m\u001b[0;34m,\u001b[0m \u001b[0;34m**\u001b[0m\u001b[0mfit_params\u001b[0m\u001b[0;34m)\u001b[0m\u001b[0;34m\u001b[0m\u001b[0;34m\u001b[0m\u001b[0m\n\u001b[0m\u001b[1;32m    507\u001b[0m \u001b[0;34m\u001b[0m\u001b[0m\n\u001b[1;32m    508\u001b[0m     \u001b[0;31m# for non-stationarity errors or singular matrices, return None\u001b[0m\u001b[0;34m\u001b[0m\u001b[0;34m\u001b[0m\u001b[0;34m\u001b[0m\u001b[0m\n",
            "\u001b[0;32m/usr/local/lib/python3.7/dist-packages/pmdarima/arima/arima.py\u001b[0m in \u001b[0;36mfit\u001b[0;34m(self, y, X, **fit_args)\u001b[0m\n\u001b[1;32m    595\u001b[0m \u001b[0;34m\u001b[0m\u001b[0m\n\u001b[1;32m    596\u001b[0m         \u001b[0;31m# Internal call\u001b[0m\u001b[0;34m\u001b[0m\u001b[0;34m\u001b[0m\u001b[0;34m\u001b[0m\u001b[0m\n\u001b[0;32m--> 597\u001b[0;31m         \u001b[0mself\u001b[0m\u001b[0;34m.\u001b[0m\u001b[0m_fit\u001b[0m\u001b[0;34m(\u001b[0m\u001b[0my\u001b[0m\u001b[0;34m,\u001b[0m \u001b[0mX\u001b[0m\u001b[0;34m,\u001b[0m \u001b[0;34m**\u001b[0m\u001b[0mfit_args\u001b[0m\u001b[0;34m)\u001b[0m\u001b[0;34m\u001b[0m\u001b[0;34m\u001b[0m\u001b[0m\n\u001b[0m\u001b[1;32m    598\u001b[0m \u001b[0;34m\u001b[0m\u001b[0m\n\u001b[1;32m    599\u001b[0m         \u001b[0;31m# now make a forecast if we're validating to compute the\u001b[0m\u001b[0;34m\u001b[0m\u001b[0;34m\u001b[0m\u001b[0;34m\u001b[0m\u001b[0m\n",
            "\u001b[0;32m/usr/local/lib/python3.7/dist-packages/pmdarima/arima/arima.py\u001b[0m in \u001b[0;36m_fit\u001b[0;34m(self, y, X, **fit_args)\u001b[0m\n\u001b[1;32m    516\u001b[0m             \u001b[0;32mwith\u001b[0m \u001b[0mwarnings\u001b[0m\u001b[0;34m.\u001b[0m\u001b[0mcatch_warnings\u001b[0m\u001b[0;34m(\u001b[0m\u001b[0mrecord\u001b[0m\u001b[0;34m=\u001b[0m\u001b[0;32mFalse\u001b[0m\u001b[0;34m)\u001b[0m\u001b[0;34m:\u001b[0m\u001b[0;34m\u001b[0m\u001b[0;34m\u001b[0m\u001b[0m\n\u001b[1;32m    517\u001b[0m                 \u001b[0mwarnings\u001b[0m\u001b[0;34m.\u001b[0m\u001b[0msimplefilter\u001b[0m\u001b[0;34m(\u001b[0m\u001b[0;34m'ignore'\u001b[0m\u001b[0;34m)\u001b[0m\u001b[0;34m\u001b[0m\u001b[0;34m\u001b[0m\u001b[0m\n\u001b[0;32m--> 518\u001b[0;31m                 \u001b[0mfit\u001b[0m\u001b[0;34m,\u001b[0m \u001b[0mself\u001b[0m\u001b[0;34m.\u001b[0m\u001b[0marima_res_\u001b[0m \u001b[0;34m=\u001b[0m \u001b[0m_fit_wrapper\u001b[0m\u001b[0;34m(\u001b[0m\u001b[0;34m)\u001b[0m\u001b[0;34m\u001b[0m\u001b[0;34m\u001b[0m\u001b[0m\n\u001b[0m\u001b[1;32m    519\u001b[0m         \u001b[0;32melse\u001b[0m\u001b[0;34m:\u001b[0m\u001b[0;34m\u001b[0m\u001b[0;34m\u001b[0m\u001b[0m\n\u001b[1;32m    520\u001b[0m             \u001b[0mfit\u001b[0m\u001b[0;34m,\u001b[0m \u001b[0mself\u001b[0m\u001b[0;34m.\u001b[0m\u001b[0marima_res_\u001b[0m \u001b[0;34m=\u001b[0m \u001b[0m_fit_wrapper\u001b[0m\u001b[0;34m(\u001b[0m\u001b[0;34m)\u001b[0m\u001b[0;34m\u001b[0m\u001b[0;34m\u001b[0m\u001b[0m\n",
            "\u001b[0;32m/usr/local/lib/python3.7/dist-packages/pmdarima/arima/arima.py\u001b[0m in \u001b[0;36m_fit_wrapper\u001b[0;34m()\u001b[0m\n\u001b[1;32m    510\u001b[0m                                     \u001b[0mmaxiter\u001b[0m\u001b[0;34m=\u001b[0m\u001b[0m_maxiter\u001b[0m\u001b[0;34m,\u001b[0m\u001b[0;34m\u001b[0m\u001b[0;34m\u001b[0m\u001b[0m\n\u001b[1;32m    511\u001b[0m                                     \u001b[0mdisp\u001b[0m\u001b[0;34m=\u001b[0m\u001b[0mdisp\u001b[0m\u001b[0;34m,\u001b[0m\u001b[0;34m\u001b[0m\u001b[0;34m\u001b[0m\u001b[0m\n\u001b[0;32m--> 512\u001b[0;31m                                     **fit_args)\n\u001b[0m\u001b[1;32m    513\u001b[0m \u001b[0;34m\u001b[0m\u001b[0m\n\u001b[1;32m    514\u001b[0m         \u001b[0;31m# sometimes too many warnings...\u001b[0m\u001b[0;34m\u001b[0m\u001b[0;34m\u001b[0m\u001b[0;34m\u001b[0m\u001b[0m\n",
            "\u001b[0;32m/usr/local/lib/python3.7/dist-packages/statsmodels/tsa/statespace/mlemodel.py\u001b[0m in \u001b[0;36mfit\u001b[0;34m(self, start_params, transformed, includes_fixed, cov_type, cov_kwds, method, maxiter, full_output, disp, callback, return_params, optim_score, optim_complex_step, optim_hessian, flags, low_memory, **kwargs)\u001b[0m\n\u001b[1;32m    727\u001b[0m                 \u001b[0mfunc\u001b[0m \u001b[0;34m=\u001b[0m \u001b[0mself\u001b[0m\u001b[0;34m.\u001b[0m\u001b[0msmooth\u001b[0m\u001b[0;34m\u001b[0m\u001b[0;34m\u001b[0m\u001b[0m\n\u001b[1;32m    728\u001b[0m             res = func(mlefit.params, transformed=False, includes_fixed=False,\n\u001b[0;32m--> 729\u001b[0;31m                        cov_type=cov_type, cov_kwds=cov_kwds)\n\u001b[0m\u001b[1;32m    730\u001b[0m \u001b[0;34m\u001b[0m\u001b[0m\n\u001b[1;32m    731\u001b[0m             \u001b[0mres\u001b[0m\u001b[0;34m.\u001b[0m\u001b[0mmlefit\u001b[0m \u001b[0;34m=\u001b[0m \u001b[0mmlefit\u001b[0m\u001b[0;34m\u001b[0m\u001b[0;34m\u001b[0m\u001b[0m\n",
            "\u001b[0;32m/usr/local/lib/python3.7/dist-packages/statsmodels/tsa/statespace/mlemodel.py\u001b[0m in \u001b[0;36msmooth\u001b[0;34m(self, params, transformed, includes_fixed, complex_step, cov_type, cov_kwds, return_ssm, results_class, results_wrapper_class, **kwargs)\u001b[0m\n\u001b[1;32m    889\u001b[0m         return self._wrap_results(params, result, return_ssm, cov_type,\n\u001b[1;32m    890\u001b[0m                                   \u001b[0mcov_kwds\u001b[0m\u001b[0;34m,\u001b[0m \u001b[0mresults_class\u001b[0m\u001b[0;34m,\u001b[0m\u001b[0;34m\u001b[0m\u001b[0;34m\u001b[0m\u001b[0m\n\u001b[0;32m--> 891\u001b[0;31m                                   results_wrapper_class)\n\u001b[0m\u001b[1;32m    892\u001b[0m \u001b[0;34m\u001b[0m\u001b[0m\n\u001b[1;32m    893\u001b[0m     \u001b[0m_loglike_param_names\u001b[0m \u001b[0;34m=\u001b[0m \u001b[0;34m[\u001b[0m\u001b[0;34m'transformed'\u001b[0m\u001b[0;34m,\u001b[0m \u001b[0;34m'includes_fixed'\u001b[0m\u001b[0;34m,\u001b[0m \u001b[0;34m'complex_step'\u001b[0m\u001b[0;34m]\u001b[0m\u001b[0;34m\u001b[0m\u001b[0;34m\u001b[0m\u001b[0m\n",
            "\u001b[0;32m/usr/local/lib/python3.7/dist-packages/statsmodels/tsa/statespace/mlemodel.py\u001b[0m in \u001b[0;36m_wrap_results\u001b[0;34m(self, params, result, return_raw, cov_type, cov_kwds, results_class, wrapper_class)\u001b[0m\n\u001b[1;32m    786\u001b[0m                 \u001b[0mwrapper_class\u001b[0m \u001b[0;34m=\u001b[0m \u001b[0mself\u001b[0m\u001b[0;34m.\u001b[0m\u001b[0m_res_classes\u001b[0m\u001b[0;34m[\u001b[0m\u001b[0;34m'fit'\u001b[0m\u001b[0;34m]\u001b[0m\u001b[0;34m[\u001b[0m\u001b[0;36m1\u001b[0m\u001b[0;34m]\u001b[0m\u001b[0;34m\u001b[0m\u001b[0;34m\u001b[0m\u001b[0m\n\u001b[1;32m    787\u001b[0m \u001b[0;34m\u001b[0m\u001b[0m\n\u001b[0;32m--> 788\u001b[0;31m             \u001b[0mres\u001b[0m \u001b[0;34m=\u001b[0m \u001b[0mresults_class\u001b[0m\u001b[0;34m(\u001b[0m\u001b[0mself\u001b[0m\u001b[0;34m,\u001b[0m \u001b[0mparams\u001b[0m\u001b[0;34m,\u001b[0m \u001b[0mresult\u001b[0m\u001b[0;34m,\u001b[0m \u001b[0;34m**\u001b[0m\u001b[0mresult_kwargs\u001b[0m\u001b[0;34m)\u001b[0m\u001b[0;34m\u001b[0m\u001b[0;34m\u001b[0m\u001b[0m\n\u001b[0m\u001b[1;32m    789\u001b[0m             \u001b[0mresult\u001b[0m \u001b[0;34m=\u001b[0m \u001b[0mwrapper_class\u001b[0m\u001b[0;34m(\u001b[0m\u001b[0mres\u001b[0m\u001b[0;34m)\u001b[0m\u001b[0;34m\u001b[0m\u001b[0;34m\u001b[0m\u001b[0m\n\u001b[1;32m    790\u001b[0m         \u001b[0;32mreturn\u001b[0m \u001b[0mresult\u001b[0m\u001b[0;34m\u001b[0m\u001b[0;34m\u001b[0m\u001b[0m\n",
            "\u001b[0;32m/usr/local/lib/python3.7/dist-packages/statsmodels/tsa/statespace/sarimax.py\u001b[0m in \u001b[0;36m__init__\u001b[0;34m(self, model, params, filter_results, cov_type, **kwargs)\u001b[0m\n\u001b[1;32m   1805\u001b[0m                  **kwargs):\n\u001b[1;32m   1806\u001b[0m         super(SARIMAXResults, self).__init__(model, params, filter_results,\n\u001b[0;32m-> 1807\u001b[0;31m                                              cov_type, **kwargs)\n\u001b[0m\u001b[1;32m   1808\u001b[0m \u001b[0;34m\u001b[0m\u001b[0m\n\u001b[1;32m   1809\u001b[0m         \u001b[0mself\u001b[0m\u001b[0;34m.\u001b[0m\u001b[0mdf_resid\u001b[0m \u001b[0;34m=\u001b[0m \u001b[0mnp\u001b[0m\u001b[0;34m.\u001b[0m\u001b[0minf\u001b[0m  \u001b[0;31m# attribute required for wald tests\u001b[0m\u001b[0;34m\u001b[0m\u001b[0;34m\u001b[0m\u001b[0m\n",
            "\u001b[0;32m/usr/local/lib/python3.7/dist-packages/statsmodels/tsa/statespace/mlemodel.py\u001b[0m in \u001b[0;36m__init__\u001b[0;34m(self, model, params, results, cov_type, cov_kwds, **kwargs)\u001b[0m\n\u001b[1;32m   2336\u001b[0m             \u001b[0mself\u001b[0m\u001b[0;34m.\u001b[0m\u001b[0m_rank\u001b[0m \u001b[0;34m=\u001b[0m \u001b[0;32mNone\u001b[0m\u001b[0;34m\u001b[0m\u001b[0;34m\u001b[0m\u001b[0m\n\u001b[1;32m   2337\u001b[0m             self._get_robustcov_results(cov_type=cov_type, use_self=True,\n\u001b[0;32m-> 2338\u001b[0;31m                                         **cov_kwds)\n\u001b[0m\u001b[1;32m   2339\u001b[0m         \u001b[0;32mexcept\u001b[0m \u001b[0mnp\u001b[0m\u001b[0;34m.\u001b[0m\u001b[0mlinalg\u001b[0m\u001b[0;34m.\u001b[0m\u001b[0mLinAlgError\u001b[0m\u001b[0;34m:\u001b[0m\u001b[0;34m\u001b[0m\u001b[0;34m\u001b[0m\u001b[0m\n\u001b[1;32m   2340\u001b[0m             \u001b[0mself\u001b[0m\u001b[0;34m.\u001b[0m\u001b[0m_rank\u001b[0m \u001b[0;34m=\u001b[0m \u001b[0;36m0\u001b[0m\u001b[0;34m\u001b[0m\u001b[0;34m\u001b[0m\u001b[0m\n",
            "\u001b[0;32m/usr/local/lib/python3.7/dist-packages/statsmodels/tsa/statespace/mlemodel.py\u001b[0m in \u001b[0;36m_get_robustcov_results\u001b[0;34m(self, cov_type, **kwargs)\u001b[0m\n\u001b[1;32m   2565\u001b[0m                                                 approx_type=approx_type_str)\n\u001b[1;32m   2566\u001b[0m         \u001b[0;32melif\u001b[0m \u001b[0mself\u001b[0m\u001b[0;34m.\u001b[0m\u001b[0mcov_type\u001b[0m \u001b[0;34m==\u001b[0m \u001b[0;34m'opg'\u001b[0m\u001b[0;34m:\u001b[0m\u001b[0;34m\u001b[0m\u001b[0;34m\u001b[0m\u001b[0m\n\u001b[0;32m-> 2567\u001b[0;31m             \u001b[0mres\u001b[0m\u001b[0;34m.\u001b[0m\u001b[0mcov_params_default\u001b[0m \u001b[0;34m=\u001b[0m \u001b[0mres\u001b[0m\u001b[0;34m.\u001b[0m\u001b[0mcov_params_opg\u001b[0m\u001b[0;34m\u001b[0m\u001b[0;34m\u001b[0m\u001b[0m\n\u001b[0m\u001b[1;32m   2568\u001b[0m             res.cov_kwds['description'] = descriptions['OPG'].format(\n\u001b[1;32m   2569\u001b[0m                                                 approx_type=approx_type_str)\n",
            "\u001b[0;32m/usr/local/lib/python3.7/dist-packages/pandas/_libs/properties.pyx\u001b[0m in \u001b[0;36mpandas._libs.properties.CachedProperty.__get__\u001b[0;34m()\u001b[0m\n",
            "\u001b[0;32m/usr/local/lib/python3.7/dist-packages/statsmodels/tsa/statespace/mlemodel.py\u001b[0m in \u001b[0;36mcov_params_opg\u001b[0;34m(self)\u001b[0m\n\u001b[1;32m   2696\u001b[0m         \"\"\"\n\u001b[1;32m   2697\u001b[0m         return self._cov_params_opg(self._cov_approx_complex_step,\n\u001b[0;32m-> 2698\u001b[0;31m                                     self._cov_approx_centered)\n\u001b[0m\u001b[1;32m   2699\u001b[0m \u001b[0;34m\u001b[0m\u001b[0m\n\u001b[1;32m   2700\u001b[0m     \u001b[0;34m@\u001b[0m\u001b[0mcache_readonly\u001b[0m\u001b[0;34m\u001b[0m\u001b[0;34m\u001b[0m\u001b[0m\n",
            "\u001b[0;32m/usr/local/lib/python3.7/dist-packages/statsmodels/tsa/statespace/mlemodel.py\u001b[0m in \u001b[0;36m_cov_params_opg\u001b[0;34m(self, approx_complex_step, approx_centered)\u001b[0m\n\u001b[1;32m   2665\u001b[0m             \u001b[0mself\u001b[0m\u001b[0;34m.\u001b[0m\u001b[0mparams\u001b[0m\u001b[0;34m,\u001b[0m \u001b[0mtransformed\u001b[0m\u001b[0;34m=\u001b[0m\u001b[0;32mTrue\u001b[0m\u001b[0;34m,\u001b[0m \u001b[0mincludes_fixed\u001b[0m\u001b[0;34m=\u001b[0m\u001b[0;32mTrue\u001b[0m\u001b[0;34m,\u001b[0m\u001b[0;34m\u001b[0m\u001b[0;34m\u001b[0m\u001b[0m\n\u001b[1;32m   2666\u001b[0m             \u001b[0mapprox_complex_step\u001b[0m\u001b[0;34m=\u001b[0m\u001b[0mapprox_complex_step\u001b[0m\u001b[0;34m,\u001b[0m\u001b[0;34m\u001b[0m\u001b[0;34m\u001b[0m\u001b[0m\n\u001b[0;32m-> 2667\u001b[0;31m             approx_centered=approx_centered)\n\u001b[0m\u001b[1;32m   2668\u001b[0m \u001b[0;34m\u001b[0m\u001b[0m\n\u001b[1;32m   2669\u001b[0m         no_free_params = (self._free_params_index is not None and\n",
            "\u001b[0;32m/usr/local/lib/python3.7/dist-packages/statsmodels/tsa/statespace/mlemodel.py\u001b[0m in \u001b[0;36m_hessian_opg\u001b[0;34m(self, params, **kwargs)\u001b[0m\n\u001b[1;32m   1540\u001b[0m         \u001b[0minformation\u001b[0m \u001b[0mmatrix\u001b[0m\u001b[0;34m\u001b[0m\u001b[0;34m\u001b[0m\u001b[0m\n\u001b[1;32m   1541\u001b[0m         \"\"\"\n\u001b[0;32m-> 1542\u001b[0;31m         \u001b[0;32mreturn\u001b[0m \u001b[0;34m-\u001b[0m\u001b[0mself\u001b[0m\u001b[0;34m.\u001b[0m\u001b[0mopg_information_matrix\u001b[0m\u001b[0;34m(\u001b[0m\u001b[0mparams\u001b[0m\u001b[0;34m,\u001b[0m \u001b[0;34m**\u001b[0m\u001b[0mkwargs\u001b[0m\u001b[0;34m)\u001b[0m\u001b[0;34m\u001b[0m\u001b[0;34m\u001b[0m\u001b[0m\n\u001b[0m\u001b[1;32m   1543\u001b[0m \u001b[0;34m\u001b[0m\u001b[0m\n\u001b[1;32m   1544\u001b[0m     def _hessian_finite_difference(self, params, approx_centered=False,\n",
            "\u001b[0;32m/usr/local/lib/python3.7/dist-packages/statsmodels/tsa/statespace/mlemodel.py\u001b[0m in \u001b[0;36mopg_information_matrix\u001b[0;34m(self, params, transformed, includes_fixed, approx_complex_step, **kwargs)\u001b[0m\n\u001b[1;32m   1230\u001b[0m                                    \u001b[0mincludes_fixed\u001b[0m\u001b[0;34m=\u001b[0m\u001b[0mincludes_fixed\u001b[0m\u001b[0;34m,\u001b[0m\u001b[0;34m\u001b[0m\u001b[0;34m\u001b[0m\u001b[0m\n\u001b[1;32m   1231\u001b[0m                                    \u001b[0mapprox_complex_step\u001b[0m\u001b[0;34m=\u001b[0m\u001b[0mapprox_complex_step\u001b[0m\u001b[0;34m,\u001b[0m\u001b[0;34m\u001b[0m\u001b[0;34m\u001b[0m\u001b[0m\n\u001b[0;32m-> 1232\u001b[0;31m                                    **kwargs).transpose()\n\u001b[0m\u001b[1;32m   1233\u001b[0m         return (\n\u001b[1;32m   1234\u001b[0m             \u001b[0mnp\u001b[0m\u001b[0;34m.\u001b[0m\u001b[0minner\u001b[0m\u001b[0;34m(\u001b[0m\u001b[0mscore_obs\u001b[0m\u001b[0;34m,\u001b[0m \u001b[0mscore_obs\u001b[0m\u001b[0;34m)\u001b[0m \u001b[0;34m/\u001b[0m\u001b[0;34m\u001b[0m\u001b[0;34m\u001b[0m\u001b[0m\n",
            "\u001b[0;32m/usr/local/lib/python3.7/dist-packages/statsmodels/tsa/statespace/mlemodel.py\u001b[0m in \u001b[0;36mscore_obs\u001b[0;34m(self, params, method, transformed, includes_fixed, approx_complex_step, approx_centered, **kwargs)\u001b[0m\n\u001b[1;32m   1447\u001b[0m             \u001b[0mkwargs\u001b[0m\u001b[0;34m[\u001b[0m\u001b[0;34m'complex_step'\u001b[0m\u001b[0;34m]\u001b[0m \u001b[0;34m=\u001b[0m \u001b[0;32mTrue\u001b[0m\u001b[0;34m\u001b[0m\u001b[0;34m\u001b[0m\u001b[0m\n\u001b[1;32m   1448\u001b[0m             score = approx_fprime_cs(params, self.loglikeobs, epsilon=epsilon,\n\u001b[0;32m-> 1449\u001b[0;31m                                      kwargs=kwargs)\n\u001b[0m\u001b[1;32m   1450\u001b[0m         \u001b[0;32melif\u001b[0m \u001b[0mmethod\u001b[0m \u001b[0;34m==\u001b[0m \u001b[0;34m'approx'\u001b[0m\u001b[0;34m:\u001b[0m\u001b[0;34m\u001b[0m\u001b[0;34m\u001b[0m\u001b[0m\n\u001b[1;32m   1451\u001b[0m             score = approx_fprime(params, self.loglikeobs, kwargs=kwargs,\n",
            "\u001b[0;32m/usr/local/lib/python3.7/dist-packages/statsmodels/tools/numdiff.py\u001b[0m in \u001b[0;36mapprox_fprime_cs\u001b[0;34m(x, f, epsilon, args, kwargs)\u001b[0m\n\u001b[1;32m    247\u001b[0m     \u001b[0;31m# TODO: see if this can be vectorized, but usually dim is small\u001b[0m\u001b[0;34m\u001b[0m\u001b[0;34m\u001b[0m\u001b[0;34m\u001b[0m\u001b[0m\n\u001b[1;32m    248\u001b[0m     partials = [f(x+ih, *args, **kwargs).imag / epsilon[i]\n\u001b[0;32m--> 249\u001b[0;31m                 for i, ih in enumerate(increments)]\n\u001b[0m\u001b[1;32m    250\u001b[0m \u001b[0;34m\u001b[0m\u001b[0m\n\u001b[1;32m    251\u001b[0m     \u001b[0;32mreturn\u001b[0m \u001b[0mnp\u001b[0m\u001b[0;34m.\u001b[0m\u001b[0marray\u001b[0m\u001b[0;34m(\u001b[0m\u001b[0mpartials\u001b[0m\u001b[0;34m)\u001b[0m\u001b[0;34m.\u001b[0m\u001b[0mT\u001b[0m\u001b[0;34m\u001b[0m\u001b[0;34m\u001b[0m\u001b[0m\n",
            "\u001b[0;32m/usr/local/lib/python3.7/dist-packages/statsmodels/tools/numdiff.py\u001b[0m in \u001b[0;36m<listcomp>\u001b[0;34m(.0)\u001b[0m\n\u001b[1;32m    247\u001b[0m     \u001b[0;31m# TODO: see if this can be vectorized, but usually dim is small\u001b[0m\u001b[0;34m\u001b[0m\u001b[0;34m\u001b[0m\u001b[0;34m\u001b[0m\u001b[0m\n\u001b[1;32m    248\u001b[0m     partials = [f(x+ih, *args, **kwargs).imag / epsilon[i]\n\u001b[0;32m--> 249\u001b[0;31m                 for i, ih in enumerate(increments)]\n\u001b[0m\u001b[1;32m    250\u001b[0m \u001b[0;34m\u001b[0m\u001b[0m\n\u001b[1;32m    251\u001b[0m     \u001b[0;32mreturn\u001b[0m \u001b[0mnp\u001b[0m\u001b[0;34m.\u001b[0m\u001b[0marray\u001b[0m\u001b[0;34m(\u001b[0m\u001b[0mpartials\u001b[0m\u001b[0;34m)\u001b[0m\u001b[0;34m.\u001b[0m\u001b[0mT\u001b[0m\u001b[0;34m\u001b[0m\u001b[0;34m\u001b[0m\u001b[0m\n",
            "\u001b[0;32m/usr/local/lib/python3.7/dist-packages/statsmodels/tsa/statespace/mlemodel.py\u001b[0m in \u001b[0;36mloglikeobs\u001b[0;34m(self, params, transformed, includes_fixed, complex_step, **kwargs)\u001b[0m\n\u001b[1;32m    986\u001b[0m                     complex_step=complex_step)\n\u001b[1;32m    987\u001b[0m \u001b[0;34m\u001b[0m\u001b[0m\n\u001b[0;32m--> 988\u001b[0;31m         \u001b[0;32mreturn\u001b[0m \u001b[0mself\u001b[0m\u001b[0;34m.\u001b[0m\u001b[0mssm\u001b[0m\u001b[0;34m.\u001b[0m\u001b[0mloglikeobs\u001b[0m\u001b[0;34m(\u001b[0m\u001b[0mcomplex_step\u001b[0m\u001b[0;34m=\u001b[0m\u001b[0mcomplex_step\u001b[0m\u001b[0;34m,\u001b[0m \u001b[0;34m**\u001b[0m\u001b[0mkwargs\u001b[0m\u001b[0;34m)\u001b[0m\u001b[0;34m\u001b[0m\u001b[0;34m\u001b[0m\u001b[0m\n\u001b[0m\u001b[1;32m    989\u001b[0m \u001b[0;34m\u001b[0m\u001b[0m\n\u001b[1;32m    990\u001b[0m     \u001b[0;32mdef\u001b[0m \u001b[0msimulation_smoother\u001b[0m\u001b[0;34m(\u001b[0m\u001b[0mself\u001b[0m\u001b[0;34m,\u001b[0m \u001b[0msimulation_output\u001b[0m\u001b[0;34m=\u001b[0m\u001b[0;32mNone\u001b[0m\u001b[0;34m,\u001b[0m \u001b[0;34m**\u001b[0m\u001b[0mkwargs\u001b[0m\u001b[0;34m)\u001b[0m\u001b[0;34m:\u001b[0m\u001b[0;34m\u001b[0m\u001b[0;34m\u001b[0m\u001b[0m\n",
            "\u001b[0;32m/usr/local/lib/python3.7/dist-packages/statsmodels/tsa/statespace/kalman_filter.py\u001b[0m in \u001b[0;36mloglikeobs\u001b[0;34m(self, **kwargs)\u001b[0m\n\u001b[1;32m   1048\u001b[0m                 \u001b[0;34m'conserve_memory'\u001b[0m\u001b[0;34m,\u001b[0m\u001b[0;34m\u001b[0m\u001b[0;34m\u001b[0m\u001b[0m\n\u001b[1;32m   1049\u001b[0m                 MEMORY_CONSERVE ^ (MEMORY_NO_FORECAST | MEMORY_NO_LIKELIHOOD))\n\u001b[0;32m-> 1050\u001b[0;31m         \u001b[0mkfilter\u001b[0m \u001b[0;34m=\u001b[0m \u001b[0mself\u001b[0m\u001b[0;34m.\u001b[0m\u001b[0m_filter\u001b[0m\u001b[0;34m(\u001b[0m\u001b[0;34m**\u001b[0m\u001b[0mkwargs\u001b[0m\u001b[0;34m)\u001b[0m\u001b[0;34m\u001b[0m\u001b[0;34m\u001b[0m\u001b[0m\n\u001b[0m\u001b[1;32m   1051\u001b[0m         \u001b[0mllf_obs\u001b[0m \u001b[0;34m=\u001b[0m \u001b[0mnp\u001b[0m\u001b[0;34m.\u001b[0m\u001b[0marray\u001b[0m\u001b[0;34m(\u001b[0m\u001b[0mkfilter\u001b[0m\u001b[0;34m.\u001b[0m\u001b[0mloglikelihood\u001b[0m\u001b[0;34m,\u001b[0m \u001b[0mcopy\u001b[0m\u001b[0;34m=\u001b[0m\u001b[0;32mTrue\u001b[0m\u001b[0;34m)\u001b[0m\u001b[0;34m\u001b[0m\u001b[0;34m\u001b[0m\u001b[0m\n\u001b[1;32m   1052\u001b[0m         loglikelihood_burn = kwargs.get('loglikelihood_burn',\n",
            "\u001b[0;32m/usr/local/lib/python3.7/dist-packages/statsmodels/tsa/statespace/kalman_filter.py\u001b[0m in \u001b[0;36m_filter\u001b[0;34m(self, filter_method, inversion_method, stability_method, conserve_memory, filter_timing, tolerance, loglikelihood_burn, complex_step)\u001b[0m\n\u001b[1;32m    904\u001b[0m \u001b[0;34m\u001b[0m\u001b[0m\n\u001b[1;32m    905\u001b[0m         \u001b[0;31m# Run the filter\u001b[0m\u001b[0;34m\u001b[0m\u001b[0;34m\u001b[0m\u001b[0;34m\u001b[0m\u001b[0m\n\u001b[0;32m--> 906\u001b[0;31m         \u001b[0mkfilter\u001b[0m\u001b[0;34m(\u001b[0m\u001b[0;34m)\u001b[0m\u001b[0;34m\u001b[0m\u001b[0;34m\u001b[0m\u001b[0m\n\u001b[0m\u001b[1;32m    907\u001b[0m \u001b[0;34m\u001b[0m\u001b[0m\n\u001b[1;32m    908\u001b[0m         \u001b[0;32mreturn\u001b[0m \u001b[0mkfilter\u001b[0m\u001b[0;34m\u001b[0m\u001b[0;34m\u001b[0m\u001b[0m\n",
            "\u001b[0;31mKeyboardInterrupt\u001b[0m: "
          ]
        }
      ]
    },
    {
      "cell_type": "code",
      "source": [
        "plot_acf?"
      ],
      "metadata": {
        "id": "JISuculE7Exj"
      },
      "execution_count": 54,
      "outputs": []
    },
    {
      "cell_type": "code",
      "source": [
        "plot_acf(y_train)\n",
        "plt.show()\n",
        "plt.figure(figsize=(10,5))"
      ],
      "metadata": {
        "colab": {
          "base_uri": "https://localhost:8080/",
          "height": 316
        },
        "id": "qo76is6r4OBR",
        "outputId": "481c50b8-e723-4ef4-dd68-74e382b9c754"
      },
      "execution_count": 56,
      "outputs": [
        {
          "output_type": "display_data",
          "data": {
            "text/plain": [
              "<Figure size 432x288 with 1 Axes>"
            ],
            "image/png": "[encoded data removed]"
          },
          "metadata": {
            "needs_background": "light"
          }
        },
        {
          "output_type": "execute_result",
          "data": {
            "text/plain": [
              "<Figure size 720x360 with 0 Axes>"
            ]
          },
          "metadata": {},
          "execution_count": 56
        },
        {
          "output_type": "display_data",
          "data": {
            "text/plain": [
              "<Figure size 720x360 with 0 Axes>"
            ]
          },
          "metadata": {}
        }
      ]
    },
    {
      "cell_type": "code",
      "source": [
        "ARIMA?"
      ],
      "metadata": {
        "id": "7ksbE0Ny3KEu"
      },
      "execution_count": 70,
      "outputs": []
    },
    {
      "cell_type": "code",
      "source": [
        "\n",
        "plot_pacf(y_train, lags=50)\n",
        "plt.show()"
      ],
      "metadata": {
        "colab": {
          "base_uri": "https://localhost:8080/",
          "height": 336
        },
        "id": "h7YdvweD5AB6",
        "outputId": "675d7868-59e2-4b94-dd52-63990c644ae4"
      },
      "execution_count": 57,
      "outputs": [
        {
          "output_type": "stream",
          "name": "stderr",
          "text": [
            "/usr/local/lib/python3.7/dist-packages/statsmodels/graphics/tsaplots.py:353: FutureWarning: The default method 'yw' can produce PACF values outside of the [-1,1] interval. After 0.13, the default will change tounadjusted Yule-Walker ('ywm'). You can use this method now by setting method='ywm'.\n",
            "  FutureWarning,\n"
          ]
        },
        {
          "output_type": "display_data",
          "data": {
            "text/plain": [
              "<Figure size 432x288 with 1 Axes>"
            ],
            "image/png": "[encoded data removed]"
          },
          "metadata": {
            "needs_background": "light"
          }
        }
      ]
    },
    {
      "cell_type": "code",
      "source": [
        "ARIMA(y_train, order=(8, 1, 0))"
      ],
      "metadata": {
        "colab": {
          "base_uri": "https://localhost:8080/",
          "height": 432
        },
        "id": "FXtcqpnY3MR5",
        "outputId": "4a0413ee-bcfd-4859-ef34-3f6726e4fb69"
      },
      "execution_count": 58,
      "outputs": [
        {
          "output_type": "error",
          "ename": "NotImplementedError",
          "evalue": "ignored",
          "traceback": [
            "\u001b[0;31m---------------------------------------------------------------------------\u001b[0m",
            "\u001b[0;31mNotImplementedError\u001b[0m                       Traceback (most recent call last)",
            "\u001b[0;32m<ipython-input-58-b5c71817b099>\u001b[0m in \u001b[0;36m<module>\u001b[0;34m()\u001b[0m\n\u001b[0;32m----> 1\u001b[0;31m \u001b[0mARIMA\u001b[0m\u001b[0;34m(\u001b[0m\u001b[0my_train\u001b[0m\u001b[0;34m,\u001b[0m \u001b[0morder\u001b[0m\u001b[0;34m=\u001b[0m\u001b[0;34m(\u001b[0m\u001b[0;36m8\u001b[0m\u001b[0;34m,\u001b[0m \u001b[0;36m1\u001b[0m\u001b[0;34m,\u001b[0m \u001b[0;36m0\u001b[0m\u001b[0;34m)\u001b[0m\u001b[0;34m)\u001b[0m\u001b[0;34m\u001b[0m\u001b[0;34m\u001b[0m\u001b[0m\n\u001b[0m",
            "\u001b[0;32m/usr/local/lib/python3.7/dist-packages/statsmodels/tsa/arima_model.py\u001b[0m in \u001b[0;36m__init__\u001b[0;34m(self, *args, **kwargs)\u001b[0m\n\u001b[1;32m     43\u001b[0m \u001b[0;34m\u001b[0m\u001b[0m\n\u001b[1;32m     44\u001b[0m     \u001b[0;32mdef\u001b[0m \u001b[0m__init__\u001b[0m\u001b[0;34m(\u001b[0m\u001b[0mself\u001b[0m\u001b[0;34m,\u001b[0m \u001b[0;34m*\u001b[0m\u001b[0margs\u001b[0m\u001b[0;34m,\u001b[0m \u001b[0;34m**\u001b[0m\u001b[0mkwargs\u001b[0m\u001b[0;34m)\u001b[0m\u001b[0;34m:\u001b[0m\u001b[0;34m\u001b[0m\u001b[0;34m\u001b[0m\u001b[0m\n\u001b[0;32m---> 45\u001b[0;31m         \u001b[0msuper\u001b[0m\u001b[0;34m(\u001b[0m\u001b[0;34m)\u001b[0m\u001b[0;34m.\u001b[0m\u001b[0m__init__\u001b[0m\u001b[0;34m(\u001b[0m\u001b[0;34m*\u001b[0m\u001b[0margs\u001b[0m\u001b[0;34m,\u001b[0m \u001b[0;34m**\u001b[0m\u001b[0mkwargs\u001b[0m\u001b[0;34m)\u001b[0m\u001b[0;34m\u001b[0m\u001b[0;34m\u001b[0m\u001b[0m\n\u001b[0m\u001b[1;32m     46\u001b[0m \u001b[0;34m\u001b[0m\u001b[0m\n\u001b[1;32m     47\u001b[0m \u001b[0;34m\u001b[0m\u001b[0m\n",
            "\u001b[0;32m/usr/local/lib/python3.7/dist-packages/statsmodels/tsa/arima_model.py\u001b[0m in \u001b[0;36m__init__\u001b[0;34m(self, *args, **kwargs)\u001b[0m\n\u001b[1;32m     27\u001b[0m \u001b[0;34m\u001b[0m\u001b[0m\n\u001b[1;32m     28\u001b[0m     \u001b[0;32mdef\u001b[0m \u001b[0m__init__\u001b[0m\u001b[0;34m(\u001b[0m\u001b[0mself\u001b[0m\u001b[0;34m,\u001b[0m \u001b[0;34m*\u001b[0m\u001b[0margs\u001b[0m\u001b[0;34m,\u001b[0m \u001b[0;34m**\u001b[0m\u001b[0mkwargs\u001b[0m\u001b[0;34m)\u001b[0m\u001b[0;34m:\u001b[0m\u001b[0;34m\u001b[0m\u001b[0;34m\u001b[0m\u001b[0m\n\u001b[0;32m---> 29\u001b[0;31m         \u001b[0;32mraise\u001b[0m \u001b[0mNotImplementedError\u001b[0m\u001b[0;34m(\u001b[0m\u001b[0mARIMA_DEPRECATION_ERROR\u001b[0m\u001b[0;34m)\u001b[0m\u001b[0;34m\u001b[0m\u001b[0;34m\u001b[0m\u001b[0m\n\u001b[0m\u001b[1;32m     30\u001b[0m \u001b[0;34m\u001b[0m\u001b[0m\n\u001b[1;32m     31\u001b[0m \u001b[0;34m\u001b[0m\u001b[0m\n",
            "\u001b[0;31mNotImplementedError\u001b[0m: \nstatsmodels.tsa.arima_model.ARMA and statsmodels.tsa.arima_model.ARIMA have\nbeen removed in favor of statsmodels.tsa.arima.model.ARIMA (note the .\nbetween arima and model) and statsmodels.tsa.SARIMAX.\n\nstatsmodels.tsa.arima.model.ARIMA makes use of the statespace framework and\nis both well tested and maintained. It also offers alternative specialized\nparameter estimators.\n"
          ]
        }
      ]
    },
    {
      "cell_type": "code",
      "source": [
        "import statsmodels.api as sm"
      ],
      "metadata": {
        "id": "0nqZkCvo3WZy"
      },
      "execution_count": 59,
      "outputs": []
    },
    {
      "cell_type": "code",
      "source": [
        "model = sm.tsa.arima.ARIMA(y_train, order=(8,1,0))\n",
        "model\n"
      ],
      "metadata": {
        "colab": {
          "base_uri": "https://localhost:8080/"
        },
        "id": "MRfA9ZiWEgg-",
        "outputId": "8d8c7672-8696-4093-f0a5-4e1863b289b5"
      },
      "execution_count": 61,
      "outputs": [
        {
          "output_type": "execute_result",
          "data": {
            "text/plain": [
              "<statsmodels.tsa.arima.model.ARIMA at 0x7fc493f7c990>"
            ]
          },
          "metadata": {},
          "execution_count": 61
        }
      ]
    },
    {
      "cell_type": "code",
      "source": [
        "sesult = model.fit()"
      ],
      "metadata": {
        "id": "Qcz-uTafEmuU"
      },
      "execution_count": 63,
      "outputs": []
    },
    {
      "cell_type": "code",
      "source": [
        "sesult.summary()"
      ],
      "metadata": {
        "colab": {
          "base_uri": "https://localhost:8080/",
          "height": 549
        },
        "id": "9QuBiWYQE2fC",
        "outputId": "183f05d1-2151-4984-c7f4-074910f8fd75"
      },
      "execution_count": 64,
      "outputs": [
        {
          "output_type": "execute_result",
          "data": {
            "text/plain": [
              "<class 'statsmodels.iolib.summary.Summary'>\n",
              "\"\"\"\n",
              "                               SARIMAX Results                                \n",
              "==============================================================================\n",
              "Dep. Variable:                      y   No. Observations:               214377\n",
              "Model:                 ARIMA(8, 1, 0)   Log Likelihood              566302.317\n",
              "Date:                Wed, 16 Mar 2022   AIC                       -1132586.633\n",
              "Time:                        14:16:30   BIC                       -1132494.154\n",
              "Sample:                             0   HQIC                      -1132559.496\n",
              "                             - 214377                                         \n",
              "Covariance Type:                  opg                                         \n",
              "==============================================================================\n",
              "                 coef    std err          z      P>|z|      [0.025      0.975]\n",
              "------------------------------------------------------------------------------\n",
              "ar.L1         -0.9338      0.002   -380.905      0.000      -0.939      -0.929\n",
              "ar.L2         -0.6837      0.003   -269.607      0.000      -0.689      -0.679\n",
              "ar.L3         -0.6275      0.003   -203.365      0.000      -0.634      -0.622\n",
              "ar.L4         -0.4320      0.003   -138.074      0.000      -0.438      -0.426\n",
              "ar.L5         -0.3811      0.003   -129.776      0.000      -0.387      -0.375\n",
              "ar.L6         -0.2600      0.003    -90.529      0.000      -0.266      -0.254\n",
              "ar.L7         -0.1940      0.002    -88.544      0.000      -0.198      -0.190\n",
              "ar.L8         -0.0891      0.002    -51.366      0.000      -0.092      -0.086\n",
              "sigma2         0.0003   1.26e-07   2350.278      0.000       0.000       0.000\n",
              "===================================================================================\n",
              "Ljung-Box (L1) (Q):                  12.45   Jarque-Bera (JB):          97166027.80\n",
              "Prob(Q):                              0.00   Prob(JB):                         0.00\n",
              "Heteroskedasticity (H):               1.02   Skew:                             6.22\n",
              "Prob(H) (two-sided):                  0.00   Kurtosis:                       106.55\n",
              "===================================================================================\n",
              "\n",
              "Warnings:\n",
              "[1] Covariance matrix calculated using the outer product of gradients (complex-step).\n",
              "\"\"\""
            ],
            "text/html": [
              "<table class=\"simpletable\">\n",
              "<caption>SARIMAX Results</caption>\n",
              "<tr>\n",
              "  <th>Dep. Variable:</th>           <td>y</td>        <th>  No. Observations:  </th>    <td>214377</td>   \n",
              "</tr>\n",
              "<tr>\n",
              "  <th>Model:</th>            <td>ARIMA(8, 1, 0)</td>  <th>  Log Likelihood     </th>  <td>566302.317</td> \n",
              "</tr>\n",
              "<tr>\n",
              "  <th>Date:</th>            <td>Wed, 16 Mar 2022</td> <th>  AIC                </th> <td>-1132586.633</td>\n",
              "</tr>\n",
              "<tr>\n",
              "  <th>Time:</th>                <td>14:16:30</td>     <th>  BIC                </th> <td>-1132494.154</td>\n",
              "</tr>\n",
              "<tr>\n",
              "  <th>Sample:</th>                  <td>0</td>        <th>  HQIC               </th> <td>-1132559.496</td>\n",
              "</tr>\n",
              "<tr>\n",
              "  <th></th>                     <td> - 214377</td>    <th>                     </th>       <td> </td>     \n",
              "</tr>\n",
              "<tr>\n",
              "  <th>Covariance Type:</th>        <td>opg</td>       <th>                     </th>       <td> </td>     \n",
              "</tr>\n",
              "</table>\n",
              "<table class=\"simpletable\">\n",
              "<tr>\n",
              "     <td></td>       <th>coef</th>     <th>std err</th>      <th>z</th>      <th>P>|z|</th>  <th>[0.025</th>    <th>0.975]</th>  \n",
              "</tr>\n",
              "<tr>\n",
              "  <th>ar.L1</th>  <td>   -0.9338</td> <td>    0.002</td> <td> -380.905</td> <td> 0.000</td> <td>   -0.939</td> <td>   -0.929</td>\n",
              "</tr>\n",
              "<tr>\n",
              "  <th>ar.L2</th>  <td>   -0.6837</td> <td>    0.003</td> <td> -269.607</td> <td> 0.000</td> <td>   -0.689</td> <td>   -0.679</td>\n",
              "</tr>\n",
              "<tr>\n",
              "  <th>ar.L3</th>  <td>   -0.6275</td> <td>    0.003</td> <td> -203.365</td> <td> 0.000</td> <td>   -0.634</td> <td>   -0.622</td>\n",
              "</tr>\n",
              "<tr>\n",
              "  <th>ar.L4</th>  <td>   -0.4320</td> <td>    0.003</td> <td> -138.074</td> <td> 0.000</td> <td>   -0.438</td> <td>   -0.426</td>\n",
              "</tr>\n",
              "<tr>\n",
              "  <th>ar.L5</th>  <td>   -0.3811</td> <td>    0.003</td> <td> -129.776</td> <td> 0.000</td> <td>   -0.387</td> <td>   -0.375</td>\n",
              "</tr>\n",
              "<tr>\n",
              "  <th>ar.L6</th>  <td>   -0.2600</td> <td>    0.003</td> <td>  -90.529</td> <td> 0.000</td> <td>   -0.266</td> <td>   -0.254</td>\n",
              "</tr>\n",
              "<tr>\n",
              "  <th>ar.L7</th>  <td>   -0.1940</td> <td>    0.002</td> <td>  -88.544</td> <td> 0.000</td> <td>   -0.198</td> <td>   -0.190</td>\n",
              "</tr>\n",
              "<tr>\n",
              "  <th>ar.L8</th>  <td>   -0.0891</td> <td>    0.002</td> <td>  -51.366</td> <td> 0.000</td> <td>   -0.092</td> <td>   -0.086</td>\n",
              "</tr>\n",
              "<tr>\n",
              "  <th>sigma2</th> <td>    0.0003</td> <td> 1.26e-07</td> <td> 2350.278</td> <td> 0.000</td> <td>    0.000</td> <td>    0.000</td>\n",
              "</tr>\n",
              "</table>\n",
              "<table class=\"simpletable\">\n",
              "<tr>\n",
              "  <th>Ljung-Box (L1) (Q):</th>     <td>12.45</td> <th>  Jarque-Bera (JB):  </th> <td>97166027.80</td>\n",
              "</tr>\n",
              "<tr>\n",
              "  <th>Prob(Q):</th>                <td>0.00</td>  <th>  Prob(JB):          </th>    <td>0.00</td>    \n",
              "</tr>\n",
              "<tr>\n",
              "  <th>Heteroskedasticity (H):</th> <td>1.02</td>  <th>  Skew:              </th>    <td>6.22</td>    \n",
              "</tr>\n",
              "<tr>\n",
              "  <th>Prob(H) (two-sided):</th>    <td>0.00</td>  <th>  Kurtosis:          </th>   <td>106.55</td>   \n",
              "</tr>\n",
              "</table><br/><br/>Warnings:<br/>[1] Covariance matrix calculated using the outer product of gradients (complex-step)."
            ]
          },
          "metadata": {},
          "execution_count": 64
        }
      ]
    },
    {
      "cell_type": "code",
      "source": [
        ""
      ],
      "metadata": {
        "id": "P_tvIdgAFlh7"
      },
      "execution_count": null,
      "outputs": []
    }
  ]
}