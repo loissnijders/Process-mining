{
  "nbformat": 4,
  "nbformat_minor": 0,
  "metadata": {
    "colab": {
      "name": "arima_lois.ipynb",
      "provenance": [],
      "collapsed_sections": [],
      "machine_shape": "hm",
      "include_colab_link": true
    },
    "kernelspec": {
      "name": "python3",
      "display_name": "Python 3"
    },
    "language_info": {
      "name": "python"
    }
  },
  "cells": [
    {
      "cell_type": "markdown",
      "metadata": {
        "id": "view-in-github",
        "colab_type": "text"
      },
      "source": [
        "<a href=\"https://colab.research.google.com/github/loissnijders/Process-mining/blob/main/arima_lois.ipynb\" target=\"_parent\"><img src=\"https://colab.research.google.com/assets/colab-badge.svg\" alt=\"Open In Colab\"/></a>"
      ]
    },
    {
      "cell_type": "code",
      "execution_count": 137,
      "metadata": {
        "id": "nF-fIksyHVwp"
      },
      "outputs": [],
      "source": [
        "from google.colab import drive"
      ]
    },
    {
      "cell_type": "code",
      "source": [
        "import io\n",
        "import pandas as pd\n",
        "import re\n",
        "from datetime import timedelta\n",
        "import numpy as np"
      ],
      "metadata": {
        "id": "AEQhnEysJvRI"
      },
      "execution_count": 138,
      "outputs": []
    },
    {
      "cell_type": "code",
      "source": [
        "!wget -O training.csv https://surfdrive.surf.nl/files/index.php/s/aNVxBfvZl273kKN/download   \n",
        "!wget -O test.csv https://surfdrive.surf.nl/files/index.php/s/0lJ3j0RlMeychGj/download   \n",
        "\n",
        "\n",
        "path_test = '/content/test.csv'\n",
        "path_train = '/content/training.csv'"
      ],
      "metadata": {
        "colab": {
          "base_uri": "https://localhost:8080/"
        },
        "id": "cssUYHZgAczY",
        "outputId": "ddcaec04-c99d-4551-951a-e72211d854d1"
      },
      "execution_count": 139,
      "outputs": [
        {
          "output_type": "stream",
          "name": "stdout",
          "text": [
            "--2022-03-15 10:17:19--  https://surfdrive.surf.nl/files/index.php/s/aNVxBfvZl273kKN/download\n",
            "Resolving surfdrive.surf.nl (surfdrive.surf.nl)... 145.100.27.67, 2001:610:108:203b:0:a11:da7a:5afe\n",
            "Connecting to surfdrive.surf.nl (surfdrive.surf.nl)|145.100.27.67|:443... connected.\n",
            "HTTP request sent, awaiting response... 200 OK\n",
            "Length: 26049572 (25M) [text/csv]\n",
            "Saving to: ‘training.csv’\n",
            "\n",
            "training.csv        100%[===================>]  24.84M  16.8MB/s    in 1.5s    \n",
            "\n",
            "2022-03-15 10:17:21 (16.8 MB/s) - ‘training.csv’ saved [26049572/26049572]\n",
            "\n",
            "--2022-03-15 10:17:21--  https://surfdrive.surf.nl/files/index.php/s/0lJ3j0RlMeychGj/download\n",
            "Resolving surfdrive.surf.nl (surfdrive.surf.nl)... 145.100.27.67, 2001:610:108:203b:0:a11:da7a:5afe\n",
            "Connecting to surfdrive.surf.nl (surfdrive.surf.nl)|145.100.27.67|:443... connected.\n",
            "HTTP request sent, awaiting response... 200 OK\n",
            "Length: 5819692 (5.5M) [text/csv]\n",
            "Saving to: ‘test.csv’\n",
            "\n",
            "test.csv            100%[===================>]   5.55M  7.54MB/s    in 0.7s    \n",
            "\n",
            "2022-03-15 10:17:22 (7.54 MB/s) - ‘test.csv’ saved [5819692/5819692]\n",
            "\n"
          ]
        }
      ]
    },
    {
      "cell_type": "code",
      "source": [
        "path_test = '/content/test.csv'\n",
        "path_train = '/content/training.csv'"
      ],
      "metadata": {
        "id": "uhM1ndeM-Gzs"
      },
      "execution_count": 140,
      "outputs": []
    },
    {
      "cell_type": "code",
      "source": [
        "# # This is for when you read the data in jupyther notebooks\n",
        "# path_test = '/content/BPI_Challenge_2012-test.csv'\n",
        "# path_train = '/content/BPI_Challenge_2012-training.csv'"
      ],
      "metadata": {
        "id": "_T4WuczQMGP9"
      },
      "execution_count": 141,
      "outputs": []
    },
    {
      "cell_type": "code",
      "source": [
        "df_train = pd.read_csv (path_train)\n",
        "df_test = pd.read_csv (path_test)"
      ],
      "metadata": {
        "id": "BFW9a2ftQaRp"
      },
      "execution_count": 142,
      "outputs": []
    },
    {
      "cell_type": "code",
      "source": [
        "# Keeping in test set only cases that started in test and not in train\n",
        "\n",
        "train_cases = list(set(list(df_train['case concept:name'])))\n",
        "test_cases = list(set(list(df_test['case concept:name'])))\n",
        "# test_delete = [item for item in test_cases if item in train_cases]\n",
        "test_keep = [item for item in test_cases if item not in train_cases]\n",
        "\n",
        "df_test = df_test[df_test['case concept:name'].isin(test_keep)]"
      ],
      "metadata": {
        "id": "qZTJfNeSUZHX"
      },
      "execution_count": 143,
      "outputs": []
    },
    {
      "cell_type": "code",
      "source": [
        "import matplotlib.pyplot as plt\n",
        "import datetime"
      ],
      "metadata": {
        "id": "__oV9bZ3BiCi"
      },
      "execution_count": 144,
      "outputs": []
    },
    {
      "cell_type": "code",
      "source": [
        "df_test['event time:timestamp']= pd.to_datetime(df_test['event time:timestamp'], dayfirst=True)\n",
        "df_train['event time:timestamp']= pd.to_datetime(df_train['event time:timestamp'], dayfirst=True)"
      ],
      "metadata": {
        "id": "Q24kQ1T-EmDY"
      },
      "execution_count": 145,
      "outputs": []
    },
    {
      "cell_type": "code",
      "source": [
        "df_train = df_train.sort_values(by=['case concept:name', 'event time:timestamp'])\n",
        "\n",
        "df_train = df_train.assign(nexttime=(df_train.groupby('case concept:name')['event time:timestamp'].shift(-1)))"
      ],
      "metadata": {
        "id": "nXhuObVU1gz9"
      },
      "execution_count": 146,
      "outputs": []
    },
    {
      "cell_type": "code",
      "source": [
        "df_test = df_test.sort_values(by=['case concept:name', 'event time:timestamp'])\n",
        "\n",
        "df_test = df_test.assign(nexttime=(df_test.groupby('case concept:name')['event time:timestamp'].shift(-1)))"
      ],
      "metadata": {
        "id": "aDcAegdb1mwW"
      },
      "execution_count": 147,
      "outputs": []
    },
    {
      "cell_type": "code",
      "source": [
        "df_train['tonext'] = (df_train.nexttime - df_train['event time:timestamp']).astype('timedelta64[s]')\n",
        "df_test['tonext'] = (df_test.nexttime - df_test['event time:timestamp']).astype('timedelta64[s]')"
      ],
      "metadata": {
        "id": "GuKU74UaDOe2"
      },
      "execution_count": 148,
      "outputs": []
    },
    {
      "cell_type": "code",
      "source": [
        "df_test = df_test.groupby('case concept:name',as_index = False).apply(lambda x: \n",
        "  x.reset_index(drop = True)).reset_index().drop('level_0',axis = 1).rename(columns={\"level_1\": \"actionorder\"})\n",
        "df_test.actionorder = df_test.actionorder + 1"
      ],
      "metadata": {
        "id": "juPruhbsLKLc"
      },
      "execution_count": 149,
      "outputs": []
    },
    {
      "cell_type": "code",
      "source": [
        "df_train = df_train.groupby('case concept:name',as_index = False).apply(lambda x: \n",
        "  x.reset_index(drop = True)).reset_index().drop('level_0',axis = 1).rename(columns={\"level_1\": \"actionorder\"})\n",
        "df_train.actionorder = df_train.actionorder + 1"
      ],
      "metadata": {
        "id": "BKSm-BfQLKN7"
      },
      "execution_count": 150,
      "outputs": []
    },
    {
      "cell_type": "code",
      "source": [
        "# targets = np.array(list(set(df_train['event concept:name'])))\n",
        "# labelEnc = preprocessing.LabelEncoder()\n",
        "# new_target = labelEnc.fit_transform(targets)\n",
        "# onehotEnc = preprocessing.OneHotEncoder()\n",
        "# onehotEnc.fit(new_target.reshape(-1, 1))\n",
        "# targets_trans = onehotEnc.transform(new_target.reshape(-1, 1))\n",
        "# print(\"The original data\")\n",
        "# print(targets)\n",
        "# print(\"The transform data using OneHotEncoder\")\n",
        "# print(targets_trans.toarray())"
      ],
      "metadata": {
        "id": "QsXX1Nkb6LGL"
      },
      "execution_count": 151,
      "outputs": []
    },
    {
      "cell_type": "code",
      "source": [
        "# zip_iterator = zip(targets.tolist(), targets_trans.toarray().tolist())\n",
        "# activity_dict = dict(zip_iterator)\n",
        "\n",
        "# df_train['onehot'] = df_train['event concept:name']"
      ],
      "metadata": {
        "id": "dZdIqv4KCw-y"
      },
      "execution_count": 152,
      "outputs": []
    },
    {
      "cell_type": "code",
      "source": [
        "# df_train['onehot'].replace(activity_dict, inplace=True)"
      ],
      "metadata": {
        "id": "L2SsEPddDeRC"
      },
      "execution_count": 153,
      "outputs": []
    },
    {
      "cell_type": "code",
      "source": [
        "import sklearn.preprocessing as preprocessing\n",
        "import numpy as np\n",
        "import pandas as pd"
      ],
      "metadata": {
        "id": "rhHcDKBuEPLC"
      },
      "execution_count": 154,
      "outputs": []
    },
    {
      "cell_type": "code",
      "source": [
        "xtrain = df_train['event concept:name']\n",
        "xtrain = xtrain.to_numpy()\n",
        "xtest = df_test['event concept:name']\n",
        "xtest = xtest.to_numpy()\n",
        "x = np.concatenate((xtrain, xtest))"
      ],
      "metadata": {
        "id": "PAXRnVVlwaw-"
      },
      "execution_count": 155,
      "outputs": []
    },
    {
      "cell_type": "code",
      "source": [
        "df_train['tonext']"
      ],
      "metadata": {
        "colab": {
          "base_uri": "https://localhost:8080/"
        },
        "id": "7KGDw7zwDE2S",
        "outputId": "fe4719ac-f24c-44ba-bca3-1ff0e7c29447"
      },
      "execution_count": 156,
      "outputs": [
        {
          "output_type": "execute_result",
          "data": {
            "text/plain": [
              "0             0.0\n",
              "1            53.0\n",
              "2             0.0\n",
              "3         39427.0\n",
              "4           356.0\n",
              "           ...   \n",
              "214372        3.0\n",
              "214373        NaN\n",
              "214374        0.0\n",
              "214375       39.0\n",
              "214376        NaN\n",
              "Name: tonext, Length: 214377, dtype: float64"
            ]
          },
          "metadata": {},
          "execution_count": 156
        }
      ]
    },
    {
      "cell_type": "code",
      "source": [
        "xtrain2 = df_train.actionorder.to_numpy().reshape(-1, 1)\n",
        "xtest2 = df_test.actionorder.to_numpy().reshape(-1, 1)"
      ],
      "metadata": {
        "id": "TruAtVHtMu-K"
      },
      "execution_count": 157,
      "outputs": []
    },
    {
      "cell_type": "code",
      "source": [
        "targets = x\n",
        "labelEnc = preprocessing.LabelEncoder()\n",
        "new_target = labelEnc.fit_transform(targets)\n",
        "onehotEnc = preprocessing.OneHotEncoder()\n",
        "onehotEnc.fit(new_target.reshape(-1, 1))\n",
        "targets_trans = onehotEnc.transform(new_target.reshape(-1, 1))\n",
        "print(\"The original data\")\n",
        "print(targets)\n",
        "print(\"The transform data using OneHotEncoder\")\n",
        "print(targets_trans.toarray())"
      ],
      "metadata": {
        "colab": {
          "base_uri": "https://localhost:8080/"
        },
        "id": "pJPEm5YUEKZE",
        "outputId": "870234a0-d7c8-4ef9-e47b-4f09f5440640"
      },
      "execution_count": 158,
      "outputs": [
        {
          "output_type": "stream",
          "name": "stdout",
          "text": [
            "The original data\n",
            "['A_SUBMITTED' 'A_PARTLYSUBMITTED' 'A_PREACCEPTED' ...\n",
            " 'W_Afhandelen leads' 'A_DECLINED' 'W_Afhandelen leads']\n",
            "The transform data using OneHotEncoder\n",
            "[[0. 0. 0. ... 0. 0. 0.]\n",
            " [0. 0. 0. ... 0. 0. 0.]\n",
            " [0. 0. 0. ... 0. 0. 0.]\n",
            " ...\n",
            " [0. 0. 0. ... 0. 0. 0.]\n",
            " [0. 0. 0. ... 0. 0. 0.]\n",
            " [0. 0. 0. ... 0. 0. 0.]]\n"
          ]
        }
      ]
    },
    {
      "cell_type": "code",
      "source": [
        "x_train = targets_trans.toarray()[:214377]\n",
        "x_test = targets_trans.toarray()[214377:]"
      ],
      "metadata": {
        "id": "jEJBaPnZEKbP"
      },
      "execution_count": 159,
      "outputs": []
    },
    {
      "cell_type": "code",
      "source": [
        "x_train = np.concatenate((x_train, xtrain2), axis = 1)\n",
        "x_test = np.concatenate((x_test, xtest2), axis = 1)"
      ],
      "metadata": {
        "id": "4NqQmH-7Nr9J"
      },
      "execution_count": 160,
      "outputs": []
    },
    {
      "cell_type": "code",
      "source": [
        "y_train = df_train.tonext.fillna(0).to_numpy()\n",
        "y_test = df_test.tonext.fillna(0).to_numpy()"
      ],
      "metadata": {
        "id": "WOpki6IDIvW1"
      },
      "execution_count": 161,
      "outputs": []
    },
    {
      "cell_type": "code",
      "source": [
        "y_train"
      ],
      "metadata": {
        "id": "0ZEARyLqIvZb",
        "colab": {
          "base_uri": "https://localhost:8080/"
        },
        "outputId": "3f5f50b7-f652-4940-c7a6-7766631416b9"
      },
      "execution_count": 162,
      "outputs": [
        {
          "output_type": "execute_result",
          "data": {
            "text/plain": [
              "array([ 0., 53.,  0., ...,  0., 39.,  0.])"
            ]
          },
          "metadata": {},
          "execution_count": 162
        }
      ]
    },
    {
      "cell_type": "code",
      "source": [
        "x_train.shape, y_train.shape, x_test.shape, y_test.shape"
      ],
      "metadata": {
        "id": "QJvMv1iWIve7",
        "colab": {
          "base_uri": "https://localhost:8080/"
        },
        "outputId": "3d5247a0-9ffe-45e3-fb8d-8d614ce3dac6"
      },
      "execution_count": 163,
      "outputs": [
        {
          "output_type": "execute_result",
          "data": {
            "text/plain": [
              "((214377, 25), (214377,), (47823, 25), (47823,))"
            ]
          },
          "metadata": {},
          "execution_count": 163
        }
      ]
    },
    {
      "cell_type": "code",
      "source": [
        "x_train, y_train"
      ],
      "metadata": {
        "id": "9Ndf49niI2hD",
        "colab": {
          "base_uri": "https://localhost:8080/"
        },
        "outputId": "e2767107-a496-4ea0-db1c-3623ea2a9645"
      },
      "execution_count": 164,
      "outputs": [
        {
          "output_type": "execute_result",
          "data": {
            "text/plain": [
              "(array([[0., 0., 0., ..., 0., 0., 1.],\n",
              "        [0., 0., 0., ..., 0., 0., 2.],\n",
              "        [0., 0., 0., ..., 0., 0., 3.],\n",
              "        ...,\n",
              "        [0., 0., 0., ..., 0., 0., 1.],\n",
              "        [0., 0., 0., ..., 0., 0., 2.],\n",
              "        [0., 0., 0., ..., 0., 0., 3.]]),\n",
              " array([ 0., 53.,  0., ...,  0., 39.,  0.]))"
            ]
          },
          "metadata": {},
          "execution_count": 164
        }
      ]
    },
    {
      "cell_type": "code",
      "source": [
        "y_train"
      ],
      "metadata": {
        "colab": {
          "base_uri": "https://localhost:8080/"
        },
        "id": "WB02vxhGBMve",
        "outputId": "9aea7152-2b21-4080-916c-2fa1b79ff301"
      },
      "execution_count": 165,
      "outputs": [
        {
          "output_type": "execute_result",
          "data": {
            "text/plain": [
              "array([ 0., 53.,  0., ...,  0., 39.,  0.])"
            ]
          },
          "metadata": {},
          "execution_count": 165
        }
      ]
    },
    {
      "cell_type": "code",
      "source": [
        "# y_train = y_train.reshape((214377, 1))\n",
        "# y_test = y_test.reshape((47823, 1))"
      ],
      "metadata": {
        "id": "EVdsySqc81np"
      },
      "execution_count": 166,
      "outputs": []
    },
    {
      "cell_type": "markdown",
      "source": [
        "The time is now in seconds. Difficult to interpret so scale the seconds such that they are a value between 0 and 1. Where 1 is the longest time until a next activity. "
      ],
      "metadata": {
        "id": "ICiPzNquBmkS"
      }
    },
    {
      "cell_type": "code",
      "source": [
        "from sklearn.preprocessing import MinMaxScaler"
      ],
      "metadata": {
        "id": "956OeM_o81sG"
      },
      "execution_count": 167,
      "outputs": []
    },
    {
      "cell_type": "code",
      "source": [
        "\n",
        "scaler = MinMaxScaler(feature_range=(0, 1))\n",
        "scaler.fit(np.concatenate((y_train, y_test)).reshape(-1, 1))"
      ],
      "metadata": {
        "id": "N1DGbYntJ_I0",
        "colab": {
          "base_uri": "https://localhost:8080/"
        },
        "outputId": "0a2aa948-26a2-4bf2-98b9-b8ef966a47f2"
      },
      "execution_count": 168,
      "outputs": [
        {
          "output_type": "execute_result",
          "data": {
            "text/plain": [
              "MinMaxScaler()"
            ]
          },
          "metadata": {},
          "execution_count": 168
        }
      ]
    },
    {
      "cell_type": "code",
      "source": [
        "y_test.reshape(-1, 1)"
      ],
      "metadata": {
        "colab": {
          "base_uri": "https://localhost:8080/"
        },
        "id": "PmeBDiiERlXE",
        "outputId": "d235c9e1-4fb9-4be3-a0ca-084da3d60815"
      },
      "execution_count": 169,
      "outputs": [
        {
          "output_type": "execute_result",
          "data": {
            "text/plain": [
              "array([[ 0.],\n",
              "       [31.],\n",
              "       [ 0.],\n",
              "       ...,\n",
              "       [50.],\n",
              "       [ 4.],\n",
              "       [ 0.]])"
            ]
          },
          "metadata": {},
          "execution_count": 169
        }
      ]
    },
    {
      "cell_type": "code",
      "source": [
        "y_test = scaler.transform(y_test.reshape(-1, 1))\n",
        "y_train = scaler.transform(y_train.reshape(-1, 1))"
      ],
      "metadata": {
        "id": "kh2SaZ23J_SI"
      },
      "execution_count": 170,
      "outputs": []
    },
    {
      "cell_type": "code",
      "source": [
        "y_train"
      ],
      "metadata": {
        "colab": {
          "base_uri": "https://localhost:8080/"
        },
        "id": "KtJSJd0CCkek",
        "outputId": "ec8adc9b-2c91-4c51-db7c-7acda757a969"
      },
      "execution_count": 171,
      "outputs": [
        {
          "output_type": "execute_result",
          "data": {
            "text/plain": [
              "array([[0.00000000e+00],\n",
              "       [5.96426125e-06],\n",
              "       [0.00000000e+00],\n",
              "       ...,\n",
              "       [0.00000000e+00],\n",
              "       [4.38879601e-06],\n",
              "       [0.00000000e+00]])"
            ]
          },
          "metadata": {},
          "execution_count": 171
        }
      ]
    },
    {
      "cell_type": "code",
      "source": [
        "x_train.shape, y_train.shape, x_test.shape, y_test.shape"
      ],
      "metadata": {
        "colab": {
          "base_uri": "https://localhost:8080/"
        },
        "id": "z6pnejjr81p5",
        "outputId": "31ee0f10-f95c-420f-8f56-117eee9c159d"
      },
      "execution_count": 172,
      "outputs": [
        {
          "output_type": "execute_result",
          "data": {
            "text/plain": [
              "((214377, 25), (214377, 1), (47823, 25), (47823, 1))"
            ]
          },
          "metadata": {},
          "execution_count": 172
        }
      ]
    },
    {
      "cell_type": "code",
      "source": [
        "y_test"
      ],
      "metadata": {
        "colab": {
          "base_uri": "https://localhost:8080/"
        },
        "id": "IetZ__L6Ol9f",
        "outputId": "4b5432a2-7fbf-4035-8612-ad6df3e0fb4b"
      },
      "execution_count": 173,
      "outputs": [
        {
          "output_type": "execute_result",
          "data": {
            "text/plain": [
              "array([[0.00000000e+00],\n",
              "       [3.48853016e-06],\n",
              "       [0.00000000e+00],\n",
              "       ...,\n",
              "       [5.62666155e-06],\n",
              "       [4.50132924e-07],\n",
              "       [0.00000000e+00]])"
            ]
          },
          "metadata": {},
          "execution_count": 173
        }
      ]
    },
    {
      "cell_type": "code",
      "source": [
        "scaler.inverse_transform(y_test)"
      ],
      "metadata": {
        "colab": {
          "base_uri": "https://localhost:8080/"
        },
        "id": "ZV-0-igcOmAD",
        "outputId": "064e24aa-bd9b-4f4a-f28d-fff453cf4558"
      },
      "execution_count": 174,
      "outputs": [
        {
          "output_type": "execute_result",
          "data": {
            "text/plain": [
              "array([[ 0.],\n",
              "       [31.],\n",
              "       [ 0.],\n",
              "       ...,\n",
              "       [50.],\n",
              "       [ 4.],\n",
              "       [ 0.]])"
            ]
          },
          "metadata": {},
          "execution_count": 174
        }
      ]
    },
    {
      "cell_type": "code",
      "source": [
        ""
      ],
      "metadata": {
        "id": "z074qNP8J_Uu"
      },
      "execution_count": null,
      "outputs": []
    },
    {
      "cell_type": "code",
      "source": [
        ""
      ],
      "metadata": {
        "id": "9gRZlPtpJ_XU"
      },
      "execution_count": null,
      "outputs": []
    }
  ]
}