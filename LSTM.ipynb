{
  "nbformat": 4,
  "nbformat_minor": 0,
  "metadata": {
    "colab": {
      "name": "LSTM.ipynb",
      "provenance": [],
      "collapsed_sections": []
    },
    "kernelspec": {
      "name": "python3",
      "display_name": "Python 3"
    },
    "language_info": {
      "name": "python"
    }
  },
  "cells": [
    {
      "cell_type": "code",
      "source": [
        "import time\n",
        "start = time.time()"
      ],
      "metadata": {
        "id": "ioXk0Uhnmnev"
      },
      "execution_count": 1,
      "outputs": []
    },
    {
      "cell_type": "code",
      "execution_count": 2,
      "metadata": {
        "id": "-rjjSQx5CpmS"
      },
      "outputs": [],
      "source": [
        "from google.colab import drive"
      ]
    },
    {
      "cell_type": "code",
      "source": [
        "import io\n",
        "import pandas as pd\n",
        "import re\n",
        "from datetime import timedelta\n",
        "import numpy as np\n",
        "from keras.models import Sequential\n",
        "from keras.layers.recurrent import LSTM\n",
        "from keras.layers import Activation, Dense\n",
        "from sklearn.preprocessing import MinMaxScaler\n",
        "import sklearn.preprocessing as preprocessing\n",
        "import seaborn as sn\n",
        "import matplotlib.pyplot as plt"
      ],
      "metadata": {
        "id": "For_d3f_CrMJ"
      },
      "execution_count": 3,
      "outputs": []
    },
    {
      "cell_type": "code",
      "source": [
        "!wget -O training.csv https://surfdrive.surf.nl/files/index.php/s/aNVxBfvZl273kKN/download   \n",
        "!wget -O test.csv https://surfdrive.surf.nl/files/index.php/s/0lJ3j0RlMeychGj/download   \n",
        "\n",
        "\n",
        "path_test = '/content/test.csv'\n",
        "path_train = '/content/training.csv'"
      ],
      "metadata": {
        "colab": {
          "base_uri": "https://localhost:8080/"
        },
        "id": "d9pq5j3yCsOv",
        "outputId": "43e847fd-f727-4e6b-b2e9-aed722925989"
      },
      "execution_count": 4,
      "outputs": [
        {
          "output_type": "stream",
          "name": "stdout",
          "text": [
            "--2022-03-10 09:35:40--  https://surfdrive.surf.nl/files/index.php/s/aNVxBfvZl273kKN/download\n",
            "Resolving surfdrive.surf.nl (surfdrive.surf.nl)... 145.100.27.67, 2001:610:108:203b:0:a11:da7a:5afe\n",
            "Connecting to surfdrive.surf.nl (surfdrive.surf.nl)|145.100.27.67|:443... connected.\n",
            "HTTP request sent, awaiting response... 200 OK\n",
            "Length: 26049572 (25M) [text/csv]\n",
            "Saving to: ‘training.csv’\n",
            "\n",
            "training.csv        100%[===================>]  24.84M  18.7MB/s    in 1.3s    \n",
            "\n",
            "2022-03-10 09:35:42 (18.7 MB/s) - ‘training.csv’ saved [26049572/26049572]\n",
            "\n",
            "--2022-03-10 09:35:42--  https://surfdrive.surf.nl/files/index.php/s/0lJ3j0RlMeychGj/download\n",
            "Resolving surfdrive.surf.nl (surfdrive.surf.nl)... 145.100.27.67, 2001:610:108:203b:0:a11:da7a:5afe\n",
            "Connecting to surfdrive.surf.nl (surfdrive.surf.nl)|145.100.27.67|:443... connected.\n",
            "HTTP request sent, awaiting response... 200 OK\n",
            "Length: 5819692 (5.5M) [text/csv]\n",
            "Saving to: ‘test.csv’\n",
            "\n",
            "test.csv            100%[===================>]   5.55M  7.45MB/s    in 0.7s    \n",
            "\n",
            "2022-03-10 09:35:43 (7.45 MB/s) - ‘test.csv’ saved [5819692/5819692]\n",
            "\n"
          ]
        }
      ]
    },
    {
      "cell_type": "code",
      "source": [
        "# # This is for when you read the data in jupyther notebooks\n",
        "# path_test = '/content/BPI_Challenge_2012-test.csv'\n",
        "# path_train = '/content/BPI_Challenge_2012-training.csv'"
      ],
      "metadata": {
        "id": "z4q9ftyuCtZv"
      },
      "execution_count": 5,
      "outputs": []
    },
    {
      "cell_type": "code",
      "source": [
        "df_train = pd.read_csv (path_train)\n",
        "df_test = pd.read_csv (path_test)"
      ],
      "metadata": {
        "id": "4qIirvreCvnB"
      },
      "execution_count": 6,
      "outputs": []
    },
    {
      "cell_type": "code",
      "source": [
        "# Keeping in test set only cases that started in test and not in train\n",
        "\n",
        "train_cases = list(set(list(df_train['case concept:name'])))\n",
        "test_cases = list(set(list(df_test['case concept:name'])))\n",
        "test_keep = [item for item in test_cases if item not in train_cases]\n",
        "\n",
        "df_test = df_test[df_test['case concept:name'].isin(test_keep)]\n",
        "\n",
        "df_show = df_test.copy()"
      ],
      "metadata": {
        "id": "M34IyIBNCxjf"
      },
      "execution_count": 7,
      "outputs": []
    },
    {
      "cell_type": "code",
      "source": [
        "df_train['event time:timestamp']= pd.to_datetime(df_train['event time:timestamp'])\n",
        "\n",
        "df_train = df_train.sort_values(by=['case concept:name', 'event time:timestamp'])\n",
        "\n",
        "df_train = df_train.assign(actualaction=(df_train.groupby('case concept:name')['event concept:name'].shift(-1)))\n",
        "\n",
        "df_train = df_train.assign(nexttime=(df_train.groupby('case concept:name')['event time:timestamp'].shift(-1)))\n",
        "df_train['tonext'] = (df_train.nexttime - df_train['event time:timestamp']).astype('timedelta64[s]')"
      ],
      "metadata": {
        "id": "JeWC7H-3DU_C"
      },
      "execution_count": 8,
      "outputs": []
    },
    {
      "cell_type": "code",
      "source": [
        "df_test['event time:timestamp']= pd.to_datetime(df_test['event time:timestamp'])\n",
        "\n",
        "df_test = df_test.sort_values(by=['case concept:name', 'event time:timestamp'])\n",
        "\n",
        "df_test = df_test.assign(actualaction=(df_test.groupby('case concept:name')['event concept:name'].shift(-1)))\n",
        "\n",
        "df_test = df_test.assign(nexttime=(df_test.groupby('case concept:name')['event time:timestamp'].shift(-1)))\n",
        "df_test['tonext'] = (df_test.nexttime - df_test['event time:timestamp']).astype('timedelta64[s]')"
      ],
      "metadata": {
        "id": "AQ6__B06Cy-u"
      },
      "execution_count": 9,
      "outputs": []
    },
    {
      "cell_type": "code",
      "source": [
        "xtrain = df_train['event concept:name']\n",
        "xtrain = xtrain.to_numpy()\n",
        "xtest = df_test['event concept:name']\n",
        "xtest = xtest.to_numpy()\n",
        "x = np.concatenate((xtrain, xtest))"
      ],
      "metadata": {
        "id": "zAur_RcUD0vP"
      },
      "execution_count": 10,
      "outputs": []
    },
    {
      "cell_type": "code",
      "source": [
        "ytrain = df_train['actualaction']\n",
        "ytrain = ytrain.to_numpy()\n",
        "ytest = df_test['actualaction']\n",
        "ytest = ytest.to_numpy()\n",
        "y = np.concatenate((ytrain, ytest))"
      ],
      "metadata": {
        "id": "dnQxZp65EEf1"
      },
      "execution_count": 11,
      "outputs": []
    },
    {
      "cell_type": "code",
      "source": [
        "onehot = np.concatenate((x, y))"
      ],
      "metadata": {
        "id": "R7ZSoPxTEGQH"
      },
      "execution_count": 12,
      "outputs": []
    },
    {
      "cell_type": "code",
      "source": [
        "targets = onehot\n",
        "labelEnc = preprocessing.LabelEncoder()\n",
        "new_target = labelEnc.fit_transform(targets)\n",
        "onehotEnc = preprocessing.OneHotEncoder()\n",
        "onehotEnc.fit(new_target.reshape(-1, 1))\n",
        "targets_trans = onehotEnc.transform(new_target.reshape(-1, 1))"
      ],
      "metadata": {
        "id": "fS7mMeLxEUi-"
      },
      "execution_count": 13,
      "outputs": []
    },
    {
      "cell_type": "code",
      "source": [
        "x_train = targets_trans.toarray()[:214377]\n",
        "x_test = targets_trans.toarray()[214377:262200]\n",
        "ya_train = targets_trans.toarray()[262200:-47823]\n",
        "ya_test = targets_trans.toarray()[-47823:]\n",
        "yt_train = df_train.tonext.fillna(0).to_numpy()\n",
        "yt_test = df_test.tonext.fillna(0).to_numpy()"
      ],
      "metadata": {
        "id": "zjkV9o4_EWFF"
      },
      "execution_count": 14,
      "outputs": []
    },
    {
      "cell_type": "code",
      "source": [
        ""
      ],
      "metadata": {
        "id": "ciUeqaHUE0q_"
      },
      "execution_count": 14,
      "outputs": []
    },
    {
      "cell_type": "code",
      "source": [
        "scaler = MinMaxScaler(feature_range=(0, 1))\n",
        "scaler.fit(yt_train.reshape(-1, 1))"
      ],
      "metadata": {
        "colab": {
          "base_uri": "https://localhost:8080/"
        },
        "id": "Pq7w_A8BE27W",
        "outputId": "5a473146-8b68-48f1-f322-f3f36759bdc9"
      },
      "execution_count": 15,
      "outputs": [
        {
          "output_type": "execute_result",
          "data": {
            "text/plain": [
              "MinMaxScaler()"
            ]
          },
          "metadata": {},
          "execution_count": 15
        }
      ]
    },
    {
      "cell_type": "code",
      "source": [
        "yt_test = scaler.transform(yt_test.reshape(-1, 1))\n",
        "yt_train = scaler.transform(yt_train.reshape(-1, 1))"
      ],
      "metadata": {
        "id": "l7aBhKJvEkwv"
      },
      "execution_count": 16,
      "outputs": []
    },
    {
      "cell_type": "code",
      "source": [
        "model_activity = Sequential()\n",
        "model_activity.add(LSTM(32, input_shape=(25,1)))\n",
        "model_activity.add(Dense(25))"
      ],
      "metadata": {
        "id": "ixbkdWMvGAzk"
      },
      "execution_count": 17,
      "outputs": []
    },
    {
      "cell_type": "code",
      "source": [
        "model_activity.compile(optimizer='adam', loss='mean_squared_error',metrics=['acc'])"
      ],
      "metadata": {
        "id": "ouQzSq7-GNoG"
      },
      "execution_count": 18,
      "outputs": []
    },
    {
      "cell_type": "code",
      "source": [
        "model_activity.fit(x_train, ya_train, epochs=10, batch_size=56)"
      ],
      "metadata": {
        "colab": {
          "base_uri": "https://localhost:8080/"
        },
        "id": "3TJz79-RGTeI",
        "outputId": "c0ae9612-1ced-4590-b9d7-617736224456"
      },
      "execution_count": 19,
      "outputs": [
        {
          "output_type": "stream",
          "name": "stdout",
          "text": [
            "Epoch 1/10\n",
            "3829/3829 [==============================] - 97s 25ms/step - loss: 0.0258 - acc: 0.5180\n",
            "Epoch 2/10\n",
            "3829/3829 [==============================] - 92s 24ms/step - loss: 0.0211 - acc: 0.6115\n",
            "Epoch 3/10\n",
            "3829/3829 [==============================] - 94s 25ms/step - loss: 0.0206 - acc: 0.6186\n",
            "Epoch 4/10\n",
            "3829/3829 [==============================] - 93s 24ms/step - loss: 0.0206 - acc: 0.6185\n",
            "Epoch 5/10\n",
            "3829/3829 [==============================] - 94s 25ms/step - loss: 0.0206 - acc: 0.6181\n",
            "Epoch 6/10\n",
            "3829/3829 [==============================] - 94s 24ms/step - loss: 0.0205 - acc: 0.6185\n",
            "Epoch 7/10\n",
            "3829/3829 [==============================] - 93s 24ms/step - loss: 0.0205 - acc: 0.6193\n",
            "Epoch 8/10\n",
            "3829/3829 [==============================] - 93s 24ms/step - loss: 0.0205 - acc: 0.6181\n",
            "Epoch 9/10\n",
            "3829/3829 [==============================] - 93s 24ms/step - loss: 0.0205 - acc: 0.6195\n",
            "Epoch 10/10\n",
            "3829/3829 [==============================] - 93s 24ms/step - loss: 0.0205 - acc: 0.6198\n"
          ]
        },
        {
          "output_type": "execute_result",
          "data": {
            "text/plain": [
              "<keras.callbacks.History at 0x7f259c90add0>"
            ]
          },
          "metadata": {},
          "execution_count": 19
        }
      ]
    },
    {
      "cell_type": "code",
      "source": [
        "model_time = Sequential()\n",
        "model_time.add(LSTM(32, input_shape=(25,1)))\n",
        "model_time.add(Dense(1))"
      ],
      "metadata": {
        "id": "yrQRn-8ZGHZF"
      },
      "execution_count": 20,
      "outputs": []
    },
    {
      "cell_type": "code",
      "source": [
        "model_time.compile(optimizer='adam', loss='mean_squared_error',metrics=['acc'])"
      ],
      "metadata": {
        "id": "qbGX1OwRGRwV"
      },
      "execution_count": 21,
      "outputs": []
    },
    {
      "cell_type": "code",
      "source": [
        "model_time.fit(x_train, yt_train, epochs=10, batch_size=56)"
      ],
      "metadata": {
        "colab": {
          "base_uri": "https://localhost:8080/"
        },
        "id": "h1mAiszfGsEG",
        "outputId": "74f8d040-34d5-4a52-e50d-89d9c776e8ef"
      },
      "execution_count": 22,
      "outputs": [
        {
          "output_type": "stream",
          "name": "stdout",
          "text": [
            "Epoch 1/10\n",
            "3829/3829 [==============================] - 95s 24ms/step - loss: 0.0041 - acc: 0.2582\n",
            "Epoch 2/10\n",
            "3829/3829 [==============================] - 94s 24ms/step - loss: 0.0041 - acc: 0.2582\n",
            "Epoch 3/10\n",
            "3829/3829 [==============================] - 92s 24ms/step - loss: 0.0041 - acc: 0.2582\n",
            "Epoch 4/10\n",
            "3829/3829 [==============================] - 93s 24ms/step - loss: 0.0041 - acc: 0.2582\n",
            "Epoch 5/10\n",
            "3829/3829 [==============================] - 92s 24ms/step - loss: 0.0041 - acc: 0.2582\n",
            "Epoch 6/10\n",
            "3829/3829 [==============================] - 93s 24ms/step - loss: 0.0041 - acc: 0.2582\n",
            "Epoch 7/10\n",
            "3829/3829 [==============================] - 92s 24ms/step - loss: 0.0041 - acc: 0.2582\n",
            "Epoch 8/10\n",
            "3829/3829 [==============================] - 94s 24ms/step - loss: 0.0041 - acc: 0.2582\n",
            "Epoch 9/10\n",
            "3829/3829 [==============================] - 92s 24ms/step - loss: 0.0041 - acc: 0.2582\n",
            "Epoch 10/10\n",
            "3829/3829 [==============================] - 93s 24ms/step - loss: 0.0041 - acc: 0.2582\n"
          ]
        },
        {
          "output_type": "execute_result",
          "data": {
            "text/plain": [
              "<keras.callbacks.History at 0x7f258546b9d0>"
            ]
          },
          "metadata": {},
          "execution_count": 22
        }
      ]
    },
    {
      "cell_type": "code",
      "source": [
        "predicted_activity = model_activity.predict(x_test)"
      ],
      "metadata": {
        "id": "J6RUHSwRGxt-"
      },
      "execution_count": 23,
      "outputs": []
    },
    {
      "cell_type": "code",
      "source": [
        "predicted_time = model_time.predict(x_test)"
      ],
      "metadata": {
        "id": "C6nCZfxvHwK-"
      },
      "execution_count": 24,
      "outputs": []
    },
    {
      "cell_type": "code",
      "source": [
        ""
      ],
      "metadata": {
        "id": "RMq8z7j3H8x9"
      },
      "execution_count": 24,
      "outputs": []
    },
    {
      "cell_type": "code",
      "source": [
        "max_index_row = np.argmax(predicted_activity, axis=1)\n",
        "convpred = np.zeros(predicted_activity.shape)"
      ],
      "metadata": {
        "id": "OOVzU1pAIieN"
      },
      "execution_count": 25,
      "outputs": []
    },
    {
      "cell_type": "code",
      "source": [
        "for i in range (convpred.shape[0]):\n",
        "  j = max_index_row[i]\n",
        "  convpred[i][j] = 1"
      ],
      "metadata": {
        "id": "V0dqe1GiJBvv"
      },
      "execution_count": 26,
      "outputs": []
    },
    {
      "cell_type": "code",
      "source": [
        "newarray = np.concatenate((x_train, convpred, ya_train, ya_test))\n",
        "invers_conv = onehotEnc.inverse_transform(newarray)"
      ],
      "metadata": {
        "id": "6LTaLSg6JHJr"
      },
      "execution_count": 27,
      "outputs": []
    },
    {
      "cell_type": "code",
      "source": [
        "activity_name_mapping = dict(zip(labelEnc.classes_, labelEnc.transform(labelEnc.classes_)))\n",
        "inv_activity_name_mapping = {v: k for k, v in activity_name_mapping.items()}"
      ],
      "metadata": {
        "id": "Tt2frv6DaWYy"
      },
      "execution_count": 28,
      "outputs": []
    },
    {
      "cell_type": "code",
      "source": [
        "actpred = invers_conv[214377:262200]\n",
        "actreal = invers_conv[-47823:]"
      ],
      "metadata": {
        "id": "AvOkAMLFJU-V"
      },
      "execution_count": 29,
      "outputs": []
    },
    {
      "cell_type": "code",
      "source": [
        "df_conf = pd.DataFrame(np.concatenate((actpred, actreal), axis = 1), columns=['pred', 'real'])"
      ],
      "metadata": {
        "id": "L0NmuO1CJa-G"
      },
      "execution_count": 30,
      "outputs": []
    },
    {
      "cell_type": "code",
      "source": [
        "df_conf['Predicted Activity'] = df_conf.pred.replace(inv_activity_name_mapping)"
      ],
      "metadata": {
        "id": "cZ__lTyZjQaB"
      },
      "execution_count": 31,
      "outputs": []
    },
    {
      "cell_type": "code",
      "source": [
        "confusion_matrix = pd.crosstab(df_conf.real, df_conf.pred, rownames=['Actual'], colnames=['Predicted'])\n",
        "plt.figure(figsize=(10,7))\n",
        "sn.set(font_scale=.7) # for label size\n",
        "sn.heatmap(confusion_matrix) # font size\n",
        "\n",
        "plt.show()"
      ],
      "metadata": {
        "colab": {
          "base_uri": "https://localhost:8080/",
          "height": 443
        },
        "id": "Ltt-arYDKsEa",
        "outputId": "9dce6bf6-2ffa-447a-fe3b-afa7986bc76f"
      },
      "execution_count": 32,
      "outputs": [
        {
          "output_type": "display_data",
          "data": {
            "image/png": "[encoded data removed]",
            "text/plain": [
              "<Figure size 720x504 with 2 Axes>"
            ]
          },
          "metadata": {
            "needs_background": "light"
          }
        }
      ]
    },
    {
      "cell_type": "code",
      "source": [
        "accuracy_activity = 100 *len(df_test[df_conf.pred == df_conf.real]) / len(df_conf)"
      ],
      "metadata": {
        "id": "JoXmN9kWKtiC",
        "colab": {
          "base_uri": "https://localhost:8080/"
        },
        "outputId": "1db41e7e-ddd4-4ed8-8f98-e0730958f0c2"
      },
      "execution_count": 33,
      "outputs": [
        {
          "output_type": "stream",
          "name": "stderr",
          "text": [
            "/usr/local/lib/python3.7/dist-packages/ipykernel_launcher.py:1: UserWarning: Boolean Series key will be reindexed to match DataFrame index.\n",
            "  \"\"\"Entry point for launching an IPython kernel.\n"
          ]
        }
      ]
    },
    {
      "cell_type": "code",
      "source": [
        ""
      ],
      "metadata": {
        "id": "b8VmmI8RKz6x"
      },
      "execution_count": 33,
      "outputs": []
    },
    {
      "cell_type": "code",
      "source": [
        "timepred = scaler.inverse_transform(predicted_time)\n",
        "timereal = scaler.inverse_transform(yt_test)"
      ],
      "metadata": {
        "id": "Q4XA9r9VLAmv"
      },
      "execution_count": 34,
      "outputs": []
    },
    {
      "cell_type": "code",
      "source": [
        "temp = pd.DataFrame(np.concatenate((timepred, timereal), axis = 1), columns=['spred', 'sreal'])"
      ],
      "metadata": {
        "id": "m4GDc_kYLPMf"
      },
      "execution_count": 35,
      "outputs": []
    },
    {
      "cell_type": "code",
      "source": [
        "temp['ts'] = df_test['event time:timestamp']\n",
        "temp['ctsp'] = temp.ts + temp.spred.astype('timedelta64[s]')"
      ],
      "metadata": {
        "id": "7UUKEOjbgmj0"
      },
      "execution_count": 36,
      "outputs": []
    },
    {
      "cell_type": "code",
      "source": [
        "temp['sdif'] = temp.sreal - temp.spred\n",
        "temp['mdif'] = temp.sdif/60\n",
        "temp['hdif'] = temp.mdif/60"
      ],
      "metadata": {
        "id": "zzs5Lo5sLkYu"
      },
      "execution_count": 37,
      "outputs": []
    },
    {
      "cell_type": "code",
      "source": [
        "msehours = (temp.hdif ** 2).mean()\n",
        "meanhours = temp.hdif.mean() \n",
        "maehours = (abs(temp.hdif)).mean()\n",
        "per30min = 100 * len(temp[abs(temp.mdif) - 30 < 0]) / len(temp)\n",
        "per2d = 100 * len(temp[abs(temp.mdif) - 60*48 < 0]) / len(temp)\n",
        "per1d = 100 * len(temp[abs(temp.mdif) - 60*24 < 0]) / len(temp)\n",
        "per12h = 100 * len(temp[abs(temp.mdif) - 60*12 < 0]) / len(temp)\n",
        "per6h = 100 * len(temp[abs(temp.mdif) - 60*6 < 0]) / len(temp)\n",
        "per1h = 100 * len(temp[abs(temp.mdif) - 60 < 0]) / len(temp)\n",
        "per5m = 100 * len(temp[abs(temp.mdif) - 5 < 0]) / len(temp)\n",
        "per10m = 100 * len(temp[abs(temp.mdif) - 10 < 0]) / len(temp)\n",
        "per20m = 100 * len(temp[abs(temp.mdif) - 20 < 0]) / len(temp)"
      ],
      "metadata": {
        "id": "c2wNrSqpL5fl"
      },
      "execution_count": 38,
      "outputs": []
    },
    {
      "cell_type": "code",
      "source": [
        ""
      ],
      "metadata": {
        "id": "cOraDJApL-Y5"
      },
      "execution_count": 38,
      "outputs": []
    },
    {
      "cell_type": "code",
      "source": [
        "print(f'MSE hours: {round(msehours,3)}')\n",
        "print(f'MAE hours: {round(maehours,3)}')\n",
        "print(f'mean hours: {round(meanhours,3)}')\n",
        "print(f'percentage predicted within +- 2 days: {round(per2d, 2)}%')\n",
        "print(f'percentage predicted within +- 1 day: {round(per1d, 2)}%')\n",
        "print(f'percentage predicted within +- 12 hours: {round(per12h, 2)}%')\n",
        "print(f'percentage predicted within +- 6 hours: {round(per6h, 2)}%')\n",
        "print(f'percentage predicted within +- 1 hour: {round(per1h, 2)}%')\n",
        "print(f'percentage predicted within +- 30 min: {round(per30min, 2)}%')\n",
        "print(f'percentage predicted within +- 20 min: {round(per20m, 2)}%')\n",
        "print(f'percentage predicted within +- 10 min: {round(per10m, 2)}%')\n",
        "print(f'percentage predicted within +- 5 min: {round(per5m, 2)}%')\n",
        "\n",
        "print(f'percentage actions predicted correctly: {round(accuracy_activity, 2)}%')"
      ],
      "metadata": {
        "colab": {
          "base_uri": "https://localhost:8080/"
        },
        "id": "E8Qc4JiCL-h3",
        "outputId": "68e8b86b-1881-4950-ceb5-6c6f130ad964"
      },
      "execution_count": 39,
      "outputs": [
        {
          "output_type": "stream",
          "name": "stdout",
          "text": [
            "MSE hours: 266852.007\n",
            "MAE hours: 161.005\n",
            "mean hours: 10.288\n",
            "percentage predicted within +- 2 days: 43.22%\n",
            "percentage predicted within +- 1 day: 37.57%\n",
            "percentage predicted within +- 12 hours: 35.45%\n",
            "percentage predicted within +- 6 hours: 7.98%\n",
            "percentage predicted within +- 1 hour: 3.12%\n",
            "percentage predicted within +- 30 min: 3.1%\n",
            "percentage predicted within +- 20 min: 3.1%\n",
            "percentage predicted within +- 10 min: 0.29%\n",
            "percentage predicted within +- 5 min: 0.28%\n",
            "percentage actions predicted correctly: 61.33%\n"
          ]
        }
      ]
    },
    {
      "cell_type": "code",
      "source": [
        "df_show['Predicted Activity'] = df_conf['Predicted Activity']\n",
        "df_show['Predicted Time Stamp'] = temp['ctsp']"
      ],
      "metadata": {
        "id": "UL9A_Pe7fiqV"
      },
      "execution_count": 40,
      "outputs": []
    },
    {
      "cell_type": "code",
      "source": [
        "df_show"
      ],
      "metadata": {
        "colab": {
          "base_uri": "https://localhost:8080/",
          "height": 424
        },
        "id": "Rv0yIfP1hYnr",
        "outputId": "aa1e8742-e6b9-4d73-b165-c27f00eeac4e"
      },
      "execution_count": 41,
      "outputs": [
        {
          "output_type": "execute_result",
          "data": {
            "text/html": [
              "\n",
              "  <div id=\"df-76abb649-1077-4f2a-b51d-d7ad1223030f\">\n",
              "    <div class=\"colab-df-container\">\n",
              "      <div>\n",
              "<style scoped>\n",
              "    .dataframe tbody tr th:only-of-type {\n",
              "        vertical-align: middle;\n",
              "    }\n",
              "\n",
              "    .dataframe tbody tr th {\n",
              "        vertical-align: top;\n",
              "    }\n",
              "\n",
              "    .dataframe thead th {\n",
              "        text-align: right;\n",
              "    }\n",
              "</style>\n",
              "<table border=\"1\" class=\"dataframe\">\n",
              "  <thead>\n",
              "    <tr style=\"text-align: right;\">\n",
              "      <th></th>\n",
              "      <th>eventID</th>\n",
              "      <th>case concept:name</th>\n",
              "      <th>case REG_DATE</th>\n",
              "      <th>case AMOUNT_REQ</th>\n",
              "      <th>event concept:name</th>\n",
              "      <th>event lifecycle:transition</th>\n",
              "      <th>event time:timestamp</th>\n",
              "      <th>Predicted Activity</th>\n",
              "      <th>Predicted Time Stamp</th>\n",
              "    </tr>\n",
              "  </thead>\n",
              "  <tbody>\n",
              "    <tr>\n",
              "      <th>0</th>\n",
              "      <td>44964012621824</td>\n",
              "      <td>206324</td>\n",
              "      <td>2012-02-03T17:17:11.047+01:00</td>\n",
              "      <td>2500</td>\n",
              "      <td>A_SUBMITTED</td>\n",
              "      <td>COMPLETE</td>\n",
              "      <td>03-02-2012 17:17:11.047</td>\n",
              "      <td>A_PARTLYSUBMITTED</td>\n",
              "      <td>2012-03-03 00:54:28.047</td>\n",
              "    </tr>\n",
              "    <tr>\n",
              "      <th>1</th>\n",
              "      <td>44964012621825</td>\n",
              "      <td>206324</td>\n",
              "      <td>2012-02-03T17:17:11.047+01:00</td>\n",
              "      <td>2500</td>\n",
              "      <td>A_PARTLYSUBMITTED</td>\n",
              "      <td>COMPLETE</td>\n",
              "      <td>03-02-2012 17:17:11.323</td>\n",
              "      <td>A_PREACCEPTED</td>\n",
              "      <td>2012-03-03 03:09:23.323</td>\n",
              "    </tr>\n",
              "    <tr>\n",
              "      <th>2</th>\n",
              "      <td>44964012621826</td>\n",
              "      <td>206324</td>\n",
              "      <td>2012-02-03T17:17:11.047+01:00</td>\n",
              "      <td>2500</td>\n",
              "      <td>A_DECLINED</td>\n",
              "      <td>COMPLETE</td>\n",
              "      <td>03-02-2012 17:17:42.964</td>\n",
              "      <td>NaN</td>\n",
              "      <td>2012-03-03 03:18:17.964</td>\n",
              "    </tr>\n",
              "    <tr>\n",
              "      <th>3</th>\n",
              "      <td>44968307589120</td>\n",
              "      <td>206327</td>\n",
              "      <td>2012-02-03T17:23:41.949+01:00</td>\n",
              "      <td>6000</td>\n",
              "      <td>A_SUBMITTED</td>\n",
              "      <td>COMPLETE</td>\n",
              "      <td>03-02-2012 17:23:41.949</td>\n",
              "      <td>A_PARTLYSUBMITTED</td>\n",
              "      <td>2012-03-03 01:00:58.949</td>\n",
              "    </tr>\n",
              "    <tr>\n",
              "      <th>4</th>\n",
              "      <td>44968307589121</td>\n",
              "      <td>206327</td>\n",
              "      <td>2012-02-03T17:23:41.949+01:00</td>\n",
              "      <td>6000</td>\n",
              "      <td>A_PARTLYSUBMITTED</td>\n",
              "      <td>COMPLETE</td>\n",
              "      <td>03-02-2012 17:23:42.504</td>\n",
              "      <td>A_PREACCEPTED</td>\n",
              "      <td>2012-03-03 03:15:54.504</td>\n",
              "    </tr>\n",
              "    <tr>\n",
              "      <th>...</th>\n",
              "      <td>...</td>\n",
              "      <td>...</td>\n",
              "      <td>...</td>\n",
              "      <td>...</td>\n",
              "      <td>...</td>\n",
              "      <td>...</td>\n",
              "      <td>...</td>\n",
              "      <td>...</td>\n",
              "      <td>...</td>\n",
              "    </tr>\n",
              "    <tr>\n",
              "      <th>47818</th>\n",
              "      <td>54666343743523</td>\n",
              "      <td>213276</td>\n",
              "      <td>2012-02-27T14:12:41.868+01:00</td>\n",
              "      <td>15000</td>\n",
              "      <td>W_Nabellen incomplete dossiers</td>\n",
              "      <td>START</td>\n",
              "      <td>14-03-2012 15:59:28.309</td>\n",
              "      <td>NaN</td>\n",
              "      <td>2012-03-15 02:00:03.309</td>\n",
              "    </tr>\n",
              "    <tr>\n",
              "      <th>47819</th>\n",
              "      <td>54666343743524</td>\n",
              "      <td>213276</td>\n",
              "      <td>2012-02-27T14:12:41.868+01:00</td>\n",
              "      <td>15000</td>\n",
              "      <td>W_Nabellen incomplete dossiers</td>\n",
              "      <td>COMPLETE</td>\n",
              "      <td>14-03-2012 16:00:09.680</td>\n",
              "      <td>W_Afhandelen leads</td>\n",
              "      <td>2012-03-15 18:41:04.680</td>\n",
              "    </tr>\n",
              "    <tr>\n",
              "      <th>47820</th>\n",
              "      <td>49495203119136</td>\n",
              "      <td>209595</td>\n",
              "      <td>2012-02-15T10:10:36.503+01:00</td>\n",
              "      <td>13000</td>\n",
              "      <td>W_Nabellen offertes</td>\n",
              "      <td>START</td>\n",
              "      <td>14-03-2012 16:02:03.883</td>\n",
              "      <td>A_PARTLYSUBMITTED</td>\n",
              "      <td>2012-03-14 23:39:20.883</td>\n",
              "    </tr>\n",
              "    <tr>\n",
              "      <th>47821</th>\n",
              "      <td>52342766436386</td>\n",
              "      <td>211624</td>\n",
              "      <td>2012-02-21T23:38:40.044+01:00</td>\n",
              "      <td>35000</td>\n",
              "      <td>W_Nabellen incomplete dossiers</td>\n",
              "      <td>START</td>\n",
              "      <td>14-03-2012 16:04:46.192</td>\n",
              "      <td>A_PREACCEPTED</td>\n",
              "      <td>2012-03-15 01:56:58.192</td>\n",
              "    </tr>\n",
              "    <tr>\n",
              "      <th>47822</th>\n",
              "      <td>52342766436387</td>\n",
              "      <td>211624</td>\n",
              "      <td>2012-02-21T23:38:40.044+01:00</td>\n",
              "      <td>35000</td>\n",
              "      <td>W_Nabellen incomplete dossiers</td>\n",
              "      <td>COMPLETE</td>\n",
              "      <td>14-03-2012 16:04:54.681</td>\n",
              "      <td>W_Afhandelen leads</td>\n",
              "      <td>2012-03-15 18:45:49.681</td>\n",
              "    </tr>\n",
              "  </tbody>\n",
              "</table>\n",
              "<p>47823 rows × 9 columns</p>\n",
              "</div>\n",
              "      <button class=\"colab-df-convert\" onclick=\"convertToInteractive('df-76abb649-1077-4f2a-b51d-d7ad1223030f')\"\n",
              "              title=\"Convert this dataframe to an interactive table.\"\n",
              "              style=\"display:none;\">\n",
              "        \n",
              "  <svg xmlns=\"http://www.w3.org/2000/svg\" height=\"24px\"viewBox=\"0 0 24 24\"\n",
              "       width=\"24px\">\n",
              "    <path d=\"M0 0h24v24H0V0z\" fill=\"none\"/>\n",
              "    <path d=\"M18.56 5.44l.94 2.06.94-2.06 2.06-.94-2.06-.94-.94-2.06-.94 2.06-2.06.94zm-11 1L8.5 8.5l.94-2.06 2.06-.94-2.06-.94L8.5 2.5l-.94 2.06-2.06.94zm10 10l.94 2.06.94-2.06 2.06-.94-2.06-.94-.94-2.06-.94 2.06-2.06.94z\"/><path d=\"M17.41 7.96l-1.37-1.37c-.4-.4-.92-.59-1.43-.59-.52 0-1.04.2-1.43.59L10.3 9.45l-7.72 7.72c-.78.78-.78 2.05 0 2.83L4 21.41c.39.39.9.59 1.41.59.51 0 1.02-.2 1.41-.59l7.78-7.78 2.81-2.81c.8-.78.8-2.07 0-2.86zM5.41 20L4 18.59l7.72-7.72 1.47 1.35L5.41 20z\"/>\n",
              "  </svg>\n",
              "      </button>\n",
              "      \n",
              "  <style>\n",
              "    .colab-df-container {\n",
              "      display:flex;\n",
              "      flex-wrap:wrap;\n",
              "      gap: 12px;\n",
              "    }\n",
              "\n",
              "    .colab-df-convert {\n",
              "      background-color: #E8F0FE;\n",
              "      border: none;\n",
              "      border-radius: 50%;\n",
              "      cursor: pointer;\n",
              "      display: none;\n",
              "      fill: #1967D2;\n",
              "      height: 32px;\n",
              "      padding: 0 0 0 0;\n",
              "      width: 32px;\n",
              "    }\n",
              "\n",
              "    .colab-df-convert:hover {\n",
              "      background-color: #E2EBFA;\n",
              "      box-shadow: 0px 1px 2px rgba(60, 64, 67, 0.3), 0px 1px 3px 1px rgba(60, 64, 67, 0.15);\n",
              "      fill: #174EA6;\n",
              "    }\n",
              "\n",
              "    [theme=dark] .colab-df-convert {\n",
              "      background-color: #3B4455;\n",
              "      fill: #D2E3FC;\n",
              "    }\n",
              "\n",
              "    [theme=dark] .colab-df-convert:hover {\n",
              "      background-color: #434B5C;\n",
              "      box-shadow: 0px 1px 3px 1px rgba(0, 0, 0, 0.15);\n",
              "      filter: drop-shadow(0px 1px 2px rgba(0, 0, 0, 0.3));\n",
              "      fill: #FFFFFF;\n",
              "    }\n",
              "  </style>\n",
              "\n",
              "      <script>\n",
              "        const buttonEl =\n",
              "          document.querySelector('#df-76abb649-1077-4f2a-b51d-d7ad1223030f button.colab-df-convert');\n",
              "        buttonEl.style.display =\n",
              "          google.colab.kernel.accessAllowed ? 'block' : 'none';\n",
              "\n",
              "        async function convertToInteractive(key) {\n",
              "          const element = document.querySelector('#df-76abb649-1077-4f2a-b51d-d7ad1223030f');\n",
              "          const dataTable =\n",
              "            await google.colab.kernel.invokeFunction('convertToInteractive',\n",
              "                                                     [key], {});\n",
              "          if (!dataTable) return;\n",
              "\n",
              "          const docLinkHtml = 'Like what you see? Visit the ' +\n",
              "            '<a target=\"_blank\" href=https://colab.research.google.com/notebooks/data_table.ipynb>data table notebook</a>'\n",
              "            + ' to learn more about interactive tables.';\n",
              "          element.innerHTML = '';\n",
              "          dataTable['output_type'] = 'display_data';\n",
              "          await google.colab.output.renderOutput(dataTable, element);\n",
              "          const docLink = document.createElement('div');\n",
              "          docLink.innerHTML = docLinkHtml;\n",
              "          element.appendChild(docLink);\n",
              "        }\n",
              "      </script>\n",
              "    </div>\n",
              "  </div>\n",
              "  "
            ],
            "text/plain": [
              "             eventID   case concept:name                  case REG_DATE  \\\n",
              "0      44964012621824             206324  2012-02-03T17:17:11.047+01:00   \n",
              "1      44964012621825             206324  2012-02-03T17:17:11.047+01:00   \n",
              "2      44964012621826             206324  2012-02-03T17:17:11.047+01:00   \n",
              "3      44968307589120             206327  2012-02-03T17:23:41.949+01:00   \n",
              "4      44968307589121             206327  2012-02-03T17:23:41.949+01:00   \n",
              "...               ...                ...                            ...   \n",
              "47818  54666343743523             213276  2012-02-27T14:12:41.868+01:00   \n",
              "47819  54666343743524             213276  2012-02-27T14:12:41.868+01:00   \n",
              "47820  49495203119136             209595  2012-02-15T10:10:36.503+01:00   \n",
              "47821  52342766436386             211624  2012-02-21T23:38:40.044+01:00   \n",
              "47822  52342766436387             211624  2012-02-21T23:38:40.044+01:00   \n",
              "\n",
              "       case AMOUNT_REQ              event concept:name  \\\n",
              "0                 2500                     A_SUBMITTED   \n",
              "1                 2500               A_PARTLYSUBMITTED   \n",
              "2                 2500                      A_DECLINED   \n",
              "3                 6000                     A_SUBMITTED   \n",
              "4                 6000               A_PARTLYSUBMITTED   \n",
              "...                ...                             ...   \n",
              "47818            15000  W_Nabellen incomplete dossiers   \n",
              "47819            15000  W_Nabellen incomplete dossiers   \n",
              "47820            13000             W_Nabellen offertes   \n",
              "47821            35000  W_Nabellen incomplete dossiers   \n",
              "47822            35000  W_Nabellen incomplete dossiers   \n",
              "\n",
              "      event lifecycle:transition     event time:timestamp  Predicted Activity  \\\n",
              "0                       COMPLETE  03-02-2012 17:17:11.047   A_PARTLYSUBMITTED   \n",
              "1                       COMPLETE  03-02-2012 17:17:11.323       A_PREACCEPTED   \n",
              "2                       COMPLETE  03-02-2012 17:17:42.964                 NaN   \n",
              "3                       COMPLETE  03-02-2012 17:23:41.949   A_PARTLYSUBMITTED   \n",
              "4                       COMPLETE  03-02-2012 17:23:42.504       A_PREACCEPTED   \n",
              "...                          ...                      ...                 ...   \n",
              "47818                      START  14-03-2012 15:59:28.309                 NaN   \n",
              "47819                   COMPLETE  14-03-2012 16:00:09.680  W_Afhandelen leads   \n",
              "47820                      START  14-03-2012 16:02:03.883   A_PARTLYSUBMITTED   \n",
              "47821                      START  14-03-2012 16:04:46.192       A_PREACCEPTED   \n",
              "47822                   COMPLETE  14-03-2012 16:04:54.681  W_Afhandelen leads   \n",
              "\n",
              "         Predicted Time Stamp  \n",
              "0     2012-03-03 00:54:28.047  \n",
              "1     2012-03-03 03:09:23.323  \n",
              "2     2012-03-03 03:18:17.964  \n",
              "3     2012-03-03 01:00:58.949  \n",
              "4     2012-03-03 03:15:54.504  \n",
              "...                       ...  \n",
              "47818 2012-03-15 02:00:03.309  \n",
              "47819 2012-03-15 18:41:04.680  \n",
              "47820 2012-03-14 23:39:20.883  \n",
              "47821 2012-03-15 01:56:58.192  \n",
              "47822 2012-03-15 18:45:49.681  \n",
              "\n",
              "[47823 rows x 9 columns]"
            ]
          },
          "metadata": {},
          "execution_count": 41
        }
      ]
    },
    {
      "cell_type": "code",
      "source": [
        "end = time.time()\n",
        "print(end-start)"
      ],
      "metadata": {
        "colab": {
          "base_uri": "https://localhost:8080/"
        },
        "id": "EQqHU8twhaDc",
        "outputId": "91a71c63-9abd-4aeb-e74d-3e9dfb71a37a"
      },
      "execution_count": 42,
      "outputs": [
        {
          "output_type": "stream",
          "name": "stdout",
          "text": [
            "1985.5656168460846\n"
          ]
        }
      ]
    }
  ]
}