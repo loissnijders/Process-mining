{
  "nbformat": 4,
  "nbformat_minor": 0,
  "metadata": {
    "colab": {
      "name": "PM lame average.ipynb",
      "provenance": [],
      "collapsed_sections": [],
      "machine_shape": "hm"
    },
    "kernelspec": {
      "name": "python3",
      "display_name": "Python 3"
    },
    "language_info": {
      "name": "python"
    }
  },
  "cells": [
    {
      "cell_type": "code",
      "execution_count": 2,
      "metadata": {
        "id": "nF-fIksyHVwp"
      },
      "outputs": [],
      "source": [
        "from google.colab import drive\n",
        "# drive.mount('/content/drive')"
      ]
    },
    {
      "cell_type": "code",
      "source": [
        "import gzip\n",
        "import io\n",
        "import pandas as pd\n",
        "import re\n",
        "from datetime import timedelta\n",
        "import numpy as np"
      ],
      "metadata": {
        "id": "AEQhnEysJvRI"
      },
      "execution_count": 50,
      "outputs": []
    },
    {
      "cell_type": "code",
      "source": [
        "path = '/content/train_test_combined_2012.csv'\n",
        "pathte = '/content/BPI_Challenge_2012-test.csv'\n",
        "pathtr = '/content/BPI_Challenge_2012-training.csv'"
      ],
      "metadata": {
        "id": "_T4WuczQMGP9"
      },
      "execution_count": 190,
      "outputs": []
    },
    {
      "cell_type": "code",
      "source": [
        "d = pd.read_csv (path)\n",
        "dtr = pd.read_csv (pathtr)\n",
        "dte = pd.read_csv (pathte)"
      ],
      "metadata": {
        "id": "BFW9a2ftQaRp"
      },
      "execution_count": 297,
      "outputs": []
    },
    {
      "cell_type": "code",
      "source": [
        "d = d.drop('Unnamed: 0', axis = 1)"
      ],
      "metadata": {
        "id": "1oDaxDZTbG5h"
      },
      "execution_count": 298,
      "outputs": []
    },
    {
      "cell_type": "code",
      "source": [
        "d['event time:timestamp']= pd.to_datetime(d['event time:timestamp'])\n",
        "\n",
        "d = d.sort_values(by=['case concept:name', 'event time:timestamp'])\n",
        "\n",
        "d = d.assign(nexttime=(d.groupby('case concept:name')['event time:timestamp'].shift(0)\n",
        " - d.groupby('case concept:name')['event time:timestamp'].shift(1)).shift(-1)).fillna({'nexttime': \n",
        " np.nan})\n",
        "\n",
        "d = d.groupby('case concept:name',as_index = False).apply(lambda x: \n",
        "  x.reset_index(drop = True)).reset_index().drop('level_0',axis = 1).rename(columns={\"level_1\": \"actionorder\"})\n",
        "d.actionorder = d.actionorder + 1\n",
        "\n",
        "predictions = d.groupby('actionorder').nexttime.mean()\n",
        "\n",
        "d = d.assign(prednext=(predictions[d.actionorder].reset_index().nexttime))"
      ],
      "metadata": {
        "id": "4SWbdM0EanS2"
      },
      "execution_count": 299,
      "outputs": []
    },
    {
      "cell_type": "code",
      "source": [
        "d['diff1'] = d.nexttime - d.prednext\n",
        "d['diff2'] = d.diff1.dt.microseconds + d.diff1.dt.seconds * 10**6 + 864 * 10 ** 8 * d.diff1.dt.days\n",
        "d['diff3'] = d.diff2 ** 2\n",
        "\n",
        "'MSE seconds', d.diff3.mean() / (10 ** 6), 'mean seconds', d.diff2.mean() / (10 ** 6)"
      ],
      "metadata": {
        "colab": {
          "base_uri": "https://localhost:8080/"
        },
        "id": "V1eXrWqga5I4",
        "outputId": "5168167b-bea9-4528-9b6a-1774eed23d45"
      },
      "execution_count": 317,
      "outputs": [
        {
          "output_type": "execute_result",
          "data": {
            "text/plain": [
              "('MSE seconds', 3.9841262108619116e+18, 'mean seconds', -5.384745075527974e-07)"
            ]
          },
          "metadata": {},
          "execution_count": 317
        }
      ]
    },
    {
      "cell_type": "code",
      "source": [
        "dtr['event time:timestamp']= pd.to_datetime(dtr['event time:timestamp'])\n",
        "\n",
        "dtr = dtr.sort_values(by=['case concept:name', 'event time:timestamp'])\n",
        "\n",
        "dtr = dtr.assign(nexttime=(dtr.groupby('case concept:name')['event time:timestamp'].shift(0)\n",
        " - dtr.groupby('case concept:name')['event time:timestamp'].shift(1)).shift(-1)).fillna({'nexttime': \n",
        " np.nan})\n",
        "\n",
        "dtr = dtr.groupby('case concept:name',as_index = False).apply(lambda x: \n",
        "  x.reset_index(drop = True)).reset_index().drop('level_0',axis = 1).rename(columns={\"level_1\": \"actionorder\"})\n",
        "dtr.actionorder = dtr.actionorder + 1\n",
        "\n",
        "predictions = dtr.groupby('actionorder').nexttime.mean()\n",
        "\n",
        "# dtr = dtr.assign(prednext=(predictions[dtr.actionorder].reset_index().nexttime))"
      ],
      "metadata": {
        "id": "lrklnEB6RQf6"
      },
      "execution_count": 300,
      "outputs": []
    },
    {
      "cell_type": "code",
      "source": [
        "dte['event time:timestamp']= pd.to_datetime(dte['event time:timestamp'])\n",
        "\n",
        "dte = dte.sort_values(by=['case concept:name', 'event time:timestamp'])\n",
        "\n",
        "dte = dte.assign(nexttime=(dte.groupby('case concept:name')['event time:timestamp'].shift(0)\n",
        " - dte.groupby('case concept:name')['event time:timestamp'].shift(1)).shift(-1)).fillna({'nexttime': \n",
        " np.nan})\n",
        "\n",
        "dte = dte.groupby('case concept:name',as_index = False).apply(lambda x: \n",
        "  x.reset_index(drop = True)).reset_index().drop('level_0',axis = 1).rename(columns={\"level_1\": \"actionorder\"})\n",
        "dte.actionorder = dte.actionorder + 1\n",
        "\n",
        "# predictions = dte.groupby('actionorder').nexttime.mean()\n",
        "\n",
        "dte = dte.assign(prednext=(predictions[dte.actionorder].reset_index().nexttime))\n",
        "\n",
        "dte['predtime'] = dte['event time:timestamp'] +  dte.prednext"
      ],
      "metadata": {
        "id": "QDNdcBNjUlJO"
      },
      "execution_count": 301,
      "outputs": []
    },
    {
      "cell_type": "code",
      "source": [
        "dte['diff1'] = dte.nexttime - dte.prednext\n",
        "dte['diff2'] = dte.diff1.dt.microseconds + dte.diff1.dt.seconds * 10**6 + 864 * 10 ** 8 * dte.diff1.dt.days\n",
        "dte['diff3'] = dte.diff2 ** 2"
      ],
      "metadata": {
        "id": "5n2zZRdsVO8B"
      },
      "execution_count": 304,
      "outputs": []
    },
    {
      "cell_type": "code",
      "source": [
        "'MSE seconds:', dte.diff3.mean() / (10 ** 6), 'mean seconds:', dte.diff2.mean() / (10 ** 6)"
      ],
      "metadata": {
        "colab": {
          "base_uri": "https://localhost:8080/"
        },
        "id": "dRc9Ut4SYi44",
        "outputId": "d5ddb1e0-8e6d-4054-c3dc-aa59395a0284"
      },
      "execution_count": 316,
      "outputs": [
        {
          "output_type": "execute_result",
          "data": {
            "text/plain": [
              "('MSE seconds:', 3.73286735627461e+18, 'mean seconds:', -8528.50257298487)"
            ]
          },
          "metadata": {},
          "execution_count": 316
        }
      ]
    },
    {
      "cell_type": "code",
      "source": [
        "dexp = dte.drop(['actionorder', 'nexttime', 'prednext', 'diff1', 'diff2', 'diff3'], axis = 1)"
      ],
      "metadata": {
        "id": "leoRXtdpceuX"
      },
      "execution_count": 309,
      "outputs": []
    },
    {
      "cell_type": "code",
      "source": [
        "dexp"
      ],
      "metadata": {
        "colab": {
          "base_uri": "https://localhost:8080/",
          "height": 424
        },
        "id": "3HRUtMXtempm",
        "outputId": "948f1052-0bf4-46c4-c76b-9cceb9a76202"
      },
      "execution_count": 310,
      "outputs": [
        {
          "output_type": "execute_result",
          "data": {
            "text/html": [
              "\n",
              "  <div id=\"df-92645ad0-69b3-4a1b-a897-1bf61044b5de\">\n",
              "    <div class=\"colab-df-container\">\n",
              "      <div>\n",
              "<style scoped>\n",
              "    .dataframe tbody tr th:only-of-type {\n",
              "        vertical-align: middle;\n",
              "    }\n",
              "\n",
              "    .dataframe tbody tr th {\n",
              "        vertical-align: top;\n",
              "    }\n",
              "\n",
              "    .dataframe thead th {\n",
              "        text-align: right;\n",
              "    }\n",
              "</style>\n",
              "<table border=\"1\" class=\"dataframe\">\n",
              "  <thead>\n",
              "    <tr style=\"text-align: right;\">\n",
              "      <th></th>\n",
              "      <th>eventID</th>\n",
              "      <th>case concept:name</th>\n",
              "      <th>case REG_DATE</th>\n",
              "      <th>case AMOUNT_REQ</th>\n",
              "      <th>event concept:name</th>\n",
              "      <th>event lifecycle:transition</th>\n",
              "      <th>event time:timestamp</th>\n",
              "      <th>predtime</th>\n",
              "    </tr>\n",
              "  </thead>\n",
              "  <tbody>\n",
              "    <tr>\n",
              "      <th>0</th>\n",
              "      <td>44964012621824</td>\n",
              "      <td>206324</td>\n",
              "      <td>2012-02-03T17:17:11.047+01:00</td>\n",
              "      <td>2500</td>\n",
              "      <td>A_SUBMITTED</td>\n",
              "      <td>COMPLETE</td>\n",
              "      <td>2012-03-02 17:17:11.047</td>\n",
              "      <td>2012-03-02 17:40:42.193799980</td>\n",
              "    </tr>\n",
              "    <tr>\n",
              "      <th>1</th>\n",
              "      <td>44964012621825</td>\n",
              "      <td>206324</td>\n",
              "      <td>2012-02-03T17:17:11.047+01:00</td>\n",
              "      <td>2500</td>\n",
              "      <td>A_PARTLYSUBMITTED</td>\n",
              "      <td>COMPLETE</td>\n",
              "      <td>2012-03-02 17:17:11.323</td>\n",
              "      <td>2012-03-07 10:12:32.462567962</td>\n",
              "    </tr>\n",
              "    <tr>\n",
              "      <th>2</th>\n",
              "      <td>44964012621826</td>\n",
              "      <td>206324</td>\n",
              "      <td>2012-02-03T17:17:11.047+01:00</td>\n",
              "      <td>2500</td>\n",
              "      <td>A_DECLINED</td>\n",
              "      <td>COMPLETE</td>\n",
              "      <td>2012-03-02 17:17:42.964</td>\n",
              "      <td>2012-03-05 08:20:50.191977503</td>\n",
              "    </tr>\n",
              "    <tr>\n",
              "      <th>3</th>\n",
              "      <td>44968307589120</td>\n",
              "      <td>206327</td>\n",
              "      <td>2012-02-03T17:23:41.949+01:00</td>\n",
              "      <td>6000</td>\n",
              "      <td>A_SUBMITTED</td>\n",
              "      <td>COMPLETE</td>\n",
              "      <td>2012-03-02 17:23:41.949</td>\n",
              "      <td>2012-03-02 17:47:13.095799980</td>\n",
              "    </tr>\n",
              "    <tr>\n",
              "      <th>4</th>\n",
              "      <td>44968307589121</td>\n",
              "      <td>206327</td>\n",
              "      <td>2012-02-03T17:23:41.949+01:00</td>\n",
              "      <td>6000</td>\n",
              "      <td>A_PARTLYSUBMITTED</td>\n",
              "      <td>COMPLETE</td>\n",
              "      <td>2012-03-02 17:23:42.504</td>\n",
              "      <td>2012-03-07 10:19:03.643567962</td>\n",
              "    </tr>\n",
              "    <tr>\n",
              "      <th>...</th>\n",
              "      <td>...</td>\n",
              "      <td>...</td>\n",
              "      <td>...</td>\n",
              "      <td>...</td>\n",
              "      <td>...</td>\n",
              "      <td>...</td>\n",
              "      <td>...</td>\n",
              "      <td>...</td>\n",
              "    </tr>\n",
              "    <tr>\n",
              "      <th>47818</th>\n",
              "      <td>56203942035460</td>\n",
              "      <td>214376</td>\n",
              "      <td>2012-02-29T23:51:16.799+01:00</td>\n",
              "      <td>15000</td>\n",
              "      <td>A_DECLINED</td>\n",
              "      <td>COMPLETE</td>\n",
              "      <td>2012-01-03 09:27:37.118</td>\n",
              "      <td>2012-01-08 02:22:58.257567962</td>\n",
              "    </tr>\n",
              "    <tr>\n",
              "      <th>47819</th>\n",
              "      <td>56203942035461</td>\n",
              "      <td>214376</td>\n",
              "      <td>2012-02-29T23:51:16.799+01:00</td>\n",
              "      <td>15000</td>\n",
              "      <td>W_Afhandelen leads</td>\n",
              "      <td>COMPLETE</td>\n",
              "      <td>2012-01-03 09:27:41.325</td>\n",
              "      <td>2012-01-06 00:30:48.552977503</td>\n",
              "    </tr>\n",
              "    <tr>\n",
              "      <th>47820</th>\n",
              "      <td>56203942035456</td>\n",
              "      <td>214376</td>\n",
              "      <td>2012-02-29T23:51:16.799+01:00</td>\n",
              "      <td>15000</td>\n",
              "      <td>A_SUBMITTED</td>\n",
              "      <td>COMPLETE</td>\n",
              "      <td>2012-02-29 23:51:16.799</td>\n",
              "      <td>2012-03-09 17:09:46.058373441</td>\n",
              "    </tr>\n",
              "    <tr>\n",
              "      <th>47821</th>\n",
              "      <td>56203942035457</td>\n",
              "      <td>214376</td>\n",
              "      <td>2012-02-29T23:51:16.799+01:00</td>\n",
              "      <td>15000</td>\n",
              "      <td>A_PARTLYSUBMITTED</td>\n",
              "      <td>COMPLETE</td>\n",
              "      <td>2012-02-29 23:51:17.423</td>\n",
              "      <td>2012-03-01 13:58:31.850780820</td>\n",
              "    </tr>\n",
              "    <tr>\n",
              "      <th>47822</th>\n",
              "      <td>56203942035458</td>\n",
              "      <td>214376</td>\n",
              "      <td>2012-02-29T23:51:16.799+01:00</td>\n",
              "      <td>15000</td>\n",
              "      <td>W_Afhandelen leads</td>\n",
              "      <td>SCHEDULE</td>\n",
              "      <td>2012-02-29 23:52:01.287</td>\n",
              "      <td>2012-03-08 03:58:17.486239409</td>\n",
              "    </tr>\n",
              "  </tbody>\n",
              "</table>\n",
              "<p>47823 rows × 8 columns</p>\n",
              "</div>\n",
              "      <button class=\"colab-df-convert\" onclick=\"convertToInteractive('df-92645ad0-69b3-4a1b-a897-1bf61044b5de')\"\n",
              "              title=\"Convert this dataframe to an interactive table.\"\n",
              "              style=\"display:none;\">\n",
              "        \n",
              "  <svg xmlns=\"http://www.w3.org/2000/svg\" height=\"24px\"viewBox=\"0 0 24 24\"\n",
              "       width=\"24px\">\n",
              "    <path d=\"M0 0h24v24H0V0z\" fill=\"none\"/>\n",
              "    <path d=\"M18.56 5.44l.94 2.06.94-2.06 2.06-.94-2.06-.94-.94-2.06-.94 2.06-2.06.94zm-11 1L8.5 8.5l.94-2.06 2.06-.94-2.06-.94L8.5 2.5l-.94 2.06-2.06.94zm10 10l.94 2.06.94-2.06 2.06-.94-2.06-.94-.94-2.06-.94 2.06-2.06.94z\"/><path d=\"M17.41 7.96l-1.37-1.37c-.4-.4-.92-.59-1.43-.59-.52 0-1.04.2-1.43.59L10.3 9.45l-7.72 7.72c-.78.78-.78 2.05 0 2.83L4 21.41c.39.39.9.59 1.41.59.51 0 1.02-.2 1.41-.59l7.78-7.78 2.81-2.81c.8-.78.8-2.07 0-2.86zM5.41 20L4 18.59l7.72-7.72 1.47 1.35L5.41 20z\"/>\n",
              "  </svg>\n",
              "      </button>\n",
              "      \n",
              "  <style>\n",
              "    .colab-df-container {\n",
              "      display:flex;\n",
              "      flex-wrap:wrap;\n",
              "      gap: 12px;\n",
              "    }\n",
              "\n",
              "    .colab-df-convert {\n",
              "      background-color: #E8F0FE;\n",
              "      border: none;\n",
              "      border-radius: 50%;\n",
              "      cursor: pointer;\n",
              "      display: none;\n",
              "      fill: #1967D2;\n",
              "      height: 32px;\n",
              "      padding: 0 0 0 0;\n",
              "      width: 32px;\n",
              "    }\n",
              "\n",
              "    .colab-df-convert:hover {\n",
              "      background-color: #E2EBFA;\n",
              "      box-shadow: 0px 1px 2px rgba(60, 64, 67, 0.3), 0px 1px 3px 1px rgba(60, 64, 67, 0.15);\n",
              "      fill: #174EA6;\n",
              "    }\n",
              "\n",
              "    [theme=dark] .colab-df-convert {\n",
              "      background-color: #3B4455;\n",
              "      fill: #D2E3FC;\n",
              "    }\n",
              "\n",
              "    [theme=dark] .colab-df-convert:hover {\n",
              "      background-color: #434B5C;\n",
              "      box-shadow: 0px 1px 3px 1px rgba(0, 0, 0, 0.15);\n",
              "      filter: drop-shadow(0px 1px 2px rgba(0, 0, 0, 0.3));\n",
              "      fill: #FFFFFF;\n",
              "    }\n",
              "  </style>\n",
              "\n",
              "      <script>\n",
              "        const buttonEl =\n",
              "          document.querySelector('#df-92645ad0-69b3-4a1b-a897-1bf61044b5de button.colab-df-convert');\n",
              "        buttonEl.style.display =\n",
              "          google.colab.kernel.accessAllowed ? 'block' : 'none';\n",
              "\n",
              "        async function convertToInteractive(key) {\n",
              "          const element = document.querySelector('#df-92645ad0-69b3-4a1b-a897-1bf61044b5de');\n",
              "          const dataTable =\n",
              "            await google.colab.kernel.invokeFunction('convertToInteractive',\n",
              "                                                     [key], {});\n",
              "          if (!dataTable) return;\n",
              "\n",
              "          const docLinkHtml = 'Like what you see? Visit the ' +\n",
              "            '<a target=\"_blank\" href=https://colab.research.google.com/notebooks/data_table.ipynb>data table notebook</a>'\n",
              "            + ' to learn more about interactive tables.';\n",
              "          element.innerHTML = '';\n",
              "          dataTable['output_type'] = 'display_data';\n",
              "          await google.colab.output.renderOutput(dataTable, element);\n",
              "          const docLink = document.createElement('div');\n",
              "          docLink.innerHTML = docLinkHtml;\n",
              "          element.appendChild(docLink);\n",
              "        }\n",
              "      </script>\n",
              "    </div>\n",
              "  </div>\n",
              "  "
            ],
            "text/plain": [
              "             eventID   ...                      predtime\n",
              "0      44964012621824  ... 2012-03-02 17:40:42.193799980\n",
              "1      44964012621825  ... 2012-03-07 10:12:32.462567962\n",
              "2      44964012621826  ... 2012-03-05 08:20:50.191977503\n",
              "3      44968307589120  ... 2012-03-02 17:47:13.095799980\n",
              "4      44968307589121  ... 2012-03-07 10:19:03.643567962\n",
              "...               ...  ...                           ...\n",
              "47818  56203942035460  ... 2012-01-08 02:22:58.257567962\n",
              "47819  56203942035461  ... 2012-01-06 00:30:48.552977503\n",
              "47820  56203942035456  ... 2012-03-09 17:09:46.058373441\n",
              "47821  56203942035457  ... 2012-03-01 13:58:31.850780820\n",
              "47822  56203942035458  ... 2012-03-08 03:58:17.486239409\n",
              "\n",
              "[47823 rows x 8 columns]"
            ]
          },
          "metadata": {},
          "execution_count": 310
        }
      ]
    },
    {
      "cell_type": "code",
      "source": [
        "dexp.to_csv('test_predicted_time.csv')"
      ],
      "metadata": {
        "id": "xpFGFxVffytG"
      },
      "execution_count": 322,
      "outputs": []
    },
    {
      "cell_type": "code",
      "source": [
        ""
      ],
      "metadata": {
        "id": "plyZsVREg8Lf"
      },
      "execution_count": null,
      "outputs": []
    }
  ]
}