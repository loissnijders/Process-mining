{
 "cells": [
  {
   "cell_type": "code",
   "execution_count": 1,
   "metadata": {},
   "outputs": [],
   "source": [
    "import pandas as pd"
   ]
  },
  {
   "cell_type": "code",
   "execution_count": 3,
   "metadata": {},
   "outputs": [],
   "source": [
    "table = pd.read_csv('data/data_csv.csv') "
   ]
  },
  {
   "cell_type": "code",
   "execution_count": 4,
   "metadata": {},
   "outputs": [
    {
     "data": {
      "text/html": [
       "<div>\n",
       "<style scoped>\n",
       "    .dataframe tbody tr th:only-of-type {\n",
       "        vertical-align: middle;\n",
       "    }\n",
       "\n",
       "    .dataframe tbody tr th {\n",
       "        vertical-align: top;\n",
       "    }\n",
       "\n",
       "    .dataframe thead th {\n",
       "        text-align: right;\n",
       "    }\n",
       "</style>\n",
       "<table border=\"1\" class=\"dataframe\">\n",
       "  <thead>\n",
       "    <tr style=\"text-align: right;\">\n",
       "      <th></th>\n",
       "      <th>Unnamed: 0</th>\n",
       "      <th>org:resource</th>\n",
       "      <th>lifecycle:transition</th>\n",
       "      <th>concept:name</th>\n",
       "      <th>time:timestamp</th>\n",
       "      <th>case:REG_DATE</th>\n",
       "      <th>case:concept:name</th>\n",
       "      <th>case:AMOUNT_REQ</th>\n",
       "    </tr>\n",
       "  </thead>\n",
       "  <tbody>\n",
       "    <tr>\n",
       "      <th>0</th>\n",
       "      <td>0</td>\n",
       "      <td>112.0</td>\n",
       "      <td>COMPLETE</td>\n",
       "      <td>A_SUBMITTED</td>\n",
       "      <td>2011-10-01 00:38:44.546000+02:00</td>\n",
       "      <td>2011-10-01 00:38:44.546000+02:00</td>\n",
       "      <td>173688</td>\n",
       "      <td>20000</td>\n",
       "    </tr>\n",
       "    <tr>\n",
       "      <th>1</th>\n",
       "      <td>1</td>\n",
       "      <td>112.0</td>\n",
       "      <td>COMPLETE</td>\n",
       "      <td>A_PARTLYSUBMITTED</td>\n",
       "      <td>2011-10-01 00:38:44.880000+02:00</td>\n",
       "      <td>2011-10-01 00:38:44.546000+02:00</td>\n",
       "      <td>173688</td>\n",
       "      <td>20000</td>\n",
       "    </tr>\n",
       "    <tr>\n",
       "      <th>2</th>\n",
       "      <td>2</td>\n",
       "      <td>112.0</td>\n",
       "      <td>COMPLETE</td>\n",
       "      <td>A_PREACCEPTED</td>\n",
       "      <td>2011-10-01 00:39:37.906000+02:00</td>\n",
       "      <td>2011-10-01 00:38:44.546000+02:00</td>\n",
       "      <td>173688</td>\n",
       "      <td>20000</td>\n",
       "    </tr>\n",
       "    <tr>\n",
       "      <th>3</th>\n",
       "      <td>3</td>\n",
       "      <td>112.0</td>\n",
       "      <td>SCHEDULE</td>\n",
       "      <td>W_Completeren aanvraag</td>\n",
       "      <td>2011-10-01 00:39:38.875000+02:00</td>\n",
       "      <td>2011-10-01 00:38:44.546000+02:00</td>\n",
       "      <td>173688</td>\n",
       "      <td>20000</td>\n",
       "    </tr>\n",
       "    <tr>\n",
       "      <th>4</th>\n",
       "      <td>4</td>\n",
       "      <td>NaN</td>\n",
       "      <td>START</td>\n",
       "      <td>W_Completeren aanvraag</td>\n",
       "      <td>2011-10-01 11:36:46.437000+02:00</td>\n",
       "      <td>2011-10-01 00:38:44.546000+02:00</td>\n",
       "      <td>173688</td>\n",
       "      <td>20000</td>\n",
       "    </tr>\n",
       "    <tr>\n",
       "      <th>...</th>\n",
       "      <td>...</td>\n",
       "      <td>...</td>\n",
       "      <td>...</td>\n",
       "      <td>...</td>\n",
       "      <td>...</td>\n",
       "      <td>...</td>\n",
       "      <td>...</td>\n",
       "      <td>...</td>\n",
       "    </tr>\n",
       "    <tr>\n",
       "      <th>262195</th>\n",
       "      <td>262195</td>\n",
       "      <td>112.0</td>\n",
       "      <td>COMPLETE</td>\n",
       "      <td>A_PARTLYSUBMITTED</td>\n",
       "      <td>2012-02-29 23:51:17.423000+01:00</td>\n",
       "      <td>2012-02-29 23:51:16.799000+01:00</td>\n",
       "      <td>214376</td>\n",
       "      <td>15000</td>\n",
       "    </tr>\n",
       "    <tr>\n",
       "      <th>262196</th>\n",
       "      <td>262196</td>\n",
       "      <td>112.0</td>\n",
       "      <td>SCHEDULE</td>\n",
       "      <td>W_Afhandelen leads</td>\n",
       "      <td>2012-02-29 23:52:01.287000+01:00</td>\n",
       "      <td>2012-02-29 23:51:16.799000+01:00</td>\n",
       "      <td>214376</td>\n",
       "      <td>15000</td>\n",
       "    </tr>\n",
       "    <tr>\n",
       "      <th>262197</th>\n",
       "      <td>262197</td>\n",
       "      <td>11169.0</td>\n",
       "      <td>START</td>\n",
       "      <td>W_Afhandelen leads</td>\n",
       "      <td>2012-03-01 09:26:46.736000+01:00</td>\n",
       "      <td>2012-02-29 23:51:16.799000+01:00</td>\n",
       "      <td>214376</td>\n",
       "      <td>15000</td>\n",
       "    </tr>\n",
       "    <tr>\n",
       "      <th>262198</th>\n",
       "      <td>262198</td>\n",
       "      <td>11169.0</td>\n",
       "      <td>COMPLETE</td>\n",
       "      <td>A_DECLINED</td>\n",
       "      <td>2012-03-01 09:27:37.118000+01:00</td>\n",
       "      <td>2012-02-29 23:51:16.799000+01:00</td>\n",
       "      <td>214376</td>\n",
       "      <td>15000</td>\n",
       "    </tr>\n",
       "    <tr>\n",
       "      <th>262199</th>\n",
       "      <td>262199</td>\n",
       "      <td>11169.0</td>\n",
       "      <td>COMPLETE</td>\n",
       "      <td>W_Afhandelen leads</td>\n",
       "      <td>2012-03-01 09:27:41.325000+01:00</td>\n",
       "      <td>2012-02-29 23:51:16.799000+01:00</td>\n",
       "      <td>214376</td>\n",
       "      <td>15000</td>\n",
       "    </tr>\n",
       "  </tbody>\n",
       "</table>\n",
       "<p>262200 rows × 8 columns</p>\n",
       "</div>"
      ],
      "text/plain": [
       "        Unnamed: 0  org:resource lifecycle:transition            concept:name  \\\n",
       "0                0         112.0             COMPLETE             A_SUBMITTED   \n",
       "1                1         112.0             COMPLETE       A_PARTLYSUBMITTED   \n",
       "2                2         112.0             COMPLETE           A_PREACCEPTED   \n",
       "3                3         112.0             SCHEDULE  W_Completeren aanvraag   \n",
       "4                4           NaN                START  W_Completeren aanvraag   \n",
       "...            ...           ...                  ...                     ...   \n",
       "262195      262195         112.0             COMPLETE       A_PARTLYSUBMITTED   \n",
       "262196      262196         112.0             SCHEDULE      W_Afhandelen leads   \n",
       "262197      262197       11169.0                START      W_Afhandelen leads   \n",
       "262198      262198       11169.0             COMPLETE              A_DECLINED   \n",
       "262199      262199       11169.0             COMPLETE      W_Afhandelen leads   \n",
       "\n",
       "                          time:timestamp                     case:REG_DATE  \\\n",
       "0       2011-10-01 00:38:44.546000+02:00  2011-10-01 00:38:44.546000+02:00   \n",
       "1       2011-10-01 00:38:44.880000+02:00  2011-10-01 00:38:44.546000+02:00   \n",
       "2       2011-10-01 00:39:37.906000+02:00  2011-10-01 00:38:44.546000+02:00   \n",
       "3       2011-10-01 00:39:38.875000+02:00  2011-10-01 00:38:44.546000+02:00   \n",
       "4       2011-10-01 11:36:46.437000+02:00  2011-10-01 00:38:44.546000+02:00   \n",
       "...                                  ...                               ...   \n",
       "262195  2012-02-29 23:51:17.423000+01:00  2012-02-29 23:51:16.799000+01:00   \n",
       "262196  2012-02-29 23:52:01.287000+01:00  2012-02-29 23:51:16.799000+01:00   \n",
       "262197  2012-03-01 09:26:46.736000+01:00  2012-02-29 23:51:16.799000+01:00   \n",
       "262198  2012-03-01 09:27:37.118000+01:00  2012-02-29 23:51:16.799000+01:00   \n",
       "262199  2012-03-01 09:27:41.325000+01:00  2012-02-29 23:51:16.799000+01:00   \n",
       "\n",
       "        case:concept:name  case:AMOUNT_REQ  \n",
       "0                  173688            20000  \n",
       "1                  173688            20000  \n",
       "2                  173688            20000  \n",
       "3                  173688            20000  \n",
       "4                  173688            20000  \n",
       "...                   ...              ...  \n",
       "262195             214376            15000  \n",
       "262196             214376            15000  \n",
       "262197             214376            15000  \n",
       "262198             214376            15000  \n",
       "262199             214376            15000  \n",
       "\n",
       "[262200 rows x 8 columns]"
      ]
     },
     "execution_count": 4,
     "metadata": {},
     "output_type": "execute_result"
    }
   ],
   "source": [
    "table"
   ]
  },
  {
   "cell_type": "markdown",
   "metadata": {},
   "source": [
    "On the page 'Realtime vs. Offline algorithms' it says that the most simple solution is a streaming model. This is doable in constant time so relevant when time is of importance. Idea: keep a table in memory that stores, for each index in the trace: the number of times each activity was seen, the sum of the time since the last activity and the number of observations of that index. "
   ]
  },
  {
   "cell_type": "code",
   "execution_count": 15,
   "metadata": {},
   "outputs": [
    {
     "data": {
      "text/plain": [
       "COMPLETE    164506\n",
       "START        71376\n",
       "SCHEDULE     26318\n",
       "Name: lifecycle_transition, dtype: int64"
      ]
     },
     "execution_count": 15,
     "metadata": {},
     "output_type": "execute_result"
    }
   ],
   "source": [
    "table[['lifecycle_transition']] = table[['lifecycle:transition']]\n",
    "trans = table[['lifecycle_transition']]\n",
    "\n",
    "trans.lifecycle_transition.value_counts()\n",
    "\n",
    "#What is this?"
   ]
  },
  {
   "cell_type": "code",
   "execution_count": 16,
   "metadata": {},
   "outputs": [
    {
     "data": {
      "text/plain": [
       "W_Completeren aanvraag            54850\n",
       "W_Nabellen offertes               52016\n",
       "W_Nabellen incomplete dossiers    25190\n",
       "W_Valideren aanvraag              20809\n",
       "W_Afhandelen leads                16566\n",
       "A_SUBMITTED                       13087\n",
       "A_PARTLYSUBMITTED                 13087\n",
       "A_DECLINED                         7635\n",
       "A_PREACCEPTED                      7367\n",
       "O_SENT                             7030\n",
       "O_CREATED                          7030\n",
       "O_SELECTED                         7030\n",
       "A_ACCEPTED                         5113\n",
       "A_FINALIZED                        5015\n",
       "O_CANCELLED                        3655\n",
       "O_SENT_BACK                        3454\n",
       "A_CANCELLED                        2807\n",
       "A_REGISTERED                       2246\n",
       "A_ACTIVATED                        2246\n",
       "A_APPROVED                         2246\n",
       "O_ACCEPTED                         2243\n",
       "O_DECLINED                          802\n",
       "W_Beoordelen fraude                 664\n",
       "W_Wijzigen contractgegevens          12\n",
       "Name: concept_name, dtype: int64"
      ]
     },
     "execution_count": 16,
     "metadata": {},
     "output_type": "execute_result"
    }
   ],
   "source": [
    "table[['concept_name']] = table[['concept:name']]\n",
    "cons = table[['concept_name']]\n",
    "\n",
    "cons.concept_name.value_counts()\n",
    "\n",
    "#So these are the different kinds of statuses."
   ]
  },
  {
   "cell_type": "code",
   "execution_count": 45,
   "metadata": {},
   "outputs": [
    {
     "data": {
      "text/html": [
       "<div>\n",
       "<style scoped>\n",
       "    .dataframe tbody tr th:only-of-type {\n",
       "        vertical-align: middle;\n",
       "    }\n",
       "\n",
       "    .dataframe tbody tr th {\n",
       "        vertical-align: top;\n",
       "    }\n",
       "\n",
       "    .dataframe thead th {\n",
       "        text-align: right;\n",
       "    }\n",
       "</style>\n",
       "<table border=\"1\" class=\"dataframe\">\n",
       "  <thead>\n",
       "    <tr style=\"text-align: right;\">\n",
       "      <th></th>\n",
       "      <th>time:timestamp</th>\n",
       "    </tr>\n",
       "  </thead>\n",
       "  <tbody>\n",
       "    <tr>\n",
       "      <th>1</th>\n",
       "      <td>2011-10-01 00:38:44.880000+02:00</td>\n",
       "    </tr>\n",
       "  </tbody>\n",
       "</table>\n",
       "</div>"
      ],
      "text/plain": [
       "                     time:timestamp\n",
       "1  2011-10-01 00:38:44.880000+02:00"
      ]
     },
     "execution_count": 45,
     "metadata": {},
     "output_type": "execute_result"
    }
   ],
   "source": [
    "table[['time:timestamp']].loc[[1]]"
   ]
  },
  {
   "cell_type": "code",
   "execution_count": 39,
   "metadata": {},
   "outputs": [],
   "source": [
    "from datetime import datetime\n",
    "\n",
    "fmt = '%yyyy-%mm-%dd %h:%mm:%ss'"
   ]
  },
  {
   "cell_type": "code",
   "execution_count": 52,
   "metadata": {},
   "outputs": [
    {
     "data": {
      "text/plain": [
       "array([  112.,    nan, 10862., 10913., 11049., 10629., 11120., 10809.,\n",
       "       10912., 11201., 11119., 10861., 11203., 11181., 11189., 10609.,\n",
       "       11111., 10982., 11019., 11180., 10899., 10138., 11002., 11122.,\n",
       "       10889., 10972., 11121., 10939., 11029., 11009., 11000., 10863.,\n",
       "       11169., 11179., 11001., 10971., 10228., 11202., 10789., 10881.,\n",
       "       10909., 10188., 10910., 10929., 10931., 11259., 11200., 10779.,\n",
       "       10880., 10914., 10859., 11339., 10933., 11079., 10932., 10935.,\n",
       "       11254., 11003., 10125., 11269., 10821., 11289., 10124., 11299.,\n",
       "       11309., 11300., 11302., 11319., 11304.])"
      ]
     },
     "execution_count": 52,
     "metadata": {},
     "output_type": "execute_result"
    }
   ],
   "source": [
    "table[['org_resource']] = table[['org:resource']]\n",
    "reso = table[['org_resource']]\n",
    "\n",
    "reso.org_resource.unique()\n",
    "\n",
    "#Are these used to refer to a specific case? The ID's?"
   ]
  },
  {
   "cell_type": "markdown",
   "metadata": {},
   "source": [
    "On Training/Test (and Validation) data:\n",
    "\n",
    "The same holds for the baseline algorithm in this course (essentially, the baseline algorithm is a decision-tree with depth 1, i.e. it only depends on the position in the trace attribute of the current event to provide a prediction. It can be trained on training data and then tested on independent test data.\n",
    "\n",
    "Understanding Decision Trees for Classification (Python)\n",
    "\n",
    "https://towardsdatascience.com/understanding-decision-trees-for-classification-python-9663d683c952"
   ]
  },
  {
   "cell_type": "code",
   "execution_count": null,
   "metadata": {},
   "outputs": [],
   "source": []
  }
 ],
 "metadata": {
  "kernelspec": {
   "display_name": "Python 3",
   "language": "python",
   "name": "python3"
  },
  "language_info": {
   "codemirror_mode": {
    "name": "ipython",
    "version": 3
   },
   "file_extension": ".py",
   "mimetype": "text/x-python",
   "name": "python",
   "nbconvert_exporter": "python",
   "pygments_lexer": "ipython3",
   "version": "3.7.6"
  }
 },
 "nbformat": 4,
 "nbformat_minor": 4
}
