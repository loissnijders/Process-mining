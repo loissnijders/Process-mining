{
  "nbformat": 4,
  "nbformat_minor": 0,
  "metadata": {
    "colab": {
      "name": "PM forests.ipynb",
      "provenance": [],
      "collapsed_sections": [],
      "machine_shape": "hm"
    },
    "kernelspec": {
      "name": "python3",
      "display_name": "Python 3"
    },
    "language_info": {
      "name": "python"
    },
    "widgets": {
      "application/vnd.jupyter.widget-state+json": {
        "f19e0378ab9d4fb78b718b1807a9dad7": {
          "model_module": "@jupyter-widgets/controls",
          "model_name": "HBoxModel",
          "model_module_version": "1.5.0",
          "state": {
            "_view_name": "HBoxView",
            "_dom_classes": [],
            "_model_name": "HBoxModel",
            "_view_module": "@jupyter-widgets/controls",
            "_model_module_version": "1.5.0",
            "_view_count": null,
            "_view_module_version": "1.5.0",
            "box_style": "",
            "layout": "IPY_MODEL_434a6f8370c949a48482f9097196d62e",
            "_model_module": "@jupyter-widgets/controls",
            "children": [
              "IPY_MODEL_bf9614becfe24360b1d3686fcc112118",
              "IPY_MODEL_cc55e170998046b1802c1f8dfb7dab75",
              "IPY_MODEL_46a84e0cd3d841f4bc07f5c65ce0c62a"
            ]
          }
        },
        "434a6f8370c949a48482f9097196d62e": {
          "model_module": "@jupyter-widgets/base",
          "model_name": "LayoutModel",
          "model_module_version": "1.2.0",
          "state": {
            "_view_name": "LayoutView",
            "grid_template_rows": null,
            "right": null,
            "justify_content": null,
            "_view_module": "@jupyter-widgets/base",
            "overflow": null,
            "_model_module_version": "1.2.0",
            "_view_count": null,
            "flex_flow": null,
            "width": null,
            "min_width": null,
            "border": null,
            "align_items": null,
            "bottom": null,
            "_model_module": "@jupyter-widgets/base",
            "top": null,
            "grid_column": null,
            "overflow_y": null,
            "overflow_x": null,
            "grid_auto_flow": null,
            "grid_area": null,
            "grid_template_columns": null,
            "flex": null,
            "_model_name": "LayoutModel",
            "justify_items": null,
            "grid_row": null,
            "max_height": null,
            "align_content": null,
            "visibility": null,
            "align_self": null,
            "height": null,
            "min_height": null,
            "padding": null,
            "grid_auto_rows": null,
            "grid_gap": null,
            "max_width": null,
            "order": null,
            "_view_module_version": "1.2.0",
            "grid_template_areas": null,
            "object_position": null,
            "object_fit": null,
            "grid_auto_columns": null,
            "margin": null,
            "display": null,
            "left": null
          }
        },
        "bf9614becfe24360b1d3686fcc112118": {
          "model_module": "@jupyter-widgets/controls",
          "model_name": "HTMLModel",
          "model_module_version": "1.5.0",
          "state": {
            "_view_name": "HTMLView",
            "style": "IPY_MODEL_1fe97e6dbc4b49969e544bd6c946ffdb",
            "_dom_classes": [],
            "description": "",
            "_model_name": "HTMLModel",
            "placeholder": "​",
            "_view_module": "@jupyter-widgets/controls",
            "_model_module_version": "1.5.0",
            "value": "parsing log, completed traces :: 100%",
            "_view_count": null,
            "_view_module_version": "1.5.0",
            "description_tooltip": null,
            "_model_module": "@jupyter-widgets/controls",
            "layout": "IPY_MODEL_b19bc59590bc412c9eef86113a40cd23"
          }
        },
        "cc55e170998046b1802c1f8dfb7dab75": {
          "model_module": "@jupyter-widgets/controls",
          "model_name": "FloatProgressModel",
          "model_module_version": "1.5.0",
          "state": {
            "_view_name": "ProgressView",
            "style": "IPY_MODEL_1e933266def7437a8ed9052bcddadd7a",
            "_dom_classes": [],
            "description": "",
            "_model_name": "FloatProgressModel",
            "bar_style": "success",
            "max": 13087,
            "_view_module": "@jupyter-widgets/controls",
            "_model_module_version": "1.5.0",
            "value": 13087,
            "_view_count": null,
            "_view_module_version": "1.5.0",
            "orientation": "horizontal",
            "min": 0,
            "description_tooltip": null,
            "_model_module": "@jupyter-widgets/controls",
            "layout": "IPY_MODEL_334f5320ed5e49c79c4e36b64f724e83"
          }
        },
        "46a84e0cd3d841f4bc07f5c65ce0c62a": {
          "model_module": "@jupyter-widgets/controls",
          "model_name": "HTMLModel",
          "model_module_version": "1.5.0",
          "state": {
            "_view_name": "HTMLView",
            "style": "IPY_MODEL_b0aec01bd9534188bbb0630d5b06e46f",
            "_dom_classes": [],
            "description": "",
            "_model_name": "HTMLModel",
            "placeholder": "​",
            "_view_module": "@jupyter-widgets/controls",
            "_model_module_version": "1.5.0",
            "value": " 13087/13087 [00:12&lt;00:00, 1451.13it/s]",
            "_view_count": null,
            "_view_module_version": "1.5.0",
            "description_tooltip": null,
            "_model_module": "@jupyter-widgets/controls",
            "layout": "IPY_MODEL_1f471a0bef2142aa8899527bb9f4b437"
          }
        },
        "1fe97e6dbc4b49969e544bd6c946ffdb": {
          "model_module": "@jupyter-widgets/controls",
          "model_name": "DescriptionStyleModel",
          "model_module_version": "1.5.0",
          "state": {
            "_view_name": "StyleView",
            "_model_name": "DescriptionStyleModel",
            "description_width": "",
            "_view_module": "@jupyter-widgets/base",
            "_model_module_version": "1.5.0",
            "_view_count": null,
            "_view_module_version": "1.2.0",
            "_model_module": "@jupyter-widgets/controls"
          }
        },
        "b19bc59590bc412c9eef86113a40cd23": {
          "model_module": "@jupyter-widgets/base",
          "model_name": "LayoutModel",
          "model_module_version": "1.2.0",
          "state": {
            "_view_name": "LayoutView",
            "grid_template_rows": null,
            "right": null,
            "justify_content": null,
            "_view_module": "@jupyter-widgets/base",
            "overflow": null,
            "_model_module_version": "1.2.0",
            "_view_count": null,
            "flex_flow": null,
            "width": null,
            "min_width": null,
            "border": null,
            "align_items": null,
            "bottom": null,
            "_model_module": "@jupyter-widgets/base",
            "top": null,
            "grid_column": null,
            "overflow_y": null,
            "overflow_x": null,
            "grid_auto_flow": null,
            "grid_area": null,
            "grid_template_columns": null,
            "flex": null,
            "_model_name": "LayoutModel",
            "justify_items": null,
            "grid_row": null,
            "max_height": null,
            "align_content": null,
            "visibility": null,
            "align_self": null,
            "height": null,
            "min_height": null,
            "padding": null,
            "grid_auto_rows": null,
            "grid_gap": null,
            "max_width": null,
            "order": null,
            "_view_module_version": "1.2.0",
            "grid_template_areas": null,
            "object_position": null,
            "object_fit": null,
            "grid_auto_columns": null,
            "margin": null,
            "display": null,
            "left": null
          }
        },
        "1e933266def7437a8ed9052bcddadd7a": {
          "model_module": "@jupyter-widgets/controls",
          "model_name": "ProgressStyleModel",
          "model_module_version": "1.5.0",
          "state": {
            "_view_name": "StyleView",
            "_model_name": "ProgressStyleModel",
            "description_width": "",
            "_view_module": "@jupyter-widgets/base",
            "_model_module_version": "1.5.0",
            "_view_count": null,
            "_view_module_version": "1.2.0",
            "bar_color": null,
            "_model_module": "@jupyter-widgets/controls"
          }
        },
        "334f5320ed5e49c79c4e36b64f724e83": {
          "model_module": "@jupyter-widgets/base",
          "model_name": "LayoutModel",
          "model_module_version": "1.2.0",
          "state": {
            "_view_name": "LayoutView",
            "grid_template_rows": null,
            "right": null,
            "justify_content": null,
            "_view_module": "@jupyter-widgets/base",
            "overflow": null,
            "_model_module_version": "1.2.0",
            "_view_count": null,
            "flex_flow": null,
            "width": null,
            "min_width": null,
            "border": null,
            "align_items": null,
            "bottom": null,
            "_model_module": "@jupyter-widgets/base",
            "top": null,
            "grid_column": null,
            "overflow_y": null,
            "overflow_x": null,
            "grid_auto_flow": null,
            "grid_area": null,
            "grid_template_columns": null,
            "flex": null,
            "_model_name": "LayoutModel",
            "justify_items": null,
            "grid_row": null,
            "max_height": null,
            "align_content": null,
            "visibility": null,
            "align_self": null,
            "height": null,
            "min_height": null,
            "padding": null,
            "grid_auto_rows": null,
            "grid_gap": null,
            "max_width": null,
            "order": null,
            "_view_module_version": "1.2.0",
            "grid_template_areas": null,
            "object_position": null,
            "object_fit": null,
            "grid_auto_columns": null,
            "margin": null,
            "display": null,
            "left": null
          }
        },
        "b0aec01bd9534188bbb0630d5b06e46f": {
          "model_module": "@jupyter-widgets/controls",
          "model_name": "DescriptionStyleModel",
          "model_module_version": "1.5.0",
          "state": {
            "_view_name": "StyleView",
            "_model_name": "DescriptionStyleModel",
            "description_width": "",
            "_view_module": "@jupyter-widgets/base",
            "_model_module_version": "1.5.0",
            "_view_count": null,
            "_view_module_version": "1.2.0",
            "_model_module": "@jupyter-widgets/controls"
          }
        },
        "1f471a0bef2142aa8899527bb9f4b437": {
          "model_module": "@jupyter-widgets/base",
          "model_name": "LayoutModel",
          "model_module_version": "1.2.0",
          "state": {
            "_view_name": "LayoutView",
            "grid_template_rows": null,
            "right": null,
            "justify_content": null,
            "_view_module": "@jupyter-widgets/base",
            "overflow": null,
            "_model_module_version": "1.2.0",
            "_view_count": null,
            "flex_flow": null,
            "width": null,
            "min_width": null,
            "border": null,
            "align_items": null,
            "bottom": null,
            "_model_module": "@jupyter-widgets/base",
            "top": null,
            "grid_column": null,
            "overflow_y": null,
            "overflow_x": null,
            "grid_auto_flow": null,
            "grid_area": null,
            "grid_template_columns": null,
            "flex": null,
            "_model_name": "LayoutModel",
            "justify_items": null,
            "grid_row": null,
            "max_height": null,
            "align_content": null,
            "visibility": null,
            "align_self": null,
            "height": null,
            "min_height": null,
            "padding": null,
            "grid_auto_rows": null,
            "grid_gap": null,
            "max_width": null,
            "order": null,
            "_view_module_version": "1.2.0",
            "grid_template_areas": null,
            "object_position": null,
            "object_fit": null,
            "grid_auto_columns": null,
            "margin": null,
            "display": null,
            "left": null
          }
        }
      }
    }
  },
  "cells": [
    {
      "cell_type": "code",
      "source": [
        "!pip install -U pm4py;"
      ],
      "metadata": {
        "id": "eM5o8pfx_mZr",
        "colab": {
          "base_uri": "https://localhost:8080/"
        },
        "outputId": "5310fbbb-9e00-4183-fa84-5d683cdf7b9f"
      },
      "execution_count": null,
      "outputs": [
        {
          "output_type": "stream",
          "name": "stdout",
          "text": [
            "Requirement already satisfied: pm4py in /usr/local/lib/python3.7/dist-packages (2.2.19.1)\n",
            "Requirement already satisfied: pandas>=1.1.5 in /usr/local/lib/python3.7/dist-packages (from pm4py) (1.3.5)\n",
            "Requirement already satisfied: graphviz in /usr/local/lib/python3.7/dist-packages (from pm4py) (0.10.1)\n",
            "Requirement already satisfied: tqdm in /usr/local/lib/python3.7/dist-packages (from pm4py) (4.62.3)\n",
            "Requirement already satisfied: cvxopt in /usr/local/lib/python3.7/dist-packages (from pm4py) (1.2.7)\n",
            "Requirement already satisfied: numpy>=1.19.5 in /usr/local/lib/python3.7/dist-packages (from pm4py) (1.19.5)\n",
            "Requirement already satisfied: scipy in /usr/local/lib/python3.7/dist-packages (from pm4py) (1.4.1)\n",
            "Requirement already satisfied: lxml in /usr/local/lib/python3.7/dist-packages (from pm4py) (4.2.6)\n",
            "Requirement already satisfied: intervaltree in /usr/local/lib/python3.7/dist-packages (from pm4py) (2.1.0)\n",
            "Requirement already satisfied: networkx in /usr/local/lib/python3.7/dist-packages (from pm4py) (2.6.3)\n",
            "Requirement already satisfied: pytz in /usr/local/lib/python3.7/dist-packages (from pm4py) (2018.9)\n",
            "Requirement already satisfied: pyvis in /usr/local/lib/python3.7/dist-packages (from pm4py) (0.1.9)\n",
            "Requirement already satisfied: pydotplus in /usr/local/lib/python3.7/dist-packages (from pm4py) (2.0.2)\n",
            "Requirement already satisfied: stringdist in /usr/local/lib/python3.7/dist-packages (from pm4py) (1.0.9)\n",
            "Requirement already satisfied: deprecation in /usr/local/lib/python3.7/dist-packages (from pm4py) (2.1.0)\n",
            "Requirement already satisfied: matplotlib in /usr/local/lib/python3.7/dist-packages (from pm4py) (3.2.2)\n",
            "Requirement already satisfied: sympy in /usr/local/lib/python3.7/dist-packages (from pm4py) (1.7.1)\n",
            "Requirement already satisfied: jsonpickle in /usr/local/lib/python3.7/dist-packages (from pm4py) (2.1.0)\n",
            "Requirement already satisfied: python-dateutil>=2.7.3 in /usr/local/lib/python3.7/dist-packages (from pandas>=1.1.5->pm4py) (2.8.2)\n",
            "Requirement already satisfied: six>=1.5 in /usr/local/lib/python3.7/dist-packages (from python-dateutil>=2.7.3->pandas>=1.1.5->pm4py) (1.15.0)\n",
            "Requirement already satisfied: packaging in /usr/local/lib/python3.7/dist-packages (from deprecation->pm4py) (21.3)\n",
            "Requirement already satisfied: sortedcontainers in /usr/local/lib/python3.7/dist-packages (from intervaltree->pm4py) (2.4.0)\n",
            "Requirement already satisfied: importlib-metadata in /usr/local/lib/python3.7/dist-packages (from jsonpickle->pm4py) (4.10.1)\n",
            "Requirement already satisfied: zipp>=0.5 in /usr/local/lib/python3.7/dist-packages (from importlib-metadata->jsonpickle->pm4py) (3.7.0)\n",
            "Requirement already satisfied: typing-extensions>=3.6.4 in /usr/local/lib/python3.7/dist-packages (from importlib-metadata->jsonpickle->pm4py) (3.10.0.2)\n",
            "Requirement already satisfied: kiwisolver>=1.0.1 in /usr/local/lib/python3.7/dist-packages (from matplotlib->pm4py) (1.3.2)\n",
            "Requirement already satisfied: cycler>=0.10 in /usr/local/lib/python3.7/dist-packages (from matplotlib->pm4py) (0.11.0)\n",
            "Requirement already satisfied: pyparsing!=2.0.4,!=2.1.2,!=2.1.6,>=2.0.1 in /usr/local/lib/python3.7/dist-packages (from matplotlib->pm4py) (3.0.7)\n",
            "Requirement already satisfied: ipython>=5.3.0 in /usr/local/lib/python3.7/dist-packages (from pyvis->pm4py) (5.5.0)\n",
            "Requirement already satisfied: jinja2>=2.9.6 in /usr/local/lib/python3.7/dist-packages (from pyvis->pm4py) (2.11.3)\n",
            "Requirement already satisfied: pygments in /usr/local/lib/python3.7/dist-packages (from ipython>=5.3.0->pyvis->pm4py) (2.6.1)\n",
            "Requirement already satisfied: decorator in /usr/local/lib/python3.7/dist-packages (from ipython>=5.3.0->pyvis->pm4py) (4.4.2)\n",
            "Requirement already satisfied: simplegeneric>0.8 in /usr/local/lib/python3.7/dist-packages (from ipython>=5.3.0->pyvis->pm4py) (0.8.1)\n",
            "Requirement already satisfied: traitlets>=4.2 in /usr/local/lib/python3.7/dist-packages (from ipython>=5.3.0->pyvis->pm4py) (5.1.1)\n",
            "Requirement already satisfied: pexpect in /usr/local/lib/python3.7/dist-packages (from ipython>=5.3.0->pyvis->pm4py) (4.8.0)\n",
            "Requirement already satisfied: prompt-toolkit<2.0.0,>=1.0.4 in /usr/local/lib/python3.7/dist-packages (from ipython>=5.3.0->pyvis->pm4py) (1.0.18)\n",
            "Requirement already satisfied: setuptools>=18.5 in /usr/local/lib/python3.7/dist-packages (from ipython>=5.3.0->pyvis->pm4py) (57.4.0)\n",
            "Requirement already satisfied: pickleshare in /usr/local/lib/python3.7/dist-packages (from ipython>=5.3.0->pyvis->pm4py) (0.7.5)\n",
            "Requirement already satisfied: MarkupSafe>=0.23 in /usr/local/lib/python3.7/dist-packages (from jinja2>=2.9.6->pyvis->pm4py) (2.0.1)\n",
            "Requirement already satisfied: wcwidth in /usr/local/lib/python3.7/dist-packages (from prompt-toolkit<2.0.0,>=1.0.4->ipython>=5.3.0->pyvis->pm4py) (0.2.5)\n",
            "Requirement already satisfied: ptyprocess>=0.5 in /usr/local/lib/python3.7/dist-packages (from pexpect->ipython>=5.3.0->pyvis->pm4py) (0.7.0)\n",
            "Requirement already satisfied: mpmath>=0.19 in /usr/local/lib/python3.7/dist-packages (from sympy->pm4py) (1.2.1)\n"
          ]
        }
      ]
    },
    {
      "cell_type": "code",
      "execution_count": null,
      "metadata": {
        "id": "nF-fIksyHVwp"
      },
      "outputs": [],
      "source": [
        "from google.colab import drive\n",
        "# drive.mount('/content/drive')"
      ]
    },
    {
      "cell_type": "code",
      "source": [
        "import gzip\n",
        "import io\n",
        "import pandas as pd\n",
        "import re"
      ],
      "metadata": {
        "id": "AEQhnEysJvRI"
      },
      "execution_count": null,
      "outputs": []
    },
    {
      "cell_type": "code",
      "source": [
        "import pm4py"
      ],
      "metadata": {
        "id": "s907__w_AMG4"
      },
      "execution_count": null,
      "outputs": []
    },
    {
      "cell_type": "code",
      "source": [
        "file2 = '/content/event-log.xes.gz'\n",
        "file = '/content/BPI_Challenge_2012.xes.gz'\n",
        "testfile = '/content/running-example.xes'"
      ],
      "metadata": {
        "id": "y4HyWGNtLhqJ"
      },
      "execution_count": null,
      "outputs": []
    },
    {
      "cell_type": "code",
      "source": [
        "log = pm4py.read_xes(file)\n",
        "df = pm4py.convert_to_dataframe(log)\n",
        "# df"
      ],
      "metadata": {
        "colab": {
          "base_uri": "https://localhost:8080/",
          "height": 49,
          "referenced_widgets": [
            "f19e0378ab9d4fb78b718b1807a9dad7",
            "434a6f8370c949a48482f9097196d62e",
            "bf9614becfe24360b1d3686fcc112118",
            "cc55e170998046b1802c1f8dfb7dab75",
            "46a84e0cd3d841f4bc07f5c65ce0c62a",
            "1fe97e6dbc4b49969e544bd6c946ffdb",
            "b19bc59590bc412c9eef86113a40cd23",
            "1e933266def7437a8ed9052bcddadd7a",
            "334f5320ed5e49c79c4e36b64f724e83",
            "b0aec01bd9534188bbb0630d5b06e46f",
            "1f471a0bef2142aa8899527bb9f4b437"
          ]
        },
        "id": "cXHch9VIEGPD",
        "outputId": "fcffcabc-adea-43de-d1a5-c5e08e729cfd"
      },
      "execution_count": null,
      "outputs": [
        {
          "output_type": "display_data",
          "data": {
            "application/vnd.jupyter.widget-view+json": {
              "model_id": "f19e0378ab9d4fb78b718b1807a9dad7",
              "version_minor": 0,
              "version_major": 2
            },
            "text/plain": [
              "parsing log, completed traces ::   0%|          | 0/13087 [00:00<?, ?it/s]"
            ]
          },
          "metadata": {}
        }
      ]
    },
    {
      "cell_type": "code",
      "source": [
        "from sklearn.model_selection import train_test_split\n",
        "from sklearn.ensemble import RandomForestRegressor\n",
        "import numpy as np"
      ],
      "metadata": {
        "id": "ayyfPufteQ3U"
      },
      "execution_count": null,
      "outputs": []
    },
    {
      "cell_type": "code",
      "source": [
        "df2 = df.copy()"
      ],
      "metadata": {
        "id": "tmVJF1XTkTmu"
      },
      "execution_count": null,
      "outputs": []
    },
    {
      "cell_type": "code",
      "source": [
        "dictname = {'A_ACCEPTED': 0, 'A_ACTIVATED': 1, 'A_APPROVED': 2, 'A_CANCELLED': 3, 'A_DECLINED': 4, 'A_FINALIZED': 5, 'A_PARTLYSUBMITTED': 6, 'A_PREACCEPTED': 7, 'A_REGISTERED': 8,'A_SUBMITTED': 9, 'O_ACCEPTED': 10, 'O_CANCELLED': 11, 'O_CREATED': 12, 'O_DECLINED': 13, 'O_SELECTED': 14, 'O_SENT': 15, 'O_SENT_BACK': 16, 'W_Afhandelen leads': 17, 'W_Beoordelen fraude': 18, 'W_Completeren aanvraag': 19,'W_Nabellen incomplete dossiers': 20, 'W_Nabellen offertes': 21, 'W_Valideren aanvraag': 22, 'W_Wijzigen contractgegevens': 23}"
      ],
      "metadata": {
        "id": "59VBkZ_Fq59n"
      },
      "execution_count": null,
      "outputs": []
    },
    {
      "cell_type": "code",
      "source": [
        "df2 = df2.fillna(0)\n",
        "df2 = df2.replace({'COMPLETE': 2, 'SCHEDULE': 1, 'START': 0})\n",
        "df2 = df2.replace(dictname)"
      ],
      "metadata": {
        "id": "je2pxzj3quzS"
      },
      "execution_count": null,
      "outputs": []
    },
    {
      "cell_type": "code",
      "source": [
        "df2"
      ],
      "metadata": {
        "colab": {
          "base_uri": "https://localhost:8080/",
          "height": 424
        },
        "id": "7NGbMymur3Vl",
        "outputId": "a65fe741-681d-4a7e-b98c-ddd1fbdc207b"
      },
      "execution_count": null,
      "outputs": [
        {
          "output_type": "execute_result",
          "data": {
            "text/html": [
              "\n",
              "  <div id=\"df-85564a0c-59ca-4eac-add9-8adf0432319d\">\n",
              "    <div class=\"colab-df-container\">\n",
              "      <div>\n",
              "<style scoped>\n",
              "    .dataframe tbody tr th:only-of-type {\n",
              "        vertical-align: middle;\n",
              "    }\n",
              "\n",
              "    .dataframe tbody tr th {\n",
              "        vertical-align: top;\n",
              "    }\n",
              "\n",
              "    .dataframe thead th {\n",
              "        text-align: right;\n",
              "    }\n",
              "</style>\n",
              "<table border=\"1\" class=\"dataframe\">\n",
              "  <thead>\n",
              "    <tr style=\"text-align: right;\">\n",
              "      <th></th>\n",
              "      <th>org:resource</th>\n",
              "      <th>lifecycle:transition</th>\n",
              "      <th>concept:name</th>\n",
              "      <th>time:timestamp</th>\n",
              "      <th>case:REG_DATE</th>\n",
              "      <th>case:concept:name</th>\n",
              "      <th>case:AMOUNT_REQ</th>\n",
              "    </tr>\n",
              "  </thead>\n",
              "  <tbody>\n",
              "    <tr>\n",
              "      <th>0</th>\n",
              "      <td>112</td>\n",
              "      <td>2</td>\n",
              "      <td>9</td>\n",
              "      <td>2011-10-01 00:38:44.546000+02:00</td>\n",
              "      <td>2011-10-01 00:38:44.546000+02:00</td>\n",
              "      <td>173688</td>\n",
              "      <td>20000</td>\n",
              "    </tr>\n",
              "    <tr>\n",
              "      <th>1</th>\n",
              "      <td>112</td>\n",
              "      <td>2</td>\n",
              "      <td>6</td>\n",
              "      <td>2011-10-01 00:38:44.880000+02:00</td>\n",
              "      <td>2011-10-01 00:38:44.546000+02:00</td>\n",
              "      <td>173688</td>\n",
              "      <td>20000</td>\n",
              "    </tr>\n",
              "    <tr>\n",
              "      <th>2</th>\n",
              "      <td>112</td>\n",
              "      <td>2</td>\n",
              "      <td>7</td>\n",
              "      <td>2011-10-01 00:39:37.906000+02:00</td>\n",
              "      <td>2011-10-01 00:38:44.546000+02:00</td>\n",
              "      <td>173688</td>\n",
              "      <td>20000</td>\n",
              "    </tr>\n",
              "    <tr>\n",
              "      <th>3</th>\n",
              "      <td>112</td>\n",
              "      <td>1</td>\n",
              "      <td>19</td>\n",
              "      <td>2011-10-01 00:39:38.875000+02:00</td>\n",
              "      <td>2011-10-01 00:38:44.546000+02:00</td>\n",
              "      <td>173688</td>\n",
              "      <td>20000</td>\n",
              "    </tr>\n",
              "    <tr>\n",
              "      <th>4</th>\n",
              "      <td>0</td>\n",
              "      <td>0</td>\n",
              "      <td>19</td>\n",
              "      <td>2011-10-01 11:36:46.437000+02:00</td>\n",
              "      <td>2011-10-01 00:38:44.546000+02:00</td>\n",
              "      <td>173688</td>\n",
              "      <td>20000</td>\n",
              "    </tr>\n",
              "    <tr>\n",
              "      <th>...</th>\n",
              "      <td>...</td>\n",
              "      <td>...</td>\n",
              "      <td>...</td>\n",
              "      <td>...</td>\n",
              "      <td>...</td>\n",
              "      <td>...</td>\n",
              "      <td>...</td>\n",
              "    </tr>\n",
              "    <tr>\n",
              "      <th>262195</th>\n",
              "      <td>112</td>\n",
              "      <td>2</td>\n",
              "      <td>6</td>\n",
              "      <td>2012-02-29 23:51:17.423000+01:00</td>\n",
              "      <td>2012-02-29 23:51:16.799000+01:00</td>\n",
              "      <td>214376</td>\n",
              "      <td>15000</td>\n",
              "    </tr>\n",
              "    <tr>\n",
              "      <th>262196</th>\n",
              "      <td>112</td>\n",
              "      <td>1</td>\n",
              "      <td>17</td>\n",
              "      <td>2012-02-29 23:52:01.287000+01:00</td>\n",
              "      <td>2012-02-29 23:51:16.799000+01:00</td>\n",
              "      <td>214376</td>\n",
              "      <td>15000</td>\n",
              "    </tr>\n",
              "    <tr>\n",
              "      <th>262197</th>\n",
              "      <td>11169</td>\n",
              "      <td>0</td>\n",
              "      <td>17</td>\n",
              "      <td>2012-03-01 09:26:46.736000+01:00</td>\n",
              "      <td>2012-02-29 23:51:16.799000+01:00</td>\n",
              "      <td>214376</td>\n",
              "      <td>15000</td>\n",
              "    </tr>\n",
              "    <tr>\n",
              "      <th>262198</th>\n",
              "      <td>11169</td>\n",
              "      <td>2</td>\n",
              "      <td>4</td>\n",
              "      <td>2012-03-01 09:27:37.118000+01:00</td>\n",
              "      <td>2012-02-29 23:51:16.799000+01:00</td>\n",
              "      <td>214376</td>\n",
              "      <td>15000</td>\n",
              "    </tr>\n",
              "    <tr>\n",
              "      <th>262199</th>\n",
              "      <td>11169</td>\n",
              "      <td>2</td>\n",
              "      <td>17</td>\n",
              "      <td>2012-03-01 09:27:41.325000+01:00</td>\n",
              "      <td>2012-02-29 23:51:16.799000+01:00</td>\n",
              "      <td>214376</td>\n",
              "      <td>15000</td>\n",
              "    </tr>\n",
              "  </tbody>\n",
              "</table>\n",
              "<p>262200 rows × 7 columns</p>\n",
              "</div>\n",
              "      <button class=\"colab-df-convert\" onclick=\"convertToInteractive('df-85564a0c-59ca-4eac-add9-8adf0432319d')\"\n",
              "              title=\"Convert this dataframe to an interactive table.\"\n",
              "              style=\"display:none;\">\n",
              "        \n",
              "  <svg xmlns=\"http://www.w3.org/2000/svg\" height=\"24px\"viewBox=\"0 0 24 24\"\n",
              "       width=\"24px\">\n",
              "    <path d=\"M0 0h24v24H0V0z\" fill=\"none\"/>\n",
              "    <path d=\"M18.56 5.44l.94 2.06.94-2.06 2.06-.94-2.06-.94-.94-2.06-.94 2.06-2.06.94zm-11 1L8.5 8.5l.94-2.06 2.06-.94-2.06-.94L8.5 2.5l-.94 2.06-2.06.94zm10 10l.94 2.06.94-2.06 2.06-.94-2.06-.94-.94-2.06-.94 2.06-2.06.94z\"/><path d=\"M17.41 7.96l-1.37-1.37c-.4-.4-.92-.59-1.43-.59-.52 0-1.04.2-1.43.59L10.3 9.45l-7.72 7.72c-.78.78-.78 2.05 0 2.83L4 21.41c.39.39.9.59 1.41.59.51 0 1.02-.2 1.41-.59l7.78-7.78 2.81-2.81c.8-.78.8-2.07 0-2.86zM5.41 20L4 18.59l7.72-7.72 1.47 1.35L5.41 20z\"/>\n",
              "  </svg>\n",
              "      </button>\n",
              "      \n",
              "  <style>\n",
              "    .colab-df-container {\n",
              "      display:flex;\n",
              "      flex-wrap:wrap;\n",
              "      gap: 12px;\n",
              "    }\n",
              "\n",
              "    .colab-df-convert {\n",
              "      background-color: #E8F0FE;\n",
              "      border: none;\n",
              "      border-radius: 50%;\n",
              "      cursor: pointer;\n",
              "      display: none;\n",
              "      fill: #1967D2;\n",
              "      height: 32px;\n",
              "      padding: 0 0 0 0;\n",
              "      width: 32px;\n",
              "    }\n",
              "\n",
              "    .colab-df-convert:hover {\n",
              "      background-color: #E2EBFA;\n",
              "      box-shadow: 0px 1px 2px rgba(60, 64, 67, 0.3), 0px 1px 3px 1px rgba(60, 64, 67, 0.15);\n",
              "      fill: #174EA6;\n",
              "    }\n",
              "\n",
              "    [theme=dark] .colab-df-convert {\n",
              "      background-color: #3B4455;\n",
              "      fill: #D2E3FC;\n",
              "    }\n",
              "\n",
              "    [theme=dark] .colab-df-convert:hover {\n",
              "      background-color: #434B5C;\n",
              "      box-shadow: 0px 1px 3px 1px rgba(0, 0, 0, 0.15);\n",
              "      filter: drop-shadow(0px 1px 2px rgba(0, 0, 0, 0.3));\n",
              "      fill: #FFFFFF;\n",
              "    }\n",
              "  </style>\n",
              "\n",
              "      <script>\n",
              "        const buttonEl =\n",
              "          document.querySelector('#df-85564a0c-59ca-4eac-add9-8adf0432319d button.colab-df-convert');\n",
              "        buttonEl.style.display =\n",
              "          google.colab.kernel.accessAllowed ? 'block' : 'none';\n",
              "\n",
              "        async function convertToInteractive(key) {\n",
              "          const element = document.querySelector('#df-85564a0c-59ca-4eac-add9-8adf0432319d');\n",
              "          const dataTable =\n",
              "            await google.colab.kernel.invokeFunction('convertToInteractive',\n",
              "                                                     [key], {});\n",
              "          if (!dataTable) return;\n",
              "\n",
              "          const docLinkHtml = 'Like what you see? Visit the ' +\n",
              "            '<a target=\"_blank\" href=https://colab.research.google.com/notebooks/data_table.ipynb>data table notebook</a>'\n",
              "            + ' to learn more about interactive tables.';\n",
              "          element.innerHTML = '';\n",
              "          dataTable['output_type'] = 'display_data';\n",
              "          await google.colab.output.renderOutput(dataTable, element);\n",
              "          const docLink = document.createElement('div');\n",
              "          docLink.innerHTML = docLinkHtml;\n",
              "          element.appendChild(docLink);\n",
              "        }\n",
              "      </script>\n",
              "    </div>\n",
              "  </div>\n",
              "  "
            ],
            "text/plain": [
              "       org:resource  lifecycle:transition  ...  case:concept:name case:AMOUNT_REQ\n",
              "0               112                     2  ...             173688           20000\n",
              "1               112                     2  ...             173688           20000\n",
              "2               112                     2  ...             173688           20000\n",
              "3               112                     1  ...             173688           20000\n",
              "4                 0                     0  ...             173688           20000\n",
              "...             ...                   ...  ...                ...             ...\n",
              "262195          112                     2  ...             214376           15000\n",
              "262196          112                     1  ...             214376           15000\n",
              "262197        11169                     0  ...             214376           15000\n",
              "262198        11169                     2  ...             214376           15000\n",
              "262199        11169                     2  ...             214376           15000\n",
              "\n",
              "[262200 rows x 7 columns]"
            ]
          },
          "metadata": {},
          "execution_count": 24
        }
      ]
    },
    {
      "cell_type": "code",
      "source": [
        "cases = list(set(df2['case:concept:name']))\n",
        "train_cases = cases[:int(0.75*len(cases))]\n",
        "test_cases = cases[int(0.75*len(cases)):]\n",
        "len(cases), len(train_cases)+ len(test_cases), len(train_cases), len(test_cases), train_cases[-1], test_cases[0]"
      ],
      "metadata": {
        "colab": {
          "base_uri": "https://localhost:8080/"
        },
        "id": "dXktfPS3lPh5",
        "outputId": "4bbade6c-543b-42b7-b549-c7a5f9fd3587"
      },
      "execution_count": null,
      "outputs": [
        {
          "output_type": "execute_result",
          "data": {
            "text/plain": [
              "(13087, 13087, 9815, 3272, '177938', '191797')"
            ]
          },
          "metadata": {},
          "execution_count": 25
        }
      ]
    },
    {
      "cell_type": "code",
      "source": [
        "df3 = df2.copy()\n",
        "# df3 = df3.drop('case:REG_DATE', axis = 1)"
      ],
      "metadata": {
        "id": "XKCcre_ktDb3"
      },
      "execution_count": null,
      "outputs": []
    },
    {
      "cell_type": "code",
      "source": [
        "df3['time:timestamp'] = pd.to_datetime(df3['time:timestamp'], utc = True).astype(int) #/ 10**9\n",
        "df3['case:REG_DATE'] = pd.to_datetime(df3['case:REG_DATE'], utc = True).astype(int) #/ 10**9"
      ],
      "metadata": {
        "colab": {
          "base_uri": "https://localhost:8080/"
        },
        "id": "KVqujVL5tmXq",
        "outputId": "271a514d-5ee4-4df5-8009-83327b7fb767"
      },
      "execution_count": null,
      "outputs": [
        {
          "output_type": "stream",
          "name": "stderr",
          "text": [
            "/usr/local/lib/python3.7/dist-packages/ipykernel_launcher.py:1: FutureWarning: casting datetime64[ns, UTC] values to int64 with .astype(...) is deprecated and will raise in a future version. Use .view(...) instead.\n",
            "  \"\"\"Entry point for launching an IPython kernel.\n",
            "/usr/local/lib/python3.7/dist-packages/ipykernel_launcher.py:2: FutureWarning: casting datetime64[ns, UTC] values to int64 with .astype(...) is deprecated and will raise in a future version. Use .view(...) instead.\n",
            "  \n"
          ]
        }
      ]
    },
    {
      "cell_type": "code",
      "source": [
        "float(df3[:1]['time:timestamp'])"
      ],
      "metadata": {
        "colab": {
          "base_uri": "https://localhost:8080/"
        },
        "id": "siLp4EtWvaHV",
        "outputId": "ade045bc-cbe6-48ce-e850-49e5d3270f1d"
      },
      "execution_count": null,
      "outputs": [
        {
          "output_type": "execute_result",
          "data": {
            "text/plain": [
              "1317422324.5459998"
            ]
          },
          "metadata": {},
          "execution_count": 63
        }
      ]
    },
    {
      "cell_type": "code",
      "source": [
        "df_test, df_train = [x for _, x in df3.groupby(df3['case:concept:name'].isin(train_cases))]"
      ],
      "metadata": {
        "id": "sx_aikEimXYT"
      },
      "execution_count": null,
      "outputs": []
    },
    {
      "cell_type": "code",
      "source": [
        "len(list(set(df_test['case:concept:name']))), len(list(set(df_train['case:concept:name'])))"
      ],
      "metadata": {
        "colab": {
          "base_uri": "https://localhost:8080/"
        },
        "id": "i3t2wdgWnUS2",
        "outputId": "0a2da484-354a-4a9c-e10f-9b716ce11d21"
      },
      "execution_count": null,
      "outputs": [
        {
          "output_type": "execute_result",
          "data": {
            "text/plain": [
              "(3272, 9815)"
            ]
          },
          "metadata": {},
          "execution_count": 65
        }
      ]
    },
    {
      "cell_type": "code",
      "source": [
        "train_labels = np.array(df_train['time:timestamp'])\n",
        "test_labels = np.array(df_test['time:timestamp'])"
      ],
      "metadata": {
        "id": "NKXActVphAtv"
      },
      "execution_count": null,
      "outputs": []
    },
    {
      "cell_type": "code",
      "source": [
        "train_features = df_train.drop('time:timestamp', axis = 1)\n",
        "test_features = df_test.drop('time:timestamp', axis = 1)"
      ],
      "metadata": {
        "id": "OlldUjReoDGy"
      },
      "execution_count": null,
      "outputs": []
    },
    {
      "cell_type": "code",
      "source": [
        "train_features = np.array(train_features)\n",
        "test_features = np.array(test_features)"
      ],
      "metadata": {
        "id": "4vdMgGTvgRVt"
      },
      "execution_count": null,
      "outputs": []
    },
    {
      "cell_type": "code",
      "source": [
        "# feature_list = list(features.columns)\n",
        "# features = np.array(features)"
      ],
      "metadata": {
        "id": "CDD4yFpygm-3"
      },
      "execution_count": null,
      "outputs": []
    },
    {
      "cell_type": "code",
      "source": [
        "print('Training Features Shape:', train_features.shape)\n",
        "print('Training Labels Shape:', train_labels.shape)\n",
        "print('Testing Features Shape:', test_features.shape)\n",
        "print('Testing Labels Shape:', test_labels.shape)"
      ],
      "metadata": {
        "colab": {
          "base_uri": "https://localhost:8080/"
        },
        "id": "3eE05XIEhi9q",
        "outputId": "056299c1-3cdf-44d5-f61f-b8544ec994fd"
      },
      "execution_count": null,
      "outputs": [
        {
          "output_type": "stream",
          "name": "stdout",
          "text": [
            "Training Features Shape: (197954, 5)\n",
            "Training Labels Shape: (197954,)\n",
            "Testing Features Shape: (64246, 5)\n",
            "Testing Labels Shape: (64246,)\n"
          ]
        }
      ]
    },
    {
      "cell_type": "code",
      "source": [
        "# Instantiate model with 1000 decision trees\n",
        "rf = RandomForestRegressor(n_estimators = 100, random_state = 42)\n",
        "# Train the model on training data\n",
        "rf.fit(train_features, train_labels);"
      ],
      "metadata": {
        "id": "HEUzb-tYhuup"
      },
      "execution_count": null,
      "outputs": []
    },
    {
      "cell_type": "code",
      "source": [
        "# Use the forest's predict method on the test data\n",
        "predictions = rf.predict(test_features)\n",
        "# Calculate the absolute errors\n",
        "errors = abs(predictions - test_labels)\n",
        "# Print out the mean absolute error (mae)\n",
        "print('Mean Absolute Error:', round(np.mean(errors), 2), 'degrees.')"
      ],
      "metadata": {
        "colab": {
          "base_uri": "https://localhost:8080/"
        },
        "id": "rKS-bqy8pDSn",
        "outputId": "f6d8d75f-b5f7-4213-da3b-0c82d3919ba9"
      },
      "execution_count": null,
      "outputs": [
        {
          "output_type": "stream",
          "name": "stdout",
          "text": [
            "Mean Absolute Error: 375147.17 degrees.\n"
          ]
        }
      ]
    },
    {
      "cell_type": "code",
      "source": [
        "# Calculate mean absolute percentage error (MAPE)\n",
        "mape = 100 * (errors / test_labels)\n",
        "# Calculate and display accuracy\n",
        "accuracy = 100 - np.mean(mape)\n",
        "print('Accuracy:', round(accuracy, 2), '%.')"
      ],
      "metadata": {
        "colab": {
          "base_uri": "https://localhost:8080/"
        },
        "id": "BpNibAQIwSUN",
        "outputId": "fe386a21-3de4-452c-f195-e995dacce3bc"
      },
      "execution_count": null,
      "outputs": [
        {
          "output_type": "stream",
          "name": "stdout",
          "text": [
            "Accuracy: 99.97 %.\n"
          ]
        }
      ]
    },
    {
      "cell_type": "code",
      "source": [
        "predictions, test_labels"
      ],
      "metadata": {
        "colab": {
          "base_uri": "https://localhost:8080/"
        },
        "id": "svNuiX2XwW4_",
        "outputId": "615d23d0-837b-4742-d12b-233d924f9b69"
      },
      "execution_count": null,
      "outputs": [
        {
          "output_type": "execute_result",
          "data": {
            "text/plain": [
              "(array([1.31745195e+09, 1.31745194e+09, 1.31745194e+09, ...,\n",
              "        1.33096486e+09, 1.33123698e+09, 1.33125211e+09]),\n",
              " array([1.31744947e+09, 1.31744947e+09, 1.31744951e+09, ...,\n",
              "        1.33062976e+09, 1.33137998e+09, 1.33138025e+09]))"
            ]
          },
          "metadata": {},
          "execution_count": 81
        }
      ]
    },
    {
      "cell_type": "code",
      "source": [
        "test_features"
      ],
      "metadata": {
        "colab": {
          "base_uri": "https://localhost:8080/"
        },
        "id": "AV7VoiA_wz-1",
        "outputId": "a80998dd-e2b5-450e-cc51-ab96f98e91e7"
      },
      "execution_count": null,
      "outputs": [
        {
          "output_type": "execute_result",
          "data": {
            "text/plain": [
              "array([['112', 2, 9, '173697', '15000'],\n",
              "       ['112', 2, 6, '173697', '15000'],\n",
              "       ['112', 2, 4, '173697', '15000'],\n",
              "       ...,\n",
              "       ['10933', 2, 19, '214373', '8500'],\n",
              "       ['11119', 0, 21, '214373', '8500'],\n",
              "       ['11119', 2, 21, '214373', '8500']], dtype=object)"
            ]
          },
          "metadata": {},
          "execution_count": 75
        }
      ]
    },
    {
      "cell_type": "code",
      "source": [
        "train_labels2 = np.array(df_train[['lifecycle:transition',\t'concept:name']])\n",
        "test_labels2 = np.array(df_test[['lifecycle:transition',\t'concept:name']])"
      ],
      "metadata": {
        "id": "1Lyio3kbp6gJ"
      },
      "execution_count": null,
      "outputs": []
    },
    {
      "cell_type": "code",
      "source": [
        "train_features2 = df_train.drop(['lifecycle:transition',\t'concept:name'], axis = 1)\n",
        "test_features2 = df_test.drop(['lifecycle:transition',\t'concept:name'], axis = 1)"
      ],
      "metadata": {
        "id": "q3d93WDb1c6D"
      },
      "execution_count": null,
      "outputs": []
    },
    {
      "cell_type": "code",
      "source": [
        "train_features2 = np.array(train_features2)\n",
        "test_features2 = np.array(test_features2)"
      ],
      "metadata": {
        "id": "gMb-5oQh1i2R"
      },
      "execution_count": null,
      "outputs": []
    },
    {
      "cell_type": "code",
      "source": [
        "print('Training Features Shape:', train_features2.shape)\n",
        "print('Training Labels Shape:', train_labels2.shape)\n",
        "print('Testing Features Shape:', test_features2.shape)\n",
        "print('Testing Labels Shape:', test_labels2.shape)"
      ],
      "metadata": {
        "colab": {
          "base_uri": "https://localhost:8080/"
        },
        "id": "lwgtL7Mw1mBX",
        "outputId": "0cb26737-000c-4bf8-9c1f-d00d6b4e139f"
      },
      "execution_count": null,
      "outputs": [
        {
          "output_type": "stream",
          "name": "stdout",
          "text": [
            "Training Features Shape: (197954, 5)\n",
            "Training Labels Shape: (197954, 2)\n",
            "Testing Features Shape: (64246, 5)\n",
            "Testing Labels Shape: (64246, 2)\n"
          ]
        }
      ]
    },
    {
      "cell_type": "code",
      "source": [
        "# Instantiate model with 1000 decision trees\n",
        "rf2 = RandomForestRegressor(n_estimators = 100, random_state = 42)\n",
        "# Train the model on training data\n",
        "rf2.fit(train_features2, train_labels2);"
      ],
      "metadata": {
        "id": "TAStIFkS1rqi"
      },
      "execution_count": null,
      "outputs": []
    },
    {
      "cell_type": "code",
      "source": [
        "# Use the forest's predict method on the test data\n",
        "predictions2 = rf2.predict(test_features2)\n",
        "# Calculate the absolute errors\n",
        "errors2 = abs(predictions2 - test_labels2)\n",
        "# Print out the mean absolute error (mae)\n",
        "print('Mean Absolute Error:', round(np.mean(errors), 2), 'degrees.')"
      ],
      "metadata": {
        "colab": {
          "base_uri": "https://localhost:8080/"
        },
        "id": "1Pl2OmLQ1tPl",
        "outputId": "557437a2-6b33-4bb7-aa37-c4c129ff9f17"
      },
      "execution_count": null,
      "outputs": [
        {
          "output_type": "stream",
          "name": "stdout",
          "text": [
            "Mean Absolute Error: 375147.17 degrees.\n"
          ]
        }
      ]
    },
    {
      "cell_type": "code",
      "source": [
        "# Calculate mean absolute percentage error (MAPE)\n",
        "mape2 = 100 * (errors2[0] / test_labels2[0])\n",
        "mape3 = 100 * (errors2[1] / test_labels2[1])\n",
        "# Calculate and display accuracy\n",
        "accuracy2 = 100 - np.mean(mape2)\n",
        "accuracy3 = 100 - np.mean(mape3)\n",
        "print('Accuracy:', round(accuracy2, 2), '%.')\n",
        "print('Accuracy:', round(accuracy3, 2), '%.')"
      ],
      "metadata": {
        "colab": {
          "base_uri": "https://localhost:8080/"
        },
        "id": "mOAL56PS1tSA",
        "outputId": "d8e7d6e0-5179-4247-ce4c-1d028c0c9ea0"
      },
      "execution_count": null,
      "outputs": [
        {
          "output_type": "stream",
          "name": "stdout",
          "text": [
            "Accuracy: 92.69 %.\n",
            "Accuracy: 66.37 %.\n"
          ]
        }
      ]
    },
    {
      "cell_type": "code",
      "source": [
        "predictions2, test_labels2"
      ],
      "metadata": {
        "colab": {
          "base_uri": "https://localhost:8080/"
        },
        "id": "pEOGZBjpwnOW",
        "outputId": "595bad7f-9c2c-454f-f63a-6f5c76c74b7c"
      },
      "execution_count": null,
      "outputs": [
        {
          "output_type": "execute_result",
          "data": {
            "text/plain": [
              "(array([[ 1.81315079,  9.47467857],\n",
              "        [ 1.81315079,  9.47467857],\n",
              "        [ 1.81315079,  9.47467857],\n",
              "        ...,\n",
              "        [ 1.51022619, 17.41867857],\n",
              "        [ 1.52441667, 20.47841667],\n",
              "        [ 1.52441667, 20.47841667]]), array([[ 2,  9],\n",
              "        [ 2,  6],\n",
              "        [ 2,  4],\n",
              "        ...,\n",
              "        [ 2, 19],\n",
              "        [ 0, 21],\n",
              "        [ 2, 21]]))"
            ]
          },
          "metadata": {},
          "execution_count": 120
        }
      ]
    },
    {
      "cell_type": "code",
      "source": [
        "df_show = pd.DataFrame()\n",
        "df_show = pd.concat([df_show, pd.DataFrame(test_features)], axis=1)\n",
        "df_show = pd.concat([df_show, pd.DataFrame(test_labels)], axis=1)\n",
        "df_show = pd.concat([df_show, pd.DataFrame(predictions)], axis=1)\n",
        "df_show = pd.concat([df_show, pd.DataFrame(predictions2)], axis=1)"
      ],
      "metadata": {
        "id": "wdWTS9NBx8dN"
      },
      "execution_count": null,
      "outputs": []
    },
    {
      "cell_type": "code",
      "source": [
        "df_show.columns = ['org:resource', 'lifecycle:transition', 'concept:name',\n",
        "       'case:concept:name', 'case:AMOUNT_REQ', 'time:timestamp', 'prediction_timestamp', 'pred_lifecycle', 'pred_concept:name']"
      ],
      "metadata": {
        "id": "c40dSJKSyAcl"
      },
      "execution_count": null,
      "outputs": []
    },
    {
      "cell_type": "code",
      "source": [
        "df_show['time:timestamp'] = pd.to_datetime(df_show['time:timestamp']* 10**9, utc = True)\n",
        "df_show['prediction_timestamp'] = pd.to_datetime(df_show['prediction_timestamp']* 10**9, utc = True)"
      ],
      "metadata": {
        "id": "ZTw2DS1uyBcd"
      },
      "execution_count": null,
      "outputs": []
    },
    {
      "cell_type": "code",
      "source": [
        "df_show['difference'] = df_show['prediction_timestamp'] - df_show['time:timestamp']"
      ],
      "metadata": {
        "id": "NKNc3PjvyuV1"
      },
      "execution_count": null,
      "outputs": []
    },
    {
      "cell_type": "code",
      "source": [
        "df_show"
      ],
      "metadata": {
        "colab": {
          "base_uri": "https://localhost:8080/",
          "height": 661
        },
        "id": "8KbQF7o4yfiV",
        "outputId": "0d6ad952-4ace-4c86-a38b-8fc0a71cb697"
      },
      "execution_count": null,
      "outputs": [
        {
          "output_type": "execute_result",
          "data": {
            "text/html": [
              "\n",
              "  <div id=\"df-7d4c763e-7f8c-4e2b-b7a4-880a2143a8a0\">\n",
              "    <div class=\"colab-df-container\">\n",
              "      <div>\n",
              "<style scoped>\n",
              "    .dataframe tbody tr th:only-of-type {\n",
              "        vertical-align: middle;\n",
              "    }\n",
              "\n",
              "    .dataframe tbody tr th {\n",
              "        vertical-align: top;\n",
              "    }\n",
              "\n",
              "    .dataframe thead th {\n",
              "        text-align: right;\n",
              "    }\n",
              "</style>\n",
              "<table border=\"1\" class=\"dataframe\">\n",
              "  <thead>\n",
              "    <tr style=\"text-align: right;\">\n",
              "      <th></th>\n",
              "      <th>org:resource</th>\n",
              "      <th>lifecycle:transition</th>\n",
              "      <th>concept:name</th>\n",
              "      <th>case:concept:name</th>\n",
              "      <th>case:AMOUNT_REQ</th>\n",
              "      <th>time:timestamp</th>\n",
              "      <th>prediction_timestamp</th>\n",
              "      <th>pred_lifecycle</th>\n",
              "      <th>pred_concept:name</th>\n",
              "      <th>difference</th>\n",
              "    </tr>\n",
              "  </thead>\n",
              "  <tbody>\n",
              "    <tr>\n",
              "      <th>0</th>\n",
              "      <td>112</td>\n",
              "      <td>2</td>\n",
              "      <td>9</td>\n",
              "      <td>173697</td>\n",
              "      <td>15000</td>\n",
              "      <td>2011-10-01 06:11:08.865999872+00:00</td>\n",
              "      <td>2011-10-01 06:52:25.813901056+00:00</td>\n",
              "      <td>1.813151</td>\n",
              "      <td>9.474679</td>\n",
              "      <td>0 days 00:41:16.947901184</td>\n",
              "    </tr>\n",
              "    <tr>\n",
              "      <th>1</th>\n",
              "      <td>112</td>\n",
              "      <td>2</td>\n",
              "      <td>6</td>\n",
              "      <td>173697</td>\n",
              "      <td>15000</td>\n",
              "      <td>2011-10-01 06:11:09.035000064+00:00</td>\n",
              "      <td>2011-10-01 06:52:22.713580288+00:00</td>\n",
              "      <td>1.813151</td>\n",
              "      <td>9.474679</td>\n",
              "      <td>0 days 00:41:13.678580224</td>\n",
              "    </tr>\n",
              "    <tr>\n",
              "      <th>2</th>\n",
              "      <td>112</td>\n",
              "      <td>2</td>\n",
              "      <td>4</td>\n",
              "      <td>173697</td>\n",
              "      <td>15000</td>\n",
              "      <td>2011-10-01 06:11:46.420000+00:00</td>\n",
              "      <td>2011-10-01 06:52:22.713580288+00:00</td>\n",
              "      <td>1.813151</td>\n",
              "      <td>9.474679</td>\n",
              "      <td>0 days 00:40:36.293580288</td>\n",
              "    </tr>\n",
              "    <tr>\n",
              "      <th>3</th>\n",
              "      <td>112</td>\n",
              "      <td>2</td>\n",
              "      <td>9</td>\n",
              "      <td>173700</td>\n",
              "      <td>5000</td>\n",
              "      <td>2011-10-01 06:15:39.894000128+00:00</td>\n",
              "      <td>2011-10-01 06:12:59.852052224+00:00</td>\n",
              "      <td>1.768067</td>\n",
              "      <td>10.138437</td>\n",
              "      <td>-1 days +23:57:19.958052096</td>\n",
              "    </tr>\n",
              "    <tr>\n",
              "      <th>4</th>\n",
              "      <td>112</td>\n",
              "      <td>2</td>\n",
              "      <td>6</td>\n",
              "      <td>173700</td>\n",
              "      <td>5000</td>\n",
              "      <td>2011-10-01 06:15:40.102000128+00:00</td>\n",
              "      <td>2011-10-01 06:13:00.939034624+00:00</td>\n",
              "      <td>1.768067</td>\n",
              "      <td>10.138437</td>\n",
              "      <td>-1 days +23:57:20.837034496</td>\n",
              "    </tr>\n",
              "    <tr>\n",
              "      <th>...</th>\n",
              "      <td>...</td>\n",
              "      <td>...</td>\n",
              "      <td>...</td>\n",
              "      <td>...</td>\n",
              "      <td>...</td>\n",
              "      <td>...</td>\n",
              "      <td>...</td>\n",
              "      <td>...</td>\n",
              "      <td>...</td>\n",
              "      <td>...</td>\n",
              "    </tr>\n",
              "    <tr>\n",
              "      <th>64241</th>\n",
              "      <td>10933</td>\n",
              "      <td>2</td>\n",
              "      <td>15</td>\n",
              "      <td>214373</td>\n",
              "      <td>8500</td>\n",
              "      <td>2012-03-01 19:22:40.043000064+00:00</td>\n",
              "      <td>2012-03-05 20:03:25.746461184+00:00</td>\n",
              "      <td>1.510226</td>\n",
              "      <td>17.418679</td>\n",
              "      <td>4 days 00:40:45.703461120</td>\n",
              "    </tr>\n",
              "    <tr>\n",
              "      <th>64242</th>\n",
              "      <td>10933</td>\n",
              "      <td>1</td>\n",
              "      <td>21</td>\n",
              "      <td>214373</td>\n",
              "      <td>8500</td>\n",
              "      <td>2012-03-01 19:22:40.148999936+00:00</td>\n",
              "      <td>2012-03-03 15:39:48.152761344+00:00</td>\n",
              "      <td>1.510226</td>\n",
              "      <td>17.418679</td>\n",
              "      <td>1 days 20:17:08.003761408</td>\n",
              "    </tr>\n",
              "    <tr>\n",
              "      <th>64243</th>\n",
              "      <td>10933</td>\n",
              "      <td>2</td>\n",
              "      <td>19</td>\n",
              "      <td>214373</td>\n",
              "      <td>8500</td>\n",
              "      <td>2012-03-01 19:22:41.156999936+00:00</td>\n",
              "      <td>2012-03-05 16:27:42.340993536+00:00</td>\n",
              "      <td>1.510226</td>\n",
              "      <td>17.418679</td>\n",
              "      <td>3 days 21:05:01.183993600</td>\n",
              "    </tr>\n",
              "    <tr>\n",
              "      <th>64244</th>\n",
              "      <td>11119</td>\n",
              "      <td>0</td>\n",
              "      <td>21</td>\n",
              "      <td>214373</td>\n",
              "      <td>8500</td>\n",
              "      <td>2012-03-10 11:46:22.700000+00:00</td>\n",
              "      <td>2012-03-08 20:03:04.257765376+00:00</td>\n",
              "      <td>1.524417</td>\n",
              "      <td>20.478417</td>\n",
              "      <td>-2 days +08:16:41.557765376</td>\n",
              "    </tr>\n",
              "    <tr>\n",
              "      <th>64245</th>\n",
              "      <td>11119</td>\n",
              "      <td>2</td>\n",
              "      <td>21</td>\n",
              "      <td>214373</td>\n",
              "      <td>8500</td>\n",
              "      <td>2012-03-10 11:50:54.880999936+00:00</td>\n",
              "      <td>2012-03-09 00:15:06.226406400+00:00</td>\n",
              "      <td>1.524417</td>\n",
              "      <td>20.478417</td>\n",
              "      <td>-2 days +12:24:11.345406464</td>\n",
              "    </tr>\n",
              "  </tbody>\n",
              "</table>\n",
              "<p>64246 rows × 10 columns</p>\n",
              "</div>\n",
              "      <button class=\"colab-df-convert\" onclick=\"convertToInteractive('df-7d4c763e-7f8c-4e2b-b7a4-880a2143a8a0')\"\n",
              "              title=\"Convert this dataframe to an interactive table.\"\n",
              "              style=\"display:none;\">\n",
              "        \n",
              "  <svg xmlns=\"http://www.w3.org/2000/svg\" height=\"24px\"viewBox=\"0 0 24 24\"\n",
              "       width=\"24px\">\n",
              "    <path d=\"M0 0h24v24H0V0z\" fill=\"none\"/>\n",
              "    <path d=\"M18.56 5.44l.94 2.06.94-2.06 2.06-.94-2.06-.94-.94-2.06-.94 2.06-2.06.94zm-11 1L8.5 8.5l.94-2.06 2.06-.94-2.06-.94L8.5 2.5l-.94 2.06-2.06.94zm10 10l.94 2.06.94-2.06 2.06-.94-2.06-.94-.94-2.06-.94 2.06-2.06.94z\"/><path d=\"M17.41 7.96l-1.37-1.37c-.4-.4-.92-.59-1.43-.59-.52 0-1.04.2-1.43.59L10.3 9.45l-7.72 7.72c-.78.78-.78 2.05 0 2.83L4 21.41c.39.39.9.59 1.41.59.51 0 1.02-.2 1.41-.59l7.78-7.78 2.81-2.81c.8-.78.8-2.07 0-2.86zM5.41 20L4 18.59l7.72-7.72 1.47 1.35L5.41 20z\"/>\n",
              "  </svg>\n",
              "      </button>\n",
              "      \n",
              "  <style>\n",
              "    .colab-df-container {\n",
              "      display:flex;\n",
              "      flex-wrap:wrap;\n",
              "      gap: 12px;\n",
              "    }\n",
              "\n",
              "    .colab-df-convert {\n",
              "      background-color: #E8F0FE;\n",
              "      border: none;\n",
              "      border-radius: 50%;\n",
              "      cursor: pointer;\n",
              "      display: none;\n",
              "      fill: #1967D2;\n",
              "      height: 32px;\n",
              "      padding: 0 0 0 0;\n",
              "      width: 32px;\n",
              "    }\n",
              "\n",
              "    .colab-df-convert:hover {\n",
              "      background-color: #E2EBFA;\n",
              "      box-shadow: 0px 1px 2px rgba(60, 64, 67, 0.3), 0px 1px 3px 1px rgba(60, 64, 67, 0.15);\n",
              "      fill: #174EA6;\n",
              "    }\n",
              "\n",
              "    [theme=dark] .colab-df-convert {\n",
              "      background-color: #3B4455;\n",
              "      fill: #D2E3FC;\n",
              "    }\n",
              "\n",
              "    [theme=dark] .colab-df-convert:hover {\n",
              "      background-color: #434B5C;\n",
              "      box-shadow: 0px 1px 3px 1px rgba(0, 0, 0, 0.15);\n",
              "      filter: drop-shadow(0px 1px 2px rgba(0, 0, 0, 0.3));\n",
              "      fill: #FFFFFF;\n",
              "    }\n",
              "  </style>\n",
              "\n",
              "      <script>\n",
              "        const buttonEl =\n",
              "          document.querySelector('#df-7d4c763e-7f8c-4e2b-b7a4-880a2143a8a0 button.colab-df-convert');\n",
              "        buttonEl.style.display =\n",
              "          google.colab.kernel.accessAllowed ? 'block' : 'none';\n",
              "\n",
              "        async function convertToInteractive(key) {\n",
              "          const element = document.querySelector('#df-7d4c763e-7f8c-4e2b-b7a4-880a2143a8a0');\n",
              "          const dataTable =\n",
              "            await google.colab.kernel.invokeFunction('convertToInteractive',\n",
              "                                                     [key], {});\n",
              "          if (!dataTable) return;\n",
              "\n",
              "          const docLinkHtml = 'Like what you see? Visit the ' +\n",
              "            '<a target=\"_blank\" href=https://colab.research.google.com/notebooks/data_table.ipynb>data table notebook</a>'\n",
              "            + ' to learn more about interactive tables.';\n",
              "          element.innerHTML = '';\n",
              "          dataTable['output_type'] = 'display_data';\n",
              "          await google.colab.output.renderOutput(dataTable, element);\n",
              "          const docLink = document.createElement('div');\n",
              "          docLink.innerHTML = docLinkHtml;\n",
              "          element.appendChild(docLink);\n",
              "        }\n",
              "      </script>\n",
              "    </div>\n",
              "  </div>\n",
              "  "
            ],
            "text/plain": [
              "      org:resource  ...                  difference\n",
              "0              112  ...   0 days 00:41:16.947901184\n",
              "1              112  ...   0 days 00:41:13.678580224\n",
              "2              112  ...   0 days 00:40:36.293580288\n",
              "3              112  ... -1 days +23:57:19.958052096\n",
              "4              112  ... -1 days +23:57:20.837034496\n",
              "...            ...  ...                         ...\n",
              "64241        10933  ...   4 days 00:40:45.703461120\n",
              "64242        10933  ...   1 days 20:17:08.003761408\n",
              "64243        10933  ...   3 days 21:05:01.183993600\n",
              "64244        11119  ... -2 days +08:16:41.557765376\n",
              "64245        11119  ... -2 days +12:24:11.345406464\n",
              "\n",
              "[64246 rows x 10 columns]"
            ]
          },
          "metadata": {},
          "execution_count": 126
        }
      ]
    },
    {
      "cell_type": "code",
      "source": [
        ""
      ],
      "metadata": {
        "id": "fBH6zANzzpD9"
      },
      "execution_count": null,
      "outputs": []
    }
  ]
}