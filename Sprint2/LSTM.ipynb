{
 "cells": [
  {
   "cell_type": "code",
   "execution_count": 1,
   "metadata": {
    "id": "ioXk0Uhnmnev"
   },
   "outputs": [],
   "source": [
    "# This is used to report the totaal running time of the notebook\n",
    "import time\n",
    "start = time.time()"
   ]
  },
  {
   "cell_type": "code",
   "execution_count": 2,
   "metadata": {
    "id": "For_d3f_CrMJ"
   },
   "outputs": [],
   "source": [
    "# Importing all the packages\n",
    "import io\n",
    "import re\n",
    "import pandas as pd\n",
    "import numpy as np\n",
    "import seaborn as sn\n",
    "import matplotlib.pyplot as plt\n",
    "import sklearn.preprocessing as preprocessing\n",
    "\n",
    "from datetime import timedelta\n",
    "from keras.models import Sequential\n",
    "from keras.models import load_model\n",
    "from keras.layers.recurrent import LSTM\n",
    "from keras.layers import Activation, Dense\n",
    "from sklearn.preprocessing import MinMaxScaler"
   ]
  },
  {
   "cell_type": "code",
   "execution_count": 3,
   "metadata": {
    "id": "z4q9ftyuCtZv"
   },
   "outputs": [],
   "source": [
    "# Defining the paths to the train and test data\n",
    "path_test = 'BPI_Challenge_2012-test.csv'\n",
    "path_train = 'BPI_Challenge_2012-training.csv'"
   ]
  },
  {
   "cell_type": "code",
   "execution_count": 4,
   "metadata": {
    "id": "4qIirvreCvnB"
   },
   "outputs": [],
   "source": [
    "# Importing the test and train data\n",
    "df_train = pd.read_csv (path_train)\n",
    "df_test = pd.read_csv (path_test)"
   ]
  },
  {
   "cell_type": "code",
   "execution_count": 5,
   "metadata": {
    "id": "M34IyIBNCxjf"
   },
   "outputs": [],
   "source": [
    "# This cell \"cleans\" the data by keeping in test set only cases \n",
    "# that started in test and not those that started in train\n",
    "\n",
    "train_cases = list(set(list(df_train['case concept:name'])))\n",
    "test_cases = list(set(list(df_test['case concept:name'])))\n",
    "test_keep = [item for item in test_cases if item not in train_cases]\n",
    "\n",
    "df_test = df_test[df_test['case concept:name'].isin(test_keep)]\n",
    "\n",
    "# df_show will be the df to which we will add the 2 columns and then export\n",
    "df_show = df_test.copy()"
   ]
  },
  {
   "cell_type": "code",
   "execution_count": 6,
   "metadata": {
    "id": "JeWC7H-3DU_C"
   },
   "outputs": [],
   "source": [
    "# Converting sting to timestamp\n",
    "df_train['event time:timestamp']= pd.to_datetime(df_train['event time:timestamp'])\n",
    "\n",
    "# Sorting by first case nr and then by timestamp\n",
    "df_train = df_train.sort_values(by=['case concept:name', 'event time:timestamp'])\n",
    "\n",
    "# Creating a new column with the next activity\n",
    "df_train = df_train.assign(actualaction=(df_train.groupby('case concept:name')['event concept:name'].shift(-1)))\n",
    "\n",
    "# Creating a new column with the actual time of the next activity\n",
    "df_train = df_train.assign(nexttime=(df_train.groupby('case concept:name')['event time:timestamp'].shift(-1)))\n",
    "# Creating a new column with the time remianing until the next activity\n",
    "df_train['tonext'] = (df_train.nexttime - df_train['event time:timestamp']).astype('timedelta64[s]')"
   ]
  },
  {
   "cell_type": "code",
   "execution_count": 7,
   "metadata": {
    "id": "AQ6__B06Cy-u"
   },
   "outputs": [],
   "source": [
    "# Converting sting to timestamp\n",
    "df_test['event time:timestamp']= pd.to_datetime(df_test['event time:timestamp'])\n",
    "\n",
    "# Sorting by first case nr and then by timestamp\n",
    "df_test = df_test.sort_values(by=['case concept:name', 'event time:timestamp'])\n",
    "\n",
    "# Creating a new column with the next activity\n",
    "df_test = df_test.assign(actualaction=(df_test.groupby('case concept:name')['event concept:name'].shift(-1)))\n",
    "\n",
    "# Creating a new column with the actual time of the next activity\n",
    "df_test = df_test.assign(nexttime=(df_test.groupby('case concept:name')['event time:timestamp'].shift(-1)))\n",
    "# Creating a new column with the time remianing until the next activity\n",
    "df_test['tonext'] = (df_test.nexttime - df_test['event time:timestamp']).astype('timedelta64[s]')"
   ]
  },
  {
   "cell_type": "code",
   "execution_count": 8,
   "metadata": {
    "id": "zAur_RcUD0vP"
   },
   "outputs": [],
   "source": [
    "# Preparing the curent action to be one-hot encoded by making them arrays\n",
    "xtrain = df_train['event concept:name']\n",
    "xtrain = xtrain.to_numpy()\n",
    "xtest = df_test['event concept:name']\n",
    "xtest = xtest.to_numpy()\n",
    "x = np.concatenate((xtrain, xtest))"
   ]
  },
  {
   "cell_type": "code",
   "execution_count": 9,
   "metadata": {
    "id": "dnQxZp65EEf1"
   },
   "outputs": [],
   "source": [
    "# Preparing the following action to be one-hot encoded by making them arrays\n",
    "ytrain = df_train['actualaction']\n",
    "ytrain = ytrain.to_numpy()\n",
    "ytest = df_test['actualaction']\n",
    "ytest = ytest.to_numpy()\n",
    "y = np.concatenate((ytrain, ytest))"
   ]
  },
  {
   "cell_type": "code",
   "execution_count": 10,
   "metadata": {
    "id": "R7ZSoPxTEGQH"
   },
   "outputs": [],
   "source": [
    "# Making a huge array with all 4 arrays to be encoded\n",
    "onehot = np.concatenate((x, y))"
   ]
  },
  {
   "cell_type": "code",
   "execution_count": 11,
   "metadata": {
    "id": "fS7mMeLxEUi-"
   },
   "outputs": [],
   "source": [
    "# Encoding the labels and then one-hot encoding the arrays\n",
    "targets = onehot\n",
    "labelEnc = preprocessing.LabelEncoder()\n",
    "new_target = labelEnc.fit_transform(targets.astype(str))\n",
    "onehotEnc = preprocessing.OneHotEncoder()\n",
    "onehotEnc.fit(new_target.reshape(-1, 1))\n",
    "targets_trans = onehotEnc.transform(new_target.reshape(-1, 1))"
   ]
  },
  {
   "cell_type": "code",
   "execution_count": 12,
   "metadata": {
    "id": "zjkV9o4_EWFF"
   },
   "outputs": [],
   "source": [
    "# Assigning the training and test data for the 2 models, the x_train and \n",
    "# x_test will be the same for both and they we encoded them along with the Y \n",
    "# for the activity model, while the Y for the time model come from the tonxt\n",
    "# columns in the datasets and are transformed in arrays\n",
    "\n",
    "x_train = targets_trans.toarray()[:214377]\n",
    "x_test = targets_trans.toarray()[214377:262200]\n",
    "ya_train = targets_trans.toarray()[262200:-47823]\n",
    "ya_test = targets_trans.toarray()[-47823:]\n",
    "yt_train = df_train.tonext.fillna(0).to_numpy()\n",
    "yt_test = df_test.tonext.fillna(0).to_numpy()"
   ]
  },
  {
   "cell_type": "code",
   "execution_count": null,
   "metadata": {
    "id": "ciUeqaHUE0q_"
   },
   "outputs": [],
   "source": []
  },
  {
   "cell_type": "code",
   "execution_count": 13,
   "metadata": {
    "id": "Pq7w_A8BE27W"
   },
   "outputs": [
    {
     "data": {
      "text/plain": [
       "MinMaxScaler()"
      ]
     },
     "execution_count": 13,
     "metadata": {},
     "output_type": "execute_result"
    }
   ],
   "source": [
    "# We initialize a scaler for the Y of the time model and fit it\n",
    "scaler = MinMaxScaler(feature_range=(0, 1))\n",
    "scaler.fit(np.concatenate((yt_train, yt_test)).reshape(-1, 1))"
   ]
  },
  {
   "cell_type": "code",
   "execution_count": 14,
   "metadata": {
    "id": "l7aBhKJvEkwv"
   },
   "outputs": [],
   "source": [
    "# We trasform using the scaler the y_train and y_test for the time model\n",
    "yt_test = scaler.transform(yt_test.reshape(-1, 1))\n",
    "yt_train = scaler.transform(yt_train.reshape(-1, 1))"
   ]
  },
  {
   "cell_type": "code",
   "execution_count": null,
   "metadata": {},
   "outputs": [],
   "source": []
  },
  {
   "cell_type": "code",
   "execution_count": 15,
   "metadata": {
    "id": "yrQRn-8ZGHZF"
   },
   "outputs": [],
   "source": [
    "demo = 1\n",
    "\n",
    "if demo == 0:\n",
    "    # This is the model for the next activity\n",
    "    model_activity = Sequential()\n",
    "    model_activity.add(LSTM(32, input_shape=(25,1)))\n",
    "    model_activity.add(Dense(25))\n",
    "\n",
    "    # Here we compile the next activity model\n",
    "    model_activity.compile(optimizer='adam', loss='mean_squared_error',metrics=['acc'])\n",
    "\n",
    "    # This is the model for the time prediction\n",
    "    model_time = Sequential()\n",
    "    model_time.add(LSTM(32, input_shape=(25,1)))\n",
    "    model_time.add(Dense(1))\n",
    "\n",
    "    # Here we compile the model for the time prediction\n",
    "    model_time.compile(optimizer='adam', loss='mean_squared_error',metrics=['acc'])\n",
    "\n",
    "    # Here we fit the models using a batch size of 64 and 10 epochs\n",
    "    model_time.fit(x_train, yt_train, epochs=10, batch_size=64)\n",
    "    model_activity.fit(x_train, ya_train, epochs=10, batch_size=64)\n",
    "\n",
    "    # Saving the models\n",
    "    model_activity.save('activity.h5')\n",
    "    model_time.save('time.h5')\n",
    "\n",
    "else:\n",
    "    # Loading the models\n",
    "    model_activity = load_model('activity.h5')\n",
    "    model_time = load_model('time.h5')"
   ]
  },
  {
   "cell_type": "code",
   "execution_count": null,
   "metadata": {},
   "outputs": [],
   "source": []
  },
  {
   "cell_type": "code",
   "execution_count": 16,
   "metadata": {
    "id": "J6RUHSwRGxt-"
   },
   "outputs": [],
   "source": [
    "# We predict the next activity and the time using the 2 models\n",
    "predicted_activity = model_activity.predict(x_test)\n",
    "predicted_time = model_time.predict(x_test)"
   ]
  },
  {
   "cell_type": "code",
   "execution_count": 17,
   "metadata": {
    "id": "OOVzU1pAIieN"
   },
   "outputs": [],
   "source": [
    "# We create a new array of the size of the ya_test and we then transform the \n",
    "# predicted_activity into the same format as an array outputed by the one-hot\n",
    "# encoding so we can then inverse transform it and get the categorization\n",
    "\n",
    "max_index_row = np.argmax(predicted_activity, axis=1)\n",
    "convpred = np.zeros(predicted_activity.shape)\n",
    "\n",
    "for i in range (convpred.shape[0]):\n",
    "  j = max_index_row[i]\n",
    "  convpred[i][j] = 1\n",
    "    \n",
    "newarray = np.concatenate((x_train, convpred, ya_train, ya_test))\n",
    "invers_conv = onehotEnc.inverse_transform(newarray)"
   ]
  },
  {
   "cell_type": "code",
   "execution_count": 18,
   "metadata": {
    "id": "Tt2frv6DaWYy"
   },
   "outputs": [],
   "source": [
    "# We get the name mapping fro the activity labels and the inverse of the dict\n",
    "activity_name_mapping = dict(zip(labelEnc.classes_, labelEnc.transform(labelEnc.classes_)))\n",
    "inv_activity_name_mapping = {v: k for k, v in activity_name_mapping.items()}"
   ]
  },
  {
   "cell_type": "code",
   "execution_count": 19,
   "metadata": {
    "id": "AvOkAMLFJU-V"
   },
   "outputs": [],
   "source": [
    "# We define the 2 arrays containing the actual prediction and real next action\n",
    "actpred = invers_conv[214377:262200]\n",
    "actreal = invers_conv[-47823:]"
   ]
  },
  {
   "cell_type": "code",
   "execution_count": 20,
   "metadata": {
    "id": "L0NmuO1CJa-G"
   },
   "outputs": [],
   "source": [
    "# We create a df out of the 2 arrays\n",
    "df_conf = pd.DataFrame(np.concatenate((actpred, actreal), axis = 1), columns=['pred', 'real'])"
   ]
  },
  {
   "cell_type": "code",
   "execution_count": 21,
   "metadata": {
    "id": "cZ__lTyZjQaB"
   },
   "outputs": [],
   "source": [
    "# Using the inverse dictionary we map back the predicted activity\n",
    "df_conf['Predicted Activity'] = df_conf.pred.replace(inv_activity_name_mapping)"
   ]
  },
  {
   "cell_type": "code",
   "execution_count": 22,
   "metadata": {
    "id": "Ltt-arYDKsEa"
   },
   "outputs": [
    {
     "data": {
      "image/png": "[encoded data removed]",
      "text/plain": [
       "<Figure size 720x504 with 2 Axes>"
      ]
     },
     "metadata": {
      "needs_background": "light"
     },
     "output_type": "display_data"
    }
   ],
   "source": [
    "# We create a confusion matrix of what it should be vs what it was predicted as\n",
    "confusion_matrix = pd.crosstab(df_conf.real, df_conf.pred, rownames=['Actual'], colnames=['Predicted'])\n",
    "plt.figure(figsize=(10,7))\n",
    "sn.set(font_scale=.7) # for label size\n",
    "sn.heatmap(confusion_matrix) # font size\n",
    "\n",
    "plt.show()"
   ]
  },
  {
   "cell_type": "code",
   "execution_count": 23,
   "metadata": {
    "id": "JoXmN9kWKtiC"
   },
   "outputs": [],
   "source": [
    "# We get the percentage of activities that were predicted corect\n",
    "accuracy_activity = 100 *len(df_conf[df_conf.pred == df_conf.real]) / len(df_conf)"
   ]
  },
  {
   "cell_type": "code",
   "execution_count": null,
   "metadata": {
    "id": "b8VmmI8RKz6x"
   },
   "outputs": [],
   "source": []
  },
  {
   "cell_type": "code",
   "execution_count": 24,
   "metadata": {
    "id": "Q4XA9r9VLAmv"
   },
   "outputs": [],
   "source": [
    "# We transform the predicted time and the actual time back into seconds\n",
    "timepred = scaler.inverse_transform(predicted_time)\n",
    "timereal = scaler.inverse_transform(yt_test)"
   ]
  },
  {
   "cell_type": "code",
   "execution_count": 25,
   "metadata": {
    "id": "m4GDc_kYLPMf"
   },
   "outputs": [],
   "source": [
    "# We create a data frame using the 2 transformed times\n",
    "temp = pd.DataFrame(np.concatenate((timepred, timereal), axis = 1), columns=['spred', 'sreal'])"
   ]
  },
  {
   "cell_type": "code",
   "execution_count": 26,
   "metadata": {
    "id": "7UUKEOjbgmj0"
   },
   "outputs": [],
   "source": [
    "# We get the timestamp of the activity from df_test and then create the \n",
    "# predicted timestamp using the predicted wait time in second\n",
    "temp['ts'] = df_test['event time:timestamp']\n",
    "temp['ctsp'] = temp.ts + temp.spred.astype('timedelta64[s]')"
   ]
  },
  {
   "cell_type": "code",
   "execution_count": 27,
   "metadata": {
    "id": "zzs5Lo5sLkYu"
   },
   "outputs": [],
   "source": [
    "# We calulate the differences between prediction and real in sec, min, hours\n",
    "temp['sdif'] = temp.sreal - temp.spred\n",
    "temp['mdif'] = temp.sdif/60\n",
    "temp['hdif'] = temp.mdif/60"
   ]
  },
  {
   "cell_type": "code",
   "execution_count": 28,
   "metadata": {
    "id": "c2wNrSqpL5fl"
   },
   "outputs": [],
   "source": [
    "# We calculate the MSE, MAE and accuracy withinh various times\n",
    "msehours = (temp.hdif ** 2).mean()\n",
    "meanhours = temp.hdif.mean() \n",
    "maehours = (abs(temp.hdif)).mean()\n",
    "per30min = 100 * len(temp[abs(temp.mdif) - 30 < 0]) / len(temp)\n",
    "per2d = 100 * len(temp[abs(temp.mdif) - 60*48 < 0]) / len(temp)\n",
    "per1d = 100 * len(temp[abs(temp.mdif) - 60*24 < 0]) / len(temp)\n",
    "per12h = 100 * len(temp[abs(temp.mdif) - 60*12 < 0]) / len(temp)\n",
    "per6h = 100 * len(temp[abs(temp.mdif) - 60*6 < 0]) / len(temp)\n",
    "per1h = 100 * len(temp[abs(temp.mdif) - 60 < 0]) / len(temp)\n",
    "per5m = 100 * len(temp[abs(temp.mdif) - 5 < 0]) / len(temp)\n",
    "per10m = 100 * len(temp[abs(temp.mdif) - 10 < 0]) / len(temp)\n",
    "per20m = 100 * len(temp[abs(temp.mdif) - 20 < 0]) / len(temp)"
   ]
  },
  {
   "cell_type": "code",
   "execution_count": 33,
   "metadata": {
    "id": "E8Qc4JiCL-h3"
   },
   "outputs": [
    {
     "name": "stdout",
     "output_type": "stream",
     "text": [
      "MSE hours: 267292.786\n",
      "MAE hours: 154.0\n",
      "mean hours: 25.796\n",
      "percentage predicted within +- 2 days: 43.44%\n",
      "percentage predicted within +- 1 day: 42.73%\n",
      "percentage predicted within +- 12 hours: 33.25%\n",
      "percentage predicted within +- 6 hours: 1.11%\n",
      "percentage actions predicted correctly: 61.64%\n"
     ]
    }
   ],
   "source": [
    "print(f'MSE hours: {round(msehours,3)}')\n",
    "print(f'MAE hours: {round(maehours,3)}')\n",
    "print(f'mean hours: {round(meanhours,3)}')\n",
    "print(f'percentage predicted within +- 2 days: {round(per2d, 2)}%')\n",
    "print(f'percentage predicted within +- 1 day: {round(per1d, 2)}%')\n",
    "print(f'percentage predicted within +- 12 hours: {round(per12h, 2)}%')\n",
    "print(f'percentage predicted within +- 6 hours: {round(per6h, 2)}%')\n",
    "# print(f'percentage predicted within +- 1 hour: {round(per1h, 2)}%')\n",
    "# print(f'percentage predicted within +- 30 min: {round(per30min, 2)}%')\n",
    "# print(f'percentage predicted within +- 20 min: {round(per20m, 2)}%')\n",
    "# print(f'percentage predicted within +- 10 min: {round(per10m, 2)}%')\n",
    "# print(f'percentage predicted within +- 5 min: {round(per5m, 2)}%')\n",
    "\n",
    "print(f'percentage actions predicted correctly: {round(accuracy_activity, 2)}%')"
   ]
  },
  {
   "cell_type": "code",
   "execution_count": null,
   "metadata": {
    "id": "cOraDJApL-Y5"
   },
   "outputs": [],
   "source": []
  },
  {
   "cell_type": "code",
   "execution_count": 30,
   "metadata": {
    "id": "UL9A_Pe7fiqV"
   },
   "outputs": [],
   "source": [
    "# We add the 2 predicted columns in the show df and then export it\n",
    "df_show['Predicted Activity'] = df_conf['Predicted Activity']\n",
    "df_show['Predicted Time Stamp'] = temp['ctsp']"
   ]
  },
  {
   "cell_type": "code",
   "execution_count": 31,
   "metadata": {
    "id": "Rv0yIfP1hYnr"
   },
   "outputs": [],
   "source": [
    "df_show.to_csv('prediction_test.csv')"
   ]
  },
  {
   "cell_type": "code",
   "execution_count": 32,
   "metadata": {
    "id": "EQqHU8twhaDc"
   },
   "outputs": [
    {
     "name": "stdout",
     "output_type": "stream",
     "text": [
      "--- 34.57770252227783 seconds ---\n",
      "--- 0.5763116757074992 minutes ---\n"
     ]
    }
   ],
   "source": [
    "print(\"--- %s seconds ---\" % (time.time() - start))\n",
    "print(\"--- %s minutes ---\" % ((time.time() - start)/60))"
   ]
  }
 ],
 "metadata": {
  "colab": {
   "collapsed_sections": [],
   "name": "LSTM.ipynb",
   "provenance": []
  },
  "kernelspec": {
   "display_name": "Python 3",
   "language": "python",
   "name": "python3"
  },
  "language_info": {
   "codemirror_mode": {
    "name": "ipython",
    "version": 3
   },
   "file_extension": ".py",
   "mimetype": "text/x-python",
   "name": "python",
   "nbconvert_exporter": "python",
   "pygments_lexer": "ipython3",
   "version": "3.7.6"
  }
 },
 "nbformat": 4,
 "nbformat_minor": 1
}
